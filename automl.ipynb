{
 "cells": [
  {
   "cell_type": "markdown",
   "metadata": {},
   "source": [
    "# Automated ML\n",
    "\n",
    "TODO: Import Dependencies. In the cell below, import all the dependencies that you will need to complete the project."
   ]
  },
  {
   "cell_type": "code",
   "execution_count": 1,
   "metadata": {
    "collapsed": true,
    "gather": {
     "logged": 1621043202782
    },
    "jupyter": {
     "outputs_hidden": false,
     "source_hidden": false
    },
    "nteract": {
     "transient": {
      "deleting": false
     }
    }
   },
   "outputs": [],
   "source": [
    "import os\n",
    "from azureml.core import Workspace, Experiment, Dataset\n",
    "from azureml.core.compute import ComputeTarget, AmlCompute\n",
    "from azureml.widgets import RunDetails\n",
    "import joblib\n",
    "\n",
    "import pandas as pd\n",
    "\n",
    "import numpy as np\n",
    "from azureml.train.automl import AutoMLConfig\n",
    "from sklearn.feature_extraction.text import CountVectorizer\n",
    "from sklearn.model_selection import train_test_split\n",
    "from train import clean_text, clean_df, preprocess_text\n",
    "\n",
    "from azureml.data.dataset_factory import TabularDatasetFactory\n",
    "from azureml.core.model import InferenceConfig\n",
    "from azureml.core.webservice import AciWebservice, Webservice\n",
    "from azureml.core.model import Model\n",
    "from azureml.core.environment import Environment"
   ]
  },
  {
   "cell_type": "markdown",
   "metadata": {},
   "source": [
    "## Dataset\n",
    "\n",
    "### Overview\n",
    "TODO: In this markdown cell, give an overview of the dataset you are using. Also mention the task you will be performing.\n",
    "\n",
    "\n",
    "TODO: Get data. In the cell below, write code to access the data you will be using in this project. Remember that the dataset needs to be external."
   ]
  },
  {
   "cell_type": "code",
   "execution_count": 2,
   "metadata": {
    "gather": {
     "logged": 1621043219295
    },
    "jupyter": {
     "outputs_hidden": false,
     "source_hidden": false
    },
    "nteract": {
     "transient": {
      "deleting": false
     }
    }
   },
   "outputs": [],
   "source": [
    "\n",
    "data1 = pd.read_csv('Data/data_part1.csv')\n",
    "data2 = pd.read_csv('Data/data_part2.csv')\n",
    "data3 = pd.read_csv('Data/data_part3.csv')\n",
    "dataset = data1.append(data2).append(data3)\n",
    "\n",
    "dataset = clean_df(dataset)\n",
    "dataset['text'] = dataset['text'].apply(clean_text)\n",
    "\n",
    "X = preprocess_text(dataset['text'].tolist())\n",
    "y = dataset['y'].to_numpy()\n",
    "X_trainval, X_test, y_trainval, y_test = train_test_split(\n",
    "    X, y, test_size=0.33, random_state=42)\n",
    "\n",
    "X_train, X_val, y_train, y_val = train_test_split(\n",
    "    X_trainval, y_trainval, test_size=0.15, random_state=42)\n",
    "\n",
    "\n",
    "train_dataset = pd.DataFrame(X_train)\n",
    "train_dataset.columns= \"X\" + train_dataset.columns.astype(str)\n",
    "train_dataset['y'] = y_train\n",
    "\n",
    "val_dataset = pd.DataFrame(X_val)\n",
    "val_dataset.columns= \"X\" + val_dataset.columns.astype(str)\n",
    "val_dataset['y'] = y_val\n",
    "\n",
    "test_dataset = pd.DataFrame(X_test)\n",
    "test_dataset.columns= \"X\" + test_dataset.columns.astype(str)\n",
    "test_dataset['y'] = y_test\n",
    "\n",
    "if not os.path.isdir('clean_data'):\n",
    "    os.mkdir('clean_data')\n",
    "\n",
    "train_dataset.to_csv(\"clean_data/train_dataset.csv\", index=False)\n",
    "val_dataset.to_csv(\"clean_data/val_dataset.csv\", index=False)\n",
    "test_dataset.to_csv(\"clean_data/test_dataset.csv\", index=False)\n",
    "\n"
   ]
  },
  {
   "cell_type": "code",
   "execution_count": 9,
   "metadata": {
    "gather": {
     "logged": 1621043259468
    },
    "jupyter": {
     "outputs_hidden": false,
     "source_hidden": false
    },
    "nteract": {
     "transient": {
      "deleting": false
     }
    }
   },
   "outputs": [
    {
     "data": {
      "text/plain": [
       "Index(['X0', 'X1', 'X2', 'X3', 'X4', 'X5', 'X6', 'X7', 'X8', 'X9',\n",
       "       ...\n",
       "       'X278', 'X279', 'X280', 'X281', 'X282', 'X283', 'X284', 'X285', 'X286',\n",
       "       'y'],\n",
       "      dtype='object', length=288)"
      ]
     },
     "execution_count": 9,
     "metadata": {},
     "output_type": "execute_result"
    }
   ],
   "source": [
    "train_dataset.columns"
   ]
  },
  {
   "cell_type": "code",
   "execution_count": 4,
   "metadata": {
    "gather": {
     "logged": 1621043220481
    },
    "jupyter": {
     "outputs_hidden": false,
     "source_hidden": false
    },
    "nteract": {
     "transient": {
      "deleting": false
     }
    }
   },
   "outputs": [],
   "source": [
    "ws = Workspace.from_config()\n",
    "\n",
    "# choose a name for experiment\n",
    "experiment_name = 'Capstone-AutoML'\n",
    "\n",
    "experiment=Experiment(ws, experiment_name)\n",
    "\n"
   ]
  },
  {
   "cell_type": "code",
   "execution_count": 5,
   "metadata": {
    "collapsed": true,
    "gather": {
     "logged": 1621043221180
    },
    "jupyter": {
     "outputs_hidden": false,
     "source_hidden": false
    },
    "nteract": {
     "transient": {
      "deleting": false
     }
    }
   },
   "outputs": [
    {
     "name": "stdout",
     "output_type": "stream",
     "text": [
      "Uploading an estimated of 3 files\n",
      "Uploading ./clean_data/test_dataset.csv\n",
      "Uploaded ./clean_data/test_dataset.csv, 1 files out of an estimated total of 3\n",
      "Uploading ./clean_data/train_dataset.csv\n",
      "Uploaded ./clean_data/train_dataset.csv, 2 files out of an estimated total of 3\n",
      "Uploading ./clean_data/val_dataset.csv\n",
      "Uploaded ./clean_data/val_dataset.csv, 3 files out of an estimated total of 3\n",
      "Uploaded 3 files\n"
     ]
    },
    {
     "data": {
      "text/plain": [
       "$AZUREML_DATAREFERENCE_ade94e21883a4312b44064e6bf1b5bf3"
      ]
     },
     "execution_count": 5,
     "metadata": {},
     "output_type": "execute_result"
    }
   ],
   "source": [
    "ds = ws.get_default_datastore()\n",
    "ds.upload(src_dir='./clean_data', target_path='automldata', overwrite=True, show_progress=True)\n"
   ]
  },
  {
   "cell_type": "code",
   "execution_count": 6,
   "metadata": {
    "collapsed": true,
    "gather": {
     "logged": 1621043228384
    },
    "jupyter": {
     "outputs_hidden": false,
     "source_hidden": false
    },
    "nteract": {
     "transient": {
      "deleting": false
     }
    }
   },
   "outputs": [],
   "source": [
    "train_data = Dataset.Tabular.from_delimited_files(path=ds.path('automldata/train_dataset.csv'))\n",
    "val_data = Dataset.Tabular.from_delimited_files(path=ds.path('automldata/val_dataset.csv'))\n",
    "\n",
    "test_data = Dataset.Tabular.from_delimited_files(path=ds.path('automldata/test_dataset.csv'))\n",
    "\n",
    "    "
   ]
  },
  {
   "cell_type": "code",
   "execution_count": 7,
   "metadata": {
    "collapsed": true,
    "gather": {
     "logged": 1621043234375
    },
    "jupyter": {
     "outputs_hidden": false,
     "source_hidden": false
    },
    "nteract": {
     "transient": {
      "deleting": false
     }
    }
   },
   "outputs": [],
   "source": [
    "run = experiment.start_logging()"
   ]
  },
  {
   "cell_type": "code",
   "execution_count": 8,
   "metadata": {
    "collapsed": true,
    "gather": {
     "logged": 1621043234705
    },
    "jupyter": {
     "outputs_hidden": false,
     "source_hidden": false
    },
    "nteract": {
     "transient": {
      "deleting": false
     }
    }
   },
   "outputs": [
    {
     "name": "stdout",
     "output_type": "stream",
     "text": [
      "Found an existing compute target.\n",
      "Succeeded\n",
      "AmlCompute wait for completion finished\n",
      "\n",
      "Minimum number of nodes requested have been provisioned\n"
     ]
    }
   ],
   "source": [
    "udacity_compute_name = 'comp-capstone'\n",
    "\n",
    "compute_config = AmlCompute.provisioning_configuration(vm_size='Standard_D2_V2', max_nodes=4)\n",
    "\n",
    "\n",
    "try:\n",
    "    compute_target = ComputeTarget(workspace=ws, name=udacity_compute_name)\n",
    "    print(\"Found an existing compute target.\")\n",
    "except:\n",
    "    compute_target = ComputeTarget.create(workspace=ws, \n",
    "    name=udacity_compute_name, provisioning_configuration=compute_config)\n",
    "    print(\"Creating a new compute target.\")\n",
    "\n",
    "compute_target.wait_for_completion(show_output=True)"
   ]
  },
  {
   "cell_type": "markdown",
   "metadata": {},
   "source": [
    "## AutoML Configuration\n",
    "\n",
    "TODO: Explain why you chose the automl settings and cofiguration you used below."
   ]
  },
  {
   "cell_type": "code",
   "execution_count": 10,
   "metadata": {
    "gather": {
     "logged": 1621043264989
    },
    "jupyter": {
     "outputs_hidden": false,
     "source_hidden": false
    },
    "nteract": {
     "transient": {
      "deleting": false
     }
    }
   },
   "outputs": [],
   "source": [
    "# TODO: Put your automl settings here\n",
    "automl_settings = {\n",
    "    'experiment_timeout_minutes': 30,\n",
    "    'task': 'classification',\n",
    "    'primary_metric': 'AUC_weighted',\n",
    "}\n",
    "\n",
    "# TODO: Put your automl config here\n",
    "automl_config = AutoMLConfig(\n",
    "    \n",
    "    training_data=train_data,\n",
    "    validation_data=val_data,\n",
    "    label_column_name='y',\n",
    "    compute_target=compute_target,\n",
    "    **automl_settings)\n",
    "\n"
   ]
  },
  {
   "cell_type": "code",
   "execution_count": 11,
   "metadata": {
    "gather": {
     "logged": 1621045735400
    },
    "jupyter": {
     "outputs_hidden": false,
     "source_hidden": false
    },
    "nteract": {
     "transient": {
      "deleting": false
     }
    }
   },
   "outputs": [
    {
     "name": "stdout",
     "output_type": "stream",
     "text": [
      "Submitting remote run.\n",
      "No run_configuration provided, running on comp-capstone with default configuration\n",
      "Running on remote compute: comp-capstone\n"
     ]
    },
    {
     "data": {
      "text/html": [
       "<table style=\"width:100%\"><tr><th>Experiment</th><th>Id</th><th>Type</th><th>Status</th><th>Details Page</th><th>Docs Page</th></tr><tr><td>Capstone-AutoML</td><td>AutoML_683a1772-a4d9-48e6-9620-4b70c81abe0a</td><td>automl</td><td>NotStarted</td><td><a href=\"https://ml.azure.com/runs/AutoML_683a1772-a4d9-48e6-9620-4b70c81abe0a?wsid=/subscriptions/48a74bb7-9950-4cc1-9caa-5d50f995cc55/resourcegroups/aml-quickstarts-144838/workspaces/quick-starts-ws-144838&amp;tid=660b3398-b80e-49d2-bc5b-ac1dc93b5254\" target=\"_blank\" rel=\"noopener\">Link to Azure Machine Learning studio</a></td><td><a href=\"https://docs.microsoft.com/en-us/python/api/overview/azure/ml/intro?view=azure-ml-py\" target=\"_blank\" rel=\"noopener\">Link to Documentation</a></td></tr></table>"
      ],
      "text/plain": [
       "<IPython.core.display.HTML object>"
      ]
     },
     "metadata": {},
     "output_type": "display_data"
    },
    {
     "name": "stdout",
     "output_type": "stream",
     "text": [
      "\n",
      "Current status: FeaturesGeneration. Generating features for the dataset.\n",
      "Current status: DatasetFeaturization. Beginning to fit featurizers and featurize the dataset.\n",
      "Current status: DatasetFeaturizationCompleted. Completed fit featurizers and featurizing the dataset.\n",
      "Current status: ModelSelection. Beginning model selection.\n",
      "\n",
      "****************************************************************************************************\n",
      "DATA GUARDRAILS: \n",
      "\n",
      "TYPE:         Class balancing detection\n",
      "STATUS:       PASSED\n",
      "DESCRIPTION:  Your inputs were analyzed, and all classes are balanced in your training data.\n",
      "              Learn more about imbalanced data: https://aka.ms/AutomatedMLImbalancedData\n",
      "\n",
      "****************************************************************************************************\n",
      "\n",
      "TYPE:         Missing feature values imputation\n",
      "STATUS:       PASSED\n",
      "DESCRIPTION:  No feature missing values were detected in the training data.\n",
      "              Learn more about missing value imputation: https://aka.ms/AutomatedMLFeaturization\n",
      "\n",
      "****************************************************************************************************\n",
      "\n",
      "TYPE:         High cardinality feature detection\n",
      "STATUS:       PASSED\n",
      "DESCRIPTION:  Your inputs were analyzed, and no high cardinality features were detected.\n",
      "              Learn more about high cardinality feature handling: https://aka.ms/AutomatedMLFeaturization\n",
      "\n",
      "****************************************************************************************************\n",
      "\n",
      "****************************************************************************************************\n",
      "ITERATION: The iteration being evaluated.\n",
      "PIPELINE: A summary description of the pipeline being evaluated.\n",
      "DURATION: Time taken for the current iteration.\n",
      "METRIC: The result of computing score on the fitted pipeline.\n",
      "BEST: The best observed score thus far.\n",
      "****************************************************************************************************\n",
      "\n",
      " ITERATION   PIPELINE                                       DURATION      METRIC      BEST\n",
      "         0   MaxAbsScaler LightGBM                          0:00:50       0.8617    0.8617\n",
      "         1   MaxAbsScaler XGBoostClassifier                 0:01:00       0.8435    0.8617\n",
      "         2   MaxAbsScaler RandomForest                      0:00:44       0.7874    0.8617\n",
      "         3   MaxAbsScaler RandomForest                      0:00:47       0.7897    0.8617\n",
      "         4   MaxAbsScaler RandomForest                      0:00:48       0.7173    0.8617\n",
      "         5   MaxAbsScaler ExtremeRandomTrees                0:00:47       0.7492    0.8617\n",
      "         6   MaxAbsScaler ExtremeRandomTrees                0:00:53       0.7871    0.8617\n",
      "         7   MaxAbsScaler ExtremeRandomTrees                0:00:44       0.8098    0.8617\n",
      "         8   MaxAbsScaler RandomForest                      0:00:47       0.7971    0.8617\n",
      "         9   MaxAbsScaler ExtremeRandomTrees                0:00:51       0.7819    0.8617\n",
      "        10   MaxAbsScaler RandomForest                      0:00:44       0.7766    0.8617\n",
      "        11   MaxAbsScaler RandomForest                      0:00:44       0.6780    0.8617\n",
      "        12   MaxAbsScaler RandomForest                      0:00:47       0.7311    0.8617\n",
      "        13   StandardScalerWrapper XGBoostClassifier        0:00:50       0.7940    0.8617\n",
      "        14   MaxAbsScaler RandomForest                      0:00:50       0.7190    0.8617\n",
      "        15   StandardScalerWrapper ExtremeRandomTrees       0:00:56       0.6537    0.8617\n",
      "        16   MaxAbsScaler ExtremeRandomTrees                0:00:50       0.7541    0.8617\n",
      "        17   MaxAbsScaler ExtremeRandomTrees                0:00:45       0.7811    0.8617\n",
      "        18   MaxAbsScaler RandomForest                      0:00:42       0.6998    0.8617\n",
      "        19   StandardScalerWrapper LightGBM                 0:00:50       0.8286    0.8617\n",
      "        20   StandardScalerWrapper LogisticRegression       0:00:54       0.8562    0.8617\n",
      "        21   MaxAbsScaler ExtremeRandomTrees                0:00:48       0.8085    0.8617\n",
      "        22   MaxAbsScaler LightGBM                          0:00:50       0.8601    0.8617\n",
      "        23   MaxAbsScaler SGD                               0:01:00       0.8446    0.8617\n",
      "        24   TruncatedSVDWrapper XGBoostClassifier          0:00:59       0.7676    0.8617\n",
      "        25   MaxAbsScaler LightGBM                          0:00:47       0.6810    0.8617\n",
      "        26   SparseNormalizer LightGBM                      0:00:47       0.7937    0.8617\n",
      "        27   MaxAbsScaler LogisticRegression                0:01:22       0.8486    0.8617\n",
      "        28   StandardScalerWrapper LogisticRegression       0:01:28       0.8562    0.8617\n",
      "        29    VotingEnsemble                                0:01:00       0.8672    0.8672\n",
      "        30    StackEnsemble                                 0:02:12       0.8659    0.8672\n"
     ]
    }
   ],
   "source": [
    "# TODO: Submit your experiment\n",
    "automl_run = experiment.submit(automl_config, show_output=True)"
   ]
  },
  {
   "cell_type": "markdown",
   "metadata": {},
   "source": [
    "## Run Details\n",
    "\n",
    "OPTIONAL: Write about the different models trained and their performance. Why do you think some models did better than others?\n",
    "\n",
    "TODO: In the cell below, use the `RunDetails` widget to show the different experiments."
   ]
  },
  {
   "cell_type": "code",
   "execution_count": 12,
   "metadata": {
    "gather": {
     "logged": 1621045736538
    },
    "jupyter": {
     "outputs_hidden": false,
     "source_hidden": false
    },
    "nteract": {
     "transient": {
      "deleting": false
     }
    }
   },
   "outputs": [
    {
     "data": {
      "application/vnd.jupyter.widget-view+json": {
       "model_id": "b63184b26347451ea29d0fdc9d38ec0e",
       "version_major": 2,
       "version_minor": 0
      },
      "text/plain": [
       "_AutoMLWidget(widget_settings={'childWidgetDisplay': 'popup', 'send_telemetry': False, 'log_level': 'INFO', 's…"
      ]
     },
     "metadata": {},
     "output_type": "display_data"
    },
    {
     "data": {
      "application/aml.mini.widget.v1": "{\"status\": \"Completed\", \"workbench_run_details_uri\": \"https://ml.azure.com/runs/AutoML_683a1772-a4d9-48e6-9620-4b70c81abe0a?wsid=/subscriptions/48a74bb7-9950-4cc1-9caa-5d50f995cc55/resourcegroups/aml-quickstarts-144838/workspaces/quick-starts-ws-144838&tid=660b3398-b80e-49d2-bc5b-ac1dc93b5254\", \"run_id\": \"AutoML_683a1772-a4d9-48e6-9620-4b70c81abe0a\", \"run_properties\": {\"run_id\": \"AutoML_683a1772-a4d9-48e6-9620-4b70c81abe0a\", \"created_utc\": \"2021-05-15T01:47:57.376455Z\", \"properties\": {\"num_iterations\": \"1000\", \"training_type\": \"TrainFull\", \"acquisition_function\": \"EI\", \"primary_metric\": \"AUC_weighted\", \"train_split\": \"0\", \"acquisition_parameter\": \"0\", \"num_cross_validation\": null, \"target\": \"comp-capstone\", \"AMLSettingsJsonString\": \"{\\\"path\\\":null,\\\"name\\\":\\\"Capstone-AutoML\\\",\\\"subscription_id\\\":\\\"48a74bb7-9950-4cc1-9caa-5d50f995cc55\\\",\\\"resource_group\\\":\\\"aml-quickstarts-144838\\\",\\\"workspace_name\\\":\\\"quick-starts-ws-144838\\\",\\\"region\\\":\\\"southcentralus\\\",\\\"compute_target\\\":\\\"comp-capstone\\\",\\\"spark_service\\\":null,\\\"azure_service\\\":\\\"remote\\\",\\\"many_models\\\":false,\\\"pipeline_fetch_max_batch_size\\\":1,\\\"enable_batch_run\\\":false,\\\"enable_run_restructure\\\":false,\\\"start_auxiliary_runs_before_parent_complete\\\":false,\\\"iterations\\\":1000,\\\"primary_metric\\\":\\\"AUC_weighted\\\",\\\"task_type\\\":\\\"classification\\\",\\\"data_script\\\":null,\\\"test_size\\\":0.0,\\\"validation_size\\\":0.0,\\\"n_cross_validations\\\":null,\\\"y_min\\\":null,\\\"y_max\\\":null,\\\"num_classes\\\":null,\\\"featurization\\\":\\\"auto\\\",\\\"_ignore_package_version_incompatibilities\\\":false,\\\"is_timeseries\\\":false,\\\"max_cores_per_iteration\\\":1,\\\"max_concurrent_iterations\\\":1,\\\"iteration_timeout_minutes\\\":null,\\\"mem_in_mb\\\":null,\\\"enforce_time_on_windows\\\":false,\\\"experiment_timeout_minutes\\\":30,\\\"experiment_exit_score\\\":null,\\\"whitelist_models\\\":null,\\\"blacklist_algos\\\":[\\\"TensorFlowLinearClassifier\\\",\\\"TensorFlowDNN\\\"],\\\"supported_models\\\":[\\\"LogisticRegression\\\",\\\"MultinomialNaiveBayes\\\",\\\"BernoulliNaiveBayes\\\",\\\"SVM\\\",\\\"TensorFlowLinearClassifier\\\",\\\"DecisionTree\\\",\\\"AveragedPerceptronClassifier\\\",\\\"LightGBM\\\",\\\"XGBoostClassifier\\\",\\\"LinearSVM\\\",\\\"KNN\\\",\\\"GradientBoosting\\\",\\\"TensorFlowDNN\\\",\\\"SGD\\\",\\\"RandomForest\\\",\\\"ExtremeRandomTrees\\\"],\\\"private_models\\\":[],\\\"auto_blacklist\\\":true,\\\"blacklist_samples_reached\\\":false,\\\"exclude_nan_labels\\\":true,\\\"verbosity\\\":20,\\\"_debug_log\\\":\\\"azureml_automl.log\\\",\\\"show_warnings\\\":false,\\\"model_explainability\\\":true,\\\"service_url\\\":null,\\\"sdk_url\\\":null,\\\"sdk_packages\\\":null,\\\"enable_onnx_compatible_models\\\":false,\\\"enable_split_onnx_featurizer_estimator_models\\\":false,\\\"vm_type\\\":\\\"STANDARD_D2_V2\\\",\\\"telemetry_verbosity\\\":20,\\\"send_telemetry\\\":true,\\\"enable_dnn\\\":false,\\\"scenario\\\":\\\"SDK-1.13.0\\\",\\\"environment_label\\\":null,\\\"save_mlflow\\\":false,\\\"force_text_dnn\\\":false,\\\"enable_feature_sweeping\\\":true,\\\"enable_early_stopping\\\":false,\\\"early_stopping_n_iters\\\":10,\\\"metrics\\\":null,\\\"enable_metric_confidence\\\":false,\\\"enable_ensembling\\\":true,\\\"enable_stack_ensembling\\\":true,\\\"ensemble_iterations\\\":15,\\\"enable_tf\\\":false,\\\"enable_subsampling\\\":null,\\\"subsample_seed\\\":null,\\\"enable_nimbusml\\\":false,\\\"enable_streaming\\\":false,\\\"force_streaming\\\":false,\\\"track_child_runs\\\":true,\\\"allowed_private_models\\\":[],\\\"label_column_name\\\":\\\"y\\\",\\\"weight_column_name\\\":null,\\\"cv_split_column_names\\\":null,\\\"enable_local_managed\\\":false,\\\"_local_managed_run_id\\\":null,\\\"cost_mode\\\":1,\\\"lag_length\\\":0,\\\"metric_operation\\\":\\\"maximize\\\",\\\"preprocess\\\":true}\", \"DataPrepJsonString\": \"{\\\\\\\"training_data\\\\\\\": {\\\\\\\"datasetId\\\\\\\": \\\\\\\"a96998d6-3be5-4560-96f7-4e129cb9b664\\\\\\\"}, \\\\\\\"validation_data\\\\\\\": {\\\\\\\"datasetId\\\\\\\": \\\\\\\"da4ff862-d2f2-4e44-b367-86a5b602381c\\\\\\\"}, \\\\\\\"datasets\\\\\\\": 0}\", \"EnableSubsampling\": null, \"runTemplate\": \"AutoML\", \"azureml.runsource\": \"automl\", \"display_task_type\": \"classification\", \"dependencies_versions\": \"{\\\"azureml-widgets\\\": \\\"1.27.0\\\", \\\"azureml-train\\\": \\\"1.27.0\\\", \\\"azureml-train-restclients-hyperdrive\\\": \\\"1.27.0\\\", \\\"azureml-train-core\\\": \\\"1.27.0\\\", \\\"azureml-train-automl\\\": \\\"1.27.0\\\", \\\"azureml-train-automl-runtime\\\": \\\"1.27.0\\\", \\\"azureml-train-automl-client\\\": \\\"1.27.0\\\", \\\"azureml-tensorboard\\\": \\\"1.27.0\\\", \\\"azureml-telemetry\\\": \\\"1.27.0\\\", \\\"azureml-sdk\\\": \\\"1.27.0\\\", \\\"azureml-samples\\\": \\\"0+unknown\\\", \\\"azureml-pipeline\\\": \\\"1.27.0\\\", \\\"azureml-pipeline-steps\\\": \\\"1.27.0\\\", \\\"azureml-pipeline-core\\\": \\\"1.27.0\\\", \\\"azureml-opendatasets\\\": \\\"1.27.0\\\", \\\"azureml-model-management-sdk\\\": \\\"1.0.1b6.post1\\\", \\\"azureml-mlflow\\\": \\\"1.27.0\\\", \\\"azureml-interpret\\\": \\\"1.27.0\\\", \\\"azureml-explain-model\\\": \\\"1.27.0\\\", \\\"azureml-defaults\\\": \\\"1.27.0\\\", \\\"azureml-dataset-runtime\\\": \\\"1.27.0\\\", \\\"azureml-dataprep\\\": \\\"2.14.2\\\", \\\"azureml-dataprep-rslex\\\": \\\"1.12.1\\\", \\\"azureml-dataprep-native\\\": \\\"33.0.0\\\", \\\"azureml-datadrift\\\": \\\"1.27.0\\\", \\\"azureml-core\\\": \\\"1.27.0\\\", \\\"azureml-contrib-services\\\": \\\"1.27.0\\\", \\\"azureml-contrib-server\\\": \\\"1.27.0\\\", \\\"azureml-contrib-reinforcementlearning\\\": \\\"1.27.0\\\", \\\"azureml-contrib-pipeline-steps\\\": \\\"1.27.0\\\", \\\"azureml-contrib-notebook\\\": \\\"1.27.0\\\", \\\"azureml-contrib-gbdt\\\": \\\"1.27.0\\\", \\\"azureml-contrib-fairness\\\": \\\"1.27.0\\\", \\\"azureml-contrib-dataset\\\": \\\"1.27.0\\\", \\\"azureml-cli-common\\\": \\\"1.27.0\\\", \\\"azureml-automl-runtime\\\": \\\"1.27.0\\\", \\\"azureml-automl-dnn-nlp\\\": \\\"1.27.0\\\", \\\"azureml-automl-core\\\": \\\"1.27.0\\\", \\\"azureml-accel-models\\\": \\\"1.27.0\\\"}\", \"_aml_system_scenario_identification\": \"Remote.Parent\", \"ClientType\": \"SDK\", \"environment_cpu_name\": \"AzureML-AutoML\", \"environment_cpu_label\": \"prod\", \"environment_gpu_name\": \"AzureML-AutoML-GPU\", \"environment_gpu_label\": \"prod\", \"root_attribution\": \"automl\", \"attribution\": \"AutoML\", \"Orchestrator\": \"AutoML\", \"CancelUri\": \"https://southcentralus.api.azureml.ms/jasmine/v1.0/subscriptions/48a74bb7-9950-4cc1-9caa-5d50f995cc55/resourceGroups/aml-quickstarts-144838/providers/Microsoft.MachineLearningServices/workspaces/quick-starts-ws-144838/experimentids/007d0714-b278-4995-a085-65ebfaf31ee6/cancel/AutoML_683a1772-a4d9-48e6-9620-4b70c81abe0a\", \"ClientSdkVersion\": \"1.27.0.post1\", \"snapshotId\": \"00000000-0000-0000-0000-000000000000\", \"SetupRunId\": \"AutoML_683a1772-a4d9-48e6-9620-4b70c81abe0a_setup\", \"SetupRunContainerId\": \"dcid.AutoML_683a1772-a4d9-48e6-9620-4b70c81abe0a_setup\", \"FeaturizationRunJsonPath\": \"featurizer_container.json\", \"FeaturizationRunId\": \"AutoML_683a1772-a4d9-48e6-9620-4b70c81abe0a_featurize\", \"ProblemInfoJsonString\": \"{\\\"dataset_num_categorical\\\": 0, \\\"is_sparse\\\": true, \\\"subsampling\\\": false, \\\"dataset_classes\\\": 2, \\\"dataset_features\\\": 2345, \\\"dataset_samples\\\": 17085, \\\"single_frequency_class_detected\\\": false}\", \"ModelExplainRunId\": \"AutoML_683a1772-a4d9-48e6-9620-4b70c81abe0a_ModelExplain\"}, \"tags\": {\"model_explain_run\": \"best_run\", \"_aml_system_azureml.automlComponent\": \"AutoML\", \"pipeline_id\": \"\", \"score\": \"\", \"predicted_cost\": \"\", \"fit_time\": \"\", \"training_percent\": \"\", \"iteration\": \"\", \"run_preprocessor\": \"\", \"run_algorithm\": \"\", \"dynamic_whitelisting_iterations\": \"<25>;\", \"automl_best_child_run_id\": \"AutoML_683a1772-a4d9-48e6-9620-4b70c81abe0a_29\", \"model_explain_best_run_child_id\": \"AutoML_683a1772-a4d9-48e6-9620-4b70c81abe0a_29\"}, \"end_time_utc\": \"2021-05-15T02:28:42.963749Z\", \"status\": \"Completed\", \"log_files\": {}, \"log_groups\": [], \"run_duration\": \"0:40:45\", \"run_number\": \"36\", \"run_queued_details\": {\"status\": \"Completed\", \"details\": null}}, \"child_runs\": [{\"run_id\": \"AutoML_683a1772-a4d9-48e6-9620-4b70c81abe0a_0\", \"run_number\": 42, \"metric\": null, \"status\": \"Completed\", \"run_type\": \"azureml.scriptrun\", \"training_percent\": \"100\", \"start_time\": \"2021-05-15T01:55:05.986103Z\", \"end_time\": \"2021-05-15T01:55:55.782422Z\", \"created_time\": \"2021-05-15T01:54:58.467358Z\", \"created_time_dt\": \"2021-05-15T01:54:58.467358Z\", \"duration\": \"0:00:57\", \"iteration\": \"0\", \"goal\": \"AUC_weighted_max\", \"run_name\": \"MaxAbsScaler, LightGBM\", \"run_properties\": \"copy=True\", \"primary_metric\": 0.86172277, \"best_metric\": 0.86172277}, {\"run_id\": \"AutoML_683a1772-a4d9-48e6-9620-4b70c81abe0a_1\", \"run_number\": 43, \"metric\": null, \"status\": \"Completed\", \"run_type\": \"azureml.scriptrun\", \"training_percent\": \"100\", \"start_time\": \"2021-05-15T01:56:06.539038Z\", \"end_time\": \"2021-05-15T01:57:06.097515Z\", \"created_time\": \"2021-05-15T01:55:56.769408Z\", \"created_time_dt\": \"2021-05-15T01:55:56.769408Z\", \"duration\": \"0:01:09\", \"iteration\": \"1\", \"goal\": \"AUC_weighted_max\", \"run_name\": \"MaxAbsScaler, XGBoostClassifier\", \"run_properties\": \"copy=True\", \"primary_metric\": 0.84347019, \"best_metric\": 0.86172277}, {\"run_id\": \"AutoML_683a1772-a4d9-48e6-9620-4b70c81abe0a_2\", \"run_number\": 44, \"metric\": null, \"status\": \"Completed\", \"run_type\": \"azureml.scriptrun\", \"training_percent\": \"100\", \"start_time\": \"2021-05-15T01:57:16.013144Z\", \"end_time\": \"2021-05-15T01:58:00.215733Z\", \"created_time\": \"2021-05-15T01:57:07.313857Z\", \"created_time_dt\": \"2021-05-15T01:57:07.313857Z\", \"duration\": \"0:00:52\", \"iteration\": \"2\", \"goal\": \"AUC_weighted_max\", \"run_name\": \"MaxAbsScaler, RandomForest\", \"run_properties\": \"copy=True\", \"primary_metric\": 0.7874011, \"best_metric\": 0.86172277}, {\"run_id\": \"AutoML_683a1772-a4d9-48e6-9620-4b70c81abe0a_3\", \"run_number\": 45, \"metric\": null, \"status\": \"Completed\", \"run_type\": \"azureml.scriptrun\", \"training_percent\": \"100\", \"start_time\": \"2021-05-15T01:58:09.589661Z\", \"end_time\": \"2021-05-15T01:58:56.440156Z\", \"created_time\": \"2021-05-15T01:58:02.159812Z\", \"created_time_dt\": \"2021-05-15T01:58:02.159812Z\", \"duration\": \"0:00:54\", \"iteration\": \"3\", \"goal\": \"AUC_weighted_max\", \"run_name\": \"MaxAbsScaler, RandomForest\", \"run_properties\": \"copy=True\", \"primary_metric\": 0.78969637, \"best_metric\": 0.86172277}, {\"run_id\": \"AutoML_683a1772-a4d9-48e6-9620-4b70c81abe0a_4\", \"run_number\": 46, \"metric\": null, \"status\": \"Completed\", \"run_type\": \"azureml.scriptrun\", \"training_percent\": \"100\", \"start_time\": \"2021-05-15T01:59:08.846572Z\", \"end_time\": \"2021-05-15T01:59:56.507578Z\", \"created_time\": \"2021-05-15T01:58:58.976929Z\", \"created_time_dt\": \"2021-05-15T01:58:58.976929Z\", \"duration\": \"0:00:57\", \"iteration\": \"4\", \"goal\": \"AUC_weighted_max\", \"run_name\": \"MaxAbsScaler, RandomForest\", \"run_properties\": \"copy=True\", \"primary_metric\": 0.71731573, \"best_metric\": 0.86172277}, {\"run_id\": \"AutoML_683a1772-a4d9-48e6-9620-4b70c81abe0a_5\", \"run_number\": 47, \"metric\": null, \"status\": \"Completed\", \"run_type\": \"azureml.scriptrun\", \"training_percent\": \"100\", \"start_time\": \"2021-05-15T02:00:06.008139Z\", \"end_time\": \"2021-05-15T02:00:52.92542Z\", \"created_time\": \"2021-05-15T01:59:58.416717Z\", \"created_time_dt\": \"2021-05-15T01:59:58.416717Z\", \"duration\": \"0:00:54\", \"iteration\": \"5\", \"goal\": \"AUC_weighted_max\", \"run_name\": \"MaxAbsScaler, ExtremeRandomTrees\", \"run_properties\": \"copy=True\", \"primary_metric\": 0.74918284, \"best_metric\": 0.86172277}, {\"run_id\": \"AutoML_683a1772-a4d9-48e6-9620-4b70c81abe0a_6\", \"run_number\": 48, \"metric\": null, \"status\": \"Completed\", \"run_type\": \"azureml.scriptrun\", \"training_percent\": \"100\", \"start_time\": \"2021-05-15T02:01:05.040025Z\", \"end_time\": \"2021-05-15T02:01:58.525964Z\", \"created_time\": \"2021-05-15T02:00:54.920962Z\", \"created_time_dt\": \"2021-05-15T02:00:54.920962Z\", \"duration\": \"0:01:03\", \"iteration\": \"6\", \"goal\": \"AUC_weighted_max\", \"run_name\": \"MaxAbsScaler, ExtremeRandomTrees\", \"run_properties\": \"copy=True\", \"primary_metric\": 0.78712079, \"best_metric\": 0.86172277}, {\"run_id\": \"AutoML_683a1772-a4d9-48e6-9620-4b70c81abe0a_7\", \"run_number\": 49, \"metric\": null, \"status\": \"Completed\", \"run_type\": \"azureml.scriptrun\", \"training_percent\": \"100\", \"start_time\": \"2021-05-15T02:02:08.090348Z\", \"end_time\": \"2021-05-15T02:02:52.20329Z\", \"created_time\": \"2021-05-15T02:02:00.565155Z\", \"created_time_dt\": \"2021-05-15T02:02:00.565155Z\", \"duration\": \"0:00:51\", \"iteration\": \"7\", \"goal\": \"AUC_weighted_max\", \"run_name\": \"MaxAbsScaler, ExtremeRandomTrees\", \"run_properties\": \"copy=True\", \"primary_metric\": 0.80978746, \"best_metric\": 0.86172277}, {\"run_id\": \"AutoML_683a1772-a4d9-48e6-9620-4b70c81abe0a_8\", \"run_number\": 50, \"metric\": null, \"status\": \"Completed\", \"run_type\": \"azureml.scriptrun\", \"training_percent\": \"100\", \"start_time\": \"2021-05-15T02:03:01.338908Z\", \"end_time\": \"2021-05-15T02:03:48.20353Z\", \"created_time\": \"2021-05-15T02:02:54.126945Z\", \"created_time_dt\": \"2021-05-15T02:02:54.126945Z\", \"duration\": \"0:00:54\", \"iteration\": \"8\", \"goal\": \"AUC_weighted_max\", \"run_name\": \"MaxAbsScaler, RandomForest\", \"run_properties\": \"copy=True\", \"primary_metric\": 0.79705325, \"best_metric\": 0.86172277}, {\"run_id\": \"AutoML_683a1772-a4d9-48e6-9620-4b70c81abe0a_9\", \"run_number\": 51, \"metric\": null, \"status\": \"Completed\", \"run_type\": \"azureml.scriptrun\", \"training_percent\": \"100\", \"start_time\": \"2021-05-15T02:03:58.517769Z\", \"end_time\": \"2021-05-15T02:04:49.581106Z\", \"created_time\": \"2021-05-15T02:03:50.210544Z\", \"created_time_dt\": \"2021-05-15T02:03:50.210544Z\", \"duration\": \"0:00:59\", \"iteration\": \"9\", \"goal\": \"AUC_weighted_max\", \"run_name\": \"MaxAbsScaler, ExtremeRandomTrees\", \"run_properties\": \"copy=True\", \"primary_metric\": 0.78194983, \"best_metric\": 0.86172277}, {\"run_id\": \"AutoML_683a1772-a4d9-48e6-9620-4b70c81abe0a_10\", \"run_number\": 52, \"metric\": null, \"status\": \"Completed\", \"run_type\": \"azureml.scriptrun\", \"training_percent\": \"100\", \"start_time\": \"2021-05-15T02:04:58.589575Z\", \"end_time\": \"2021-05-15T02:05:42.606824Z\", \"created_time\": \"2021-05-15T02:04:51.49247Z\", \"created_time_dt\": \"2021-05-15T02:04:51.49247Z\", \"duration\": \"0:00:51\", \"iteration\": \"10\", \"goal\": \"AUC_weighted_max\", \"run_name\": \"MaxAbsScaler, RandomForest\", \"run_properties\": \"copy=True\", \"primary_metric\": 0.77663124, \"best_metric\": 0.86172277}, {\"run_id\": \"AutoML_683a1772-a4d9-48e6-9620-4b70c81abe0a_11\", \"run_number\": 53, \"metric\": null, \"status\": \"Completed\", \"run_type\": \"azureml.scriptrun\", \"training_percent\": \"100\", \"start_time\": \"2021-05-15T02:05:55.293261Z\", \"end_time\": \"2021-05-15T02:06:39.353799Z\", \"created_time\": \"2021-05-15T02:05:44.617656Z\", \"created_time_dt\": \"2021-05-15T02:05:44.617656Z\", \"duration\": \"0:00:54\", \"iteration\": \"11\", \"goal\": \"AUC_weighted_max\", \"run_name\": \"MaxAbsScaler, RandomForest\", \"run_properties\": \"copy=True\", \"primary_metric\": 0.67804972, \"best_metric\": 0.86172277}, {\"run_id\": \"AutoML_683a1772-a4d9-48e6-9620-4b70c81abe0a_12\", \"run_number\": 54, \"metric\": null, \"status\": \"Completed\", \"run_type\": \"azureml.scriptrun\", \"training_percent\": \"100\", \"start_time\": \"2021-05-15T02:06:48.522633Z\", \"end_time\": \"2021-05-15T02:07:35.460021Z\", \"created_time\": \"2021-05-15T02:06:41.220248Z\", \"created_time_dt\": \"2021-05-15T02:06:41.220248Z\", \"duration\": \"0:00:54\", \"iteration\": \"12\", \"goal\": \"AUC_weighted_max\", \"run_name\": \"MaxAbsScaler, RandomForest\", \"run_properties\": \"copy=True\", \"primary_metric\": 0.73111023, \"best_metric\": 0.86172277}, {\"run_id\": \"AutoML_683a1772-a4d9-48e6-9620-4b70c81abe0a_13\", \"run_number\": 55, \"metric\": null, \"status\": \"Completed\", \"run_type\": \"azureml.scriptrun\", \"training_percent\": \"100\", \"start_time\": \"2021-05-15T02:07:44.780587Z\", \"end_time\": \"2021-05-15T02:08:34.474335Z\", \"created_time\": \"2021-05-15T02:07:37.576995Z\", \"created_time_dt\": \"2021-05-15T02:07:37.576995Z\", \"duration\": \"0:00:56\", \"iteration\": \"13\", \"goal\": \"AUC_weighted_max\", \"run_name\": \"StandardScalerWrapper, XGBoostClassifier\", \"run_properties\": \"<azureml.automl.runtime.shared.model_wrappers.StandardScalerWrapper object at 0x7f574fd75470\", \"primary_metric\": 0.79404818, \"best_metric\": 0.86172277}, {\"run_id\": \"AutoML_683a1772-a4d9-48e6-9620-4b70c81abe0a_14\", \"run_number\": 56, \"metric\": null, \"status\": \"Completed\", \"run_type\": \"azureml.scriptrun\", \"training_percent\": \"100\", \"start_time\": \"2021-05-15T02:08:47.644042Z\", \"end_time\": \"2021-05-15T02:09:37.410321Z\", \"created_time\": \"2021-05-15T02:08:36.530328Z\", \"created_time_dt\": \"2021-05-15T02:08:36.530328Z\", \"duration\": \"0:01:00\", \"iteration\": \"14\", \"goal\": \"AUC_weighted_max\", \"run_name\": \"MaxAbsScaler, RandomForest\", \"run_properties\": \"copy=True\", \"primary_metric\": 0.71898746, \"best_metric\": 0.86172277}, {\"run_id\": \"AutoML_683a1772-a4d9-48e6-9620-4b70c81abe0a_15\", \"run_number\": 57, \"metric\": null, \"status\": \"Completed\", \"run_type\": \"azureml.scriptrun\", \"training_percent\": \"100\", \"start_time\": \"2021-05-15T02:09:46.90912Z\", \"end_time\": \"2021-05-15T02:10:42.447622Z\", \"created_time\": \"2021-05-15T02:09:39.475071Z\", \"created_time_dt\": \"2021-05-15T02:09:39.475071Z\", \"duration\": \"0:01:02\", \"iteration\": \"15\", \"goal\": \"AUC_weighted_max\", \"run_name\": \"StandardScalerWrapper, ExtremeRandomTrees\", \"run_properties\": \"<azureml.automl.runtime.shared.model_wrappers.StandardScalerWrapper object at 0x7efbac40b518\", \"primary_metric\": 0.65370363, \"best_metric\": 0.86172277}, {\"run_id\": \"AutoML_683a1772-a4d9-48e6-9620-4b70c81abe0a_16\", \"run_number\": 58, \"metric\": null, \"status\": \"Completed\", \"run_type\": \"azureml.scriptrun\", \"training_percent\": \"100\", \"start_time\": \"2021-05-15T02:10:52.463649Z\", \"end_time\": \"2021-05-15T02:11:42.202615Z\", \"created_time\": \"2021-05-15T02:10:44.672114Z\", \"created_time_dt\": \"2021-05-15T02:10:44.672114Z\", \"duration\": \"0:00:57\", \"iteration\": \"16\", \"goal\": \"AUC_weighted_max\", \"run_name\": \"MaxAbsScaler, ExtremeRandomTrees\", \"run_properties\": \"copy=True\", \"primary_metric\": 0.75409021, \"best_metric\": 0.86172277}, {\"run_id\": \"AutoML_683a1772-a4d9-48e6-9620-4b70c81abe0a_17\", \"run_number\": 59, \"metric\": null, \"status\": \"Completed\", \"run_type\": \"azureml.scriptrun\", \"training_percent\": \"100\", \"start_time\": \"2021-05-15T02:11:54.497438Z\", \"end_time\": \"2021-05-15T02:12:39.377864Z\", \"created_time\": \"2021-05-15T02:11:44.432442Z\", \"created_time_dt\": \"2021-05-15T02:11:44.432442Z\", \"duration\": \"0:00:54\", \"iteration\": \"17\", \"goal\": \"AUC_weighted_max\", \"run_name\": \"MaxAbsScaler, ExtremeRandomTrees\", \"run_properties\": \"copy=True\", \"primary_metric\": 0.78112739, \"best_metric\": 0.86172277}, {\"run_id\": \"AutoML_683a1772-a4d9-48e6-9620-4b70c81abe0a_18\", \"run_number\": 60, \"metric\": null, \"status\": \"Completed\", \"run_type\": \"azureml.scriptrun\", \"training_percent\": \"100\", \"start_time\": \"2021-05-15T02:12:53.532286Z\", \"end_time\": \"2021-05-15T02:13:35.465465Z\", \"created_time\": \"2021-05-15T02:12:41.571307Z\", \"created_time_dt\": \"2021-05-15T02:12:41.571307Z\", \"duration\": \"0:00:53\", \"iteration\": \"18\", \"goal\": \"AUC_weighted_max\", \"run_name\": \"MaxAbsScaler, RandomForest\", \"run_properties\": \"copy=True\", \"primary_metric\": 0.69979362, \"best_metric\": 0.86172277}, {\"run_id\": \"AutoML_683a1772-a4d9-48e6-9620-4b70c81abe0a_19\", \"run_number\": 61, \"metric\": null, \"status\": \"Completed\", \"run_type\": \"azureml.scriptrun\", \"training_percent\": \"100\", \"start_time\": \"2021-05-15T02:13:44.474555Z\", \"end_time\": \"2021-05-15T02:14:34.177332Z\", \"created_time\": \"2021-05-15T02:13:37.373728Z\", \"created_time_dt\": \"2021-05-15T02:13:37.373728Z\", \"duration\": \"0:00:56\", \"iteration\": \"19\", \"goal\": \"AUC_weighted_max\", \"run_name\": \"StandardScalerWrapper, LightGBM\", \"run_properties\": \"<azureml.automl.runtime.shared.model_wrappers.StandardScalerWrapper object at 0x7fd0b9833c88\", \"primary_metric\": 0.82860242, \"best_metric\": 0.86172277}, {\"run_id\": \"AutoML_683a1772-a4d9-48e6-9620-4b70c81abe0a_20\", \"run_number\": 62, \"metric\": null, \"status\": \"Completed\", \"run_type\": \"azureml.scriptrun\", \"training_percent\": \"100\", \"start_time\": \"2021-05-15T02:14:45.902731Z\", \"end_time\": \"2021-05-15T02:15:39.541078Z\", \"created_time\": \"2021-05-15T02:14:36.194861Z\", \"created_time_dt\": \"2021-05-15T02:14:36.194861Z\", \"duration\": \"0:01:03\", \"iteration\": \"20\", \"goal\": \"AUC_weighted_max\", \"run_name\": \"StandardScalerWrapper, LogisticRegression\", \"run_properties\": \"<azureml.automl.runtime.shared.model_wrappers.StandardScalerWrapper object at 0x7f19471182e8\", \"primary_metric\": 0.85617426, \"best_metric\": 0.86172277}, {\"run_id\": \"AutoML_683a1772-a4d9-48e6-9620-4b70c81abe0a_21\", \"run_number\": 63, \"metric\": null, \"status\": \"Completed\", \"run_type\": \"azureml.scriptrun\", \"training_percent\": \"100\", \"start_time\": \"2021-05-15T02:15:51.69872Z\", \"end_time\": \"2021-05-15T02:16:39.331962Z\", \"created_time\": \"2021-05-15T02:15:41.630717Z\", \"created_time_dt\": \"2021-05-15T02:15:41.630717Z\", \"duration\": \"0:00:57\", \"iteration\": \"21\", \"goal\": \"AUC_weighted_max\", \"run_name\": \"MaxAbsScaler, ExtremeRandomTrees\", \"run_properties\": \"copy=True\", \"primary_metric\": 0.80850253, \"best_metric\": 0.86172277}, {\"run_id\": \"AutoML_683a1772-a4d9-48e6-9620-4b70c81abe0a_22\", \"run_number\": 64, \"metric\": null, \"status\": \"Completed\", \"run_type\": \"azureml.scriptrun\", \"training_percent\": \"100\", \"start_time\": \"2021-05-15T02:16:49.348787Z\", \"end_time\": \"2021-05-15T02:17:39.087246Z\", \"created_time\": \"2021-05-15T02:16:42.025561Z\", \"created_time_dt\": \"2021-05-15T02:16:42.025561Z\", \"duration\": \"0:00:57\", \"iteration\": \"22\", \"goal\": \"AUC_weighted_max\", \"run_name\": \"MaxAbsScaler, LightGBM\", \"run_properties\": \"copy=True\", \"primary_metric\": 0.86013773, \"best_metric\": 0.86172277}, {\"run_id\": \"AutoML_683a1772-a4d9-48e6-9620-4b70c81abe0a_23\", \"run_number\": 65, \"metric\": null, \"status\": \"Completed\", \"run_type\": \"azureml.scriptrun\", \"training_percent\": \"100\", \"start_time\": \"2021-05-15T02:17:52.674805Z\", \"end_time\": \"2021-05-15T02:18:53.083712Z\", \"created_time\": \"2021-05-15T02:17:40.908054Z\", \"created_time_dt\": \"2021-05-15T02:17:40.908054Z\", \"duration\": \"0:01:12\", \"iteration\": \"23\", \"goal\": \"AUC_weighted_max\", \"run_name\": \"MaxAbsScaler, SGD\", \"run_properties\": \"copy=True\", \"primary_metric\": 0.84462574, \"best_metric\": 0.86172277}, {\"run_id\": \"AutoML_683a1772-a4d9-48e6-9620-4b70c81abe0a_24\", \"run_number\": 66, \"metric\": null, \"status\": \"Completed\", \"run_type\": \"azureml.scriptrun\", \"training_percent\": \"100\", \"start_time\": \"2021-05-15T02:19:02.433634Z\", \"end_time\": \"2021-05-15T02:20:00.970608Z\", \"created_time\": \"2021-05-15T02:18:55.007187Z\", \"created_time_dt\": \"2021-05-15T02:18:55.007187Z\", \"duration\": \"0:01:05\", \"iteration\": \"24\", \"goal\": \"AUC_weighted_max\", \"run_name\": \"TruncatedSVDWrapper, XGBoostClassifier\", \"run_properties\": \"n_components=0.8015789473684211, random_state=None\", \"primary_metric\": 0.7676044, \"best_metric\": 0.86172277}, {\"run_id\": \"AutoML_683a1772-a4d9-48e6-9620-4b70c81abe0a_25\", \"run_number\": 67, \"metric\": null, \"status\": \"Completed\", \"run_type\": \"azureml.scriptrun\", \"training_percent\": \"100\", \"start_time\": \"2021-05-15T02:20:13.398882Z\", \"end_time\": \"2021-05-15T02:21:00.28216Z\", \"created_time\": \"2021-05-15T02:20:04.004609Z\", \"created_time_dt\": \"2021-05-15T02:20:04.004609Z\", \"duration\": \"0:00:56\", \"iteration\": \"25\", \"goal\": \"AUC_weighted_max\", \"run_name\": \"MaxAbsScaler, LightGBM\", \"run_properties\": \"copy=True\", \"primary_metric\": 0.6810088, \"best_metric\": 0.86172277}, {\"run_id\": \"AutoML_683a1772-a4d9-48e6-9620-4b70c81abe0a_26\", \"run_number\": 68, \"metric\": null, \"status\": \"Completed\", \"run_type\": \"azureml.scriptrun\", \"training_percent\": \"100\", \"start_time\": \"2021-05-15T02:21:09.658417Z\", \"end_time\": \"2021-05-15T02:21:56.51495Z\", \"created_time\": \"2021-05-15T02:21:02.101266Z\", \"created_time_dt\": \"2021-05-15T02:21:02.101266Z\", \"duration\": \"0:00:54\", \"iteration\": \"26\", \"goal\": \"AUC_weighted_max\", \"run_name\": \"SparseNormalizer, LightGBM\", \"run_properties\": \"<azureml.automl.runtime.shared.model_wrappers.SparseNormalizer object at 0x7fa54d067b38\", \"primary_metric\": 0.79369285, \"best_metric\": 0.86172277}, {\"run_id\": \"AutoML_683a1772-a4d9-48e6-9620-4b70c81abe0a_27\", \"run_number\": 69, \"metric\": null, \"status\": \"Completed\", \"run_type\": \"azureml.scriptrun\", \"training_percent\": \"100\", \"start_time\": \"2021-05-15T02:22:07.884411Z\", \"end_time\": \"2021-05-15T02:23:30.038887Z\", \"created_time\": \"2021-05-15T02:21:58.475062Z\", \"created_time_dt\": \"2021-05-15T02:21:58.475062Z\", \"duration\": \"0:01:31\", \"iteration\": \"27\", \"goal\": \"AUC_weighted_max\", \"run_name\": \"MaxAbsScaler, LogisticRegression\", \"run_properties\": \"copy=True\", \"primary_metric\": 0.84856722, \"best_metric\": 0.86172277}, {\"run_id\": \"AutoML_683a1772-a4d9-48e6-9620-4b70c81abe0a_28\", \"run_number\": 70, \"metric\": null, \"status\": \"Completed\", \"run_type\": \"azureml.scriptrun\", \"training_percent\": \"100\", \"start_time\": \"2021-05-15T02:23:39.523305Z\", \"end_time\": \"2021-05-15T02:25:07.447015Z\", \"created_time\": \"2021-05-15T02:23:31.731903Z\", \"created_time_dt\": \"2021-05-15T02:23:31.731903Z\", \"duration\": \"0:01:35\", \"iteration\": \"28\", \"goal\": \"AUC_weighted_max\", \"run_name\": \"StandardScalerWrapper, LogisticRegression\", \"run_properties\": \"<azureml.automl.runtime.shared.model_wrappers.StandardScalerWrapper object at 0x7f11138d0710\", \"primary_metric\": 0.85619802, \"best_metric\": 0.86172277}, {\"run_id\": \"AutoML_683a1772-a4d9-48e6-9620-4b70c81abe0a_29\", \"run_number\": 71, \"metric\": null, \"status\": \"Completed\", \"run_type\": \"azureml.scriptrun\", \"training_percent\": \"100\", \"start_time\": \"2021-05-15T02:25:18.614588Z\", \"end_time\": \"2021-05-15T02:26:18.206679Z\", \"created_time\": \"2021-05-15T02:25:08.922561Z\", \"created_time_dt\": \"2021-05-15T02:25:08.922561Z\", \"duration\": \"0:01:09\", \"iteration\": \"29\", \"goal\": \"AUC_weighted_max\", \"run_name\": \"VotingEnsemble\", \"run_properties\": \"classification_labels=None,\\n                              estimators=[('0',\\n                                           Pipeline(memory=None,\\n                                                    steps=[('maxabsscaler',\\n                                                            MaxAbsScaler(copy=True\", \"primary_metric\": 0.86716832, \"best_metric\": 0.86716832}, {\"run_id\": \"AutoML_683a1772-a4d9-48e6-9620-4b70c81abe0a_30\", \"run_number\": 72, \"metric\": null, \"status\": \"Completed\", \"run_type\": \"azureml.scriptrun\", \"training_percent\": \"100\", \"start_time\": \"2021-05-15T02:26:28.778886Z\", \"end_time\": \"2021-05-15T02:28:40.589852Z\", \"created_time\": \"2021-05-15T02:26:18.939888Z\", \"created_time_dt\": \"2021-05-15T02:26:18.939888Z\", \"duration\": \"0:02:21\", \"iteration\": \"30\", \"goal\": \"AUC_weighted_max\", \"run_name\": \"StackEnsemble\", \"run_properties\": \"base_learners=[('0',\\n                                        Pipeline(memory=None,\\n                                                 steps=[('maxabsscaler',\\n                                                         MaxAbsScaler(copy=True\", \"primary_metric\": 0.86585787, \"best_metric\": 0.86716832}], \"children_metrics\": {\"categories\": [0], \"series\": {\"log_loss\": [{\"categories\": [\"0\", \"1\", \"2\", \"3\", \"4\", \"5\", \"6\", \"7\", \"8\", \"9\", \"10\", \"11\", \"12\", \"13\", \"14\", \"15\", \"16\", \"17\", \"18\", \"19\", \"20\", \"21\", \"22\", \"23\", \"24\", \"25\", \"26\", \"27\", \"28\", \"29\", \"30\"], \"mode\": \"markers\", \"name\": \"log_loss\", \"stepped\": false, \"type\": \"scatter\", \"data\": [0.46755895035850703, 0.5188194907717704, 0.6136362088030305, 0.6538135193698988, 0.6627108918145087, 0.6006194235356198, 0.58436453135436, 0.6119617829139598, 0.6125195146230379, 0.6115469991234539, 0.633956925677086, 0.6573027697022478, 0.6521847787515298, 0.6195063159398999, 0.6631024836356892, 0.6542576555257044, 0.6049977499611455, 0.6607278745483179, 0.6800565743962457, 0.5165216609360126, 0.4755935460434579, 0.6418171394306287, 0.47545169981550073, 0.5278634920620343, 0.5927414934873606, 0.6437510827400599, 0.5701795515091551, 0.4929139240517704, 0.4755526254802118, 0.49779187078562687, 0.4600551028015406]}, {\"categories\": [\"0\", \"1\", \"2\", \"3\", \"4\", \"5\", \"6\", \"7\", \"8\", \"9\", \"10\", \"11\", \"12\", \"13\", \"14\", \"15\", \"16\", \"17\", \"18\", \"19\", \"20\", \"21\", \"22\", \"23\", \"24\", \"25\", \"26\", \"27\", \"28\", \"29\", \"30\"], \"mode\": \"lines\", \"name\": \"log_loss_min\", \"stepped\": true, \"type\": \"scatter\", \"data\": [0.46755895035850703, 0.46755895035850703, 0.46755895035850703, 0.46755895035850703, 0.46755895035850703, 0.46755895035850703, 0.46755895035850703, 0.46755895035850703, 0.46755895035850703, 0.46755895035850703, 0.46755895035850703, 0.46755895035850703, 0.46755895035850703, 0.46755895035850703, 0.46755895035850703, 0.46755895035850703, 0.46755895035850703, 0.46755895035850703, 0.46755895035850703, 0.46755895035850703, 0.46755895035850703, 0.46755895035850703, 0.46755895035850703, 0.46755895035850703, 0.46755895035850703, 0.46755895035850703, 0.46755895035850703, 0.46755895035850703, 0.46755895035850703, 0.46755895035850703, 0.4600551028015406]}], \"AUC_macro\": [{\"categories\": [\"0\", \"1\", \"2\", \"3\", \"4\", \"5\", \"6\", \"7\", \"8\", \"9\", \"10\", \"11\", \"12\", \"13\", \"14\", \"15\", \"16\", \"17\", \"18\", \"19\", \"20\", \"21\", \"22\", \"23\", \"24\", \"25\", \"26\", \"27\", \"28\", \"29\", \"30\"], \"mode\": \"markers\", \"name\": \"AUC_macro\", \"stepped\": false, \"type\": \"scatter\", \"data\": [0.8617227722772278, 0.8434701870187018, 0.787401100110011, 0.7896963696369637, 0.7173157315731573, 0.7491828382838284, 0.7871207920792078, 0.8097874587458745, 0.7970532453245325, 0.7819498349834983, 0.7766312431243125, 0.6780497249724973, 0.7311102310231024, 0.7940481848184817, 0.7189874587458746, 0.6537036303630364, 0.7540902090209021, 0.7811273927392739, 0.6997936193619363, 0.8286024202420242, 0.8561742574257425, 0.8085025302530253, 0.8601377337733773, 0.8446257425742574, 0.767604400440044, 0.6810088008800881, 0.7936928492849286, 0.8485672167216722, 0.8561980198019802, 0.867168316831683, 0.8658578657865786]}, {\"categories\": [\"0\", \"1\", \"2\", \"3\", \"4\", \"5\", \"6\", \"7\", \"8\", \"9\", \"10\", \"11\", \"12\", \"13\", \"14\", \"15\", \"16\", \"17\", \"18\", \"19\", \"20\", \"21\", \"22\", \"23\", \"24\", \"25\", \"26\", \"27\", \"28\", \"29\", \"30\"], \"mode\": \"lines\", \"name\": \"AUC_macro_max\", \"stepped\": true, \"type\": \"scatter\", \"data\": [0.8617227722772278, 0.8617227722772278, 0.8617227722772278, 0.8617227722772278, 0.8617227722772278, 0.8617227722772278, 0.8617227722772278, 0.8617227722772278, 0.8617227722772278, 0.8617227722772278, 0.8617227722772278, 0.8617227722772278, 0.8617227722772278, 0.8617227722772278, 0.8617227722772278, 0.8617227722772278, 0.8617227722772278, 0.8617227722772278, 0.8617227722772278, 0.8617227722772278, 0.8617227722772278, 0.8617227722772278, 0.8617227722772278, 0.8617227722772278, 0.8617227722772278, 0.8617227722772278, 0.8617227722772278, 0.8617227722772278, 0.8617227722772278, 0.867168316831683, 0.867168316831683]}], \"AUC_weighted\": [{\"categories\": [\"0\", \"1\", \"2\", \"3\", \"4\", \"5\", \"6\", \"7\", \"8\", \"9\", \"10\", \"11\", \"12\", \"13\", \"14\", \"15\", \"16\", \"17\", \"18\", \"19\", \"20\", \"21\", \"22\", \"23\", \"24\", \"25\", \"26\", \"27\", \"28\", \"29\", \"30\"], \"mode\": \"markers\", \"name\": \"AUC_weighted\", \"stepped\": false, \"type\": \"scatter\", \"data\": [0.8617227722772278, 0.8434701870187019, 0.787401100110011, 0.7896963696369637, 0.7173157315731573, 0.7491828382838284, 0.7871207920792078, 0.8097874587458745, 0.7970532453245324, 0.7819498349834985, 0.7766312431243124, 0.6780497249724973, 0.7311102310231024, 0.7940481848184817, 0.7189874587458746, 0.6537036303630362, 0.7540902090209021, 0.7811273927392739, 0.6997936193619363, 0.8286024202420242, 0.8561742574257425, 0.8085025302530252, 0.8601377337733773, 0.8446257425742574, 0.7676044004400441, 0.681008800880088, 0.7936928492849284, 0.8485672167216723, 0.8561980198019801, 0.867168316831683, 0.8658578657865786]}, {\"categories\": [\"0\", \"1\", \"2\", \"3\", \"4\", \"5\", \"6\", \"7\", \"8\", \"9\", \"10\", \"11\", \"12\", \"13\", \"14\", \"15\", \"16\", \"17\", \"18\", \"19\", \"20\", \"21\", \"22\", \"23\", \"24\", \"25\", \"26\", \"27\", \"28\", \"29\", \"30\"], \"mode\": \"lines\", \"name\": \"AUC_weighted_max\", \"stepped\": true, \"type\": \"scatter\", \"data\": [0.8617227722772278, 0.8617227722772278, 0.8617227722772278, 0.8617227722772278, 0.8617227722772278, 0.8617227722772278, 0.8617227722772278, 0.8617227722772278, 0.8617227722772278, 0.8617227722772278, 0.8617227722772278, 0.8617227722772278, 0.8617227722772278, 0.8617227722772278, 0.8617227722772278, 0.8617227722772278, 0.8617227722772278, 0.8617227722772278, 0.8617227722772278, 0.8617227722772278, 0.8617227722772278, 0.8617227722772278, 0.8617227722772278, 0.8617227722772278, 0.8617227722772278, 0.8617227722772278, 0.8617227722772278, 0.8617227722772278, 0.8617227722772278, 0.867168316831683, 0.867168316831683]}], \"average_precision_score_micro\": [{\"categories\": [\"0\", \"1\", \"2\", \"3\", \"4\", \"5\", \"6\", \"7\", \"8\", \"9\", \"10\", \"11\", \"12\", \"13\", \"14\", \"15\", \"16\", \"17\", \"18\", \"19\", \"20\", \"21\", \"22\", \"23\", \"24\", \"25\", \"26\", \"27\", \"28\", \"29\", \"30\"], \"mode\": \"markers\", \"name\": \"average_precision_score_micro\", \"stepped\": false, \"type\": \"scatter\", \"data\": [0.859440852248511, 0.8417254855111742, 0.780839922566705, 0.7847867729435779, 0.7020155673693858, 0.7395979099641374, 0.7806886489861181, 0.805472207537173, 0.7898527387803647, 0.7745531488442385, 0.765586707832927, 0.6595005043699298, 0.7152783519736199, 0.793015487315936, 0.7152559538589727, 0.6321313470560792, 0.7442672384462561, 0.7705348490878229, 0.6866360335554279, 0.823158339857775, 0.8508346891858011, 0.8058894596133983, 0.856476534336281, 0.8334515904518685, 0.758211357515422, 0.6689336577583294, 0.7867988345208159, 0.8430371406512253, 0.8508323027172466, 0.8641698459930782, 0.8623793519211154]}, {\"categories\": [\"0\", \"1\", \"2\", \"3\", \"4\", \"5\", \"6\", \"7\", \"8\", \"9\", \"10\", \"11\", \"12\", \"13\", \"14\", \"15\", \"16\", \"17\", \"18\", \"19\", \"20\", \"21\", \"22\", \"23\", \"24\", \"25\", \"26\", \"27\", \"28\", \"29\", \"30\"], \"mode\": \"lines\", \"name\": \"average_precision_score_micro_max\", \"stepped\": true, \"type\": \"scatter\", \"data\": [0.859440852248511, 0.859440852248511, 0.859440852248511, 0.859440852248511, 0.859440852248511, 0.859440852248511, 0.859440852248511, 0.859440852248511, 0.859440852248511, 0.859440852248511, 0.859440852248511, 0.859440852248511, 0.859440852248511, 0.859440852248511, 0.859440852248511, 0.859440852248511, 0.859440852248511, 0.859440852248511, 0.859440852248511, 0.859440852248511, 0.859440852248511, 0.859440852248511, 0.859440852248511, 0.859440852248511, 0.859440852248511, 0.859440852248511, 0.859440852248511, 0.859440852248511, 0.859440852248511, 0.8641698459930782, 0.8641698459930782]}], \"precision_score_macro\": [{\"categories\": [\"0\", \"1\", \"2\", \"3\", \"4\", \"5\", \"6\", \"7\", \"8\", \"9\", \"10\", \"11\", \"12\", \"13\", \"14\", \"15\", \"16\", \"17\", \"18\", \"19\", \"20\", \"21\", \"22\", \"23\", \"24\", \"25\", \"26\", \"27\", \"28\", \"29\", \"30\"], \"mode\": \"markers\", \"name\": \"precision_score_macro\", \"stepped\": false, \"type\": \"scatter\", \"data\": [0.7870654214491101, 0.7669431241952662, 0.7139951665335291, 0.7194769169803844, 0.6659973703386877, 0.6799867972274178, 0.7212426297585167, 0.7306334414746446, 0.7276883662762914, 0.7133127931533125, 0.7115471509655326, 0.6376943575738889, 0.6783741384789692, 0.727799709111763, 0.6713852657955905, 0.6083806040702593, 0.6767221019440749, 0.7121067303863002, 0.6499552856032872, 0.7519122015623281, 0.7836512326399137, 0.7368543870566273, 0.7834348384075601, 0.7761144377910845, 0.6925812484645804, 0.638878487545848, 0.7227744675830334, 0.7766473593798177, 0.7833531744807891, 0.7890953675020005, 0.7839514601594504]}, {\"categories\": [\"0\", \"1\", \"2\", \"3\", \"4\", \"5\", \"6\", \"7\", \"8\", \"9\", \"10\", \"11\", \"12\", \"13\", \"14\", \"15\", \"16\", \"17\", \"18\", \"19\", \"20\", \"21\", \"22\", \"23\", \"24\", \"25\", \"26\", \"27\", \"28\", \"29\", \"30\"], \"mode\": \"lines\", \"name\": \"precision_score_macro_max\", \"stepped\": true, \"type\": \"scatter\", \"data\": [0.7870654214491101, 0.7870654214491101, 0.7870654214491101, 0.7870654214491101, 0.7870654214491101, 0.7870654214491101, 0.7870654214491101, 0.7870654214491101, 0.7870654214491101, 0.7870654214491101, 0.7870654214491101, 0.7870654214491101, 0.7870654214491101, 0.7870654214491101, 0.7870654214491101, 0.7870654214491101, 0.7870654214491101, 0.7870654214491101, 0.7870654214491101, 0.7870654214491101, 0.7870654214491101, 0.7870654214491101, 0.7870654214491101, 0.7870654214491101, 0.7870654214491101, 0.7870654214491101, 0.7870654214491101, 0.7870654214491101, 0.7870654214491101, 0.7890953675020005, 0.7890953675020005]}], \"matthews_correlation\": [{\"categories\": [\"0\", \"1\", \"2\", \"3\", \"4\", \"5\", \"6\", \"7\", \"8\", \"9\", \"10\", \"11\", \"12\", \"13\", \"14\", \"15\", \"16\", \"17\", \"18\", \"19\", \"20\", \"21\", \"22\", \"23\", \"24\", \"25\", \"26\", \"27\", \"28\", \"29\", \"30\"], \"mode\": \"markers\", \"name\": \"matthews_correlation\", \"stepped\": false, \"type\": \"scatter\", \"data\": [0.5741149261789742, 0.5329720444437205, 0.4278334215981675, 0.43882343226438403, 0.3319973703282733, 0.3599537933824888, 0.44236802676985576, 0.4610624390718682, 0.45537813525102866, 0.4264843869488039, 0.4229233540542321, 0.275255381401692, 0.3566975672181529, 0.45010653089074343, 0.3418526837848079, 0.21183958208232537, 0.3522216376761395, 0.4230357887699193, 0.29959538400870267, 0.5037966892489442, 0.5669910811762017, 0.4726816563723088, 0.5668242755333325, 0.5522332496549497, 0.3850663849877331, 0.27760451831245003, 0.4454444223218937, 0.5530268324829513, 0.5663563667411359, 0.578115164543608, 0.5676279612533537]}, {\"categories\": [\"0\", \"1\", \"2\", \"3\", \"4\", \"5\", \"6\", \"7\", \"8\", \"9\", \"10\", \"11\", \"12\", \"13\", \"14\", \"15\", \"16\", \"17\", \"18\", \"19\", \"20\", \"21\", \"22\", \"23\", \"24\", \"25\", \"26\", \"27\", \"28\", \"29\", \"30\"], \"mode\": \"lines\", \"name\": \"matthews_correlation_max\", \"stepped\": true, \"type\": \"scatter\", \"data\": [0.5741149261789742, 0.5741149261789742, 0.5741149261789742, 0.5741149261789742, 0.5741149261789742, 0.5741149261789742, 0.5741149261789742, 0.5741149261789742, 0.5741149261789742, 0.5741149261789742, 0.5741149261789742, 0.5741149261789742, 0.5741149261789742, 0.5741149261789742, 0.5741149261789742, 0.5741149261789742, 0.5741149261789742, 0.5741149261789742, 0.5741149261789742, 0.5741149261789742, 0.5741149261789742, 0.5741149261789742, 0.5741149261789742, 0.5741149261789742, 0.5741149261789742, 0.5741149261789742, 0.5741149261789742, 0.5741149261789742, 0.5741149261789742, 0.578115164543608, 0.578115164543608]}], \"f1_score_macro\": [{\"categories\": [\"0\", \"1\", \"2\", \"3\", \"4\", \"5\", \"6\", \"7\", \"8\", \"9\", \"10\", \"11\", \"12\", \"13\", \"14\", \"15\", \"16\", \"17\", \"18\", \"19\", \"20\", \"21\", \"22\", \"23\", \"24\", \"25\", \"26\", \"27\", \"28\", \"29\", \"30\"], \"mode\": \"markers\", \"name\": \"f1_score_macro\", \"stepped\": false, \"type\": \"scatter\", \"data\": [0.7870543458458419, 0.7659318474411819, 0.713728105705876, 0.7193404634581105, 0.6659980257601665, 0.6799301439749179, 0.7210373003136277, 0.7303054171951111, 0.7276889875708867, 0.7130688385040665, 0.7113601971208315, 0.6374154506319714, 0.6782625130585012, 0.7209366901147722, 0.6701415036808498, 0.5986875618614325, 0.674792076640032, 0.7106527505763939, 0.6495226487556107, 0.7518900721703925, 0.7833360717193759, 0.7356537929782605, 0.7833975708737204, 0.7761158563933589, 0.6924776373029493, 0.6386722543681477, 0.7226684494238022, 0.7763766616779646, 0.7829957484198543, 0.7890294523043774, 0.7836759397834316]}, {\"categories\": [\"0\", \"1\", \"2\", \"3\", \"4\", \"5\", \"6\", \"7\", \"8\", \"9\", \"10\", \"11\", \"12\", \"13\", \"14\", \"15\", \"16\", \"17\", \"18\", \"19\", \"20\", \"21\", \"22\", \"23\", \"24\", \"25\", \"26\", \"27\", \"28\", \"29\", \"30\"], \"mode\": \"lines\", \"name\": \"f1_score_macro_max\", \"stepped\": true, \"type\": \"scatter\", \"data\": [0.7870543458458419, 0.7870543458458419, 0.7870543458458419, 0.7870543458458419, 0.7870543458458419, 0.7870543458458419, 0.7870543458458419, 0.7870543458458419, 0.7870543458458419, 0.7870543458458419, 0.7870543458458419, 0.7870543458458419, 0.7870543458458419, 0.7870543458458419, 0.7870543458458419, 0.7870543458458419, 0.7870543458458419, 0.7870543458458419, 0.7870543458458419, 0.7870543458458419, 0.7870543458458419, 0.7870543458458419, 0.7870543458458419, 0.7870543458458419, 0.7870543458458419, 0.7870543458458419, 0.7870543458458419, 0.7870543458458419, 0.7870543458458419, 0.7890294523043774, 0.7890294523043774]}], \"recall_score_micro\": [{\"categories\": [\"0\", \"1\", \"2\", \"3\", \"4\", \"5\", \"6\", \"7\", \"8\", \"9\", \"10\", \"11\", \"12\", \"13\", \"14\", \"15\", \"16\", \"17\", \"18\", \"19\", \"20\", \"21\", \"22\", \"23\", \"24\", \"25\", \"26\", \"27\", \"28\", \"29\", \"30\"], \"mode\": \"markers\", \"name\": \"recall_score_micro\", \"stepped\": false, \"type\": \"scatter\", \"data\": [0.7870646766169154, 0.7661691542288557, 0.7137645107794361, 0.7194029850746269, 0.6660033167495855, 0.6799336650082919, 0.72106135986733, 0.7303482587064677, 0.7276948590381426, 0.7131011608623549, 0.7114427860696517, 0.6374792703150912, 0.6782752902155887, 0.7227197346600331, 0.6706467661691542, 0.6029850746268657, 0.675290215588723, 0.7111111111111111, 0.6497512437810945, 0.7519071310116087, 0.7834162520729685, 0.7359867330016584, 0.7834162520729685, 0.7761194029850746, 0.6925373134328359, 0.6388059701492538, 0.7227197346600331, 0.7764510779436152, 0.7830845771144279, 0.7890547263681592, 0.7837479270315091]}, {\"categories\": [\"0\", \"1\", \"2\", \"3\", \"4\", \"5\", \"6\", \"7\", \"8\", \"9\", \"10\", \"11\", \"12\", \"13\", \"14\", \"15\", \"16\", \"17\", \"18\", \"19\", \"20\", \"21\", \"22\", \"23\", \"24\", \"25\", \"26\", \"27\", \"28\", \"29\", \"30\"], \"mode\": \"lines\", \"name\": \"recall_score_micro_max\", \"stepped\": true, \"type\": \"scatter\", \"data\": [0.7870646766169154, 0.7870646766169154, 0.7870646766169154, 0.7870646766169154, 0.7870646766169154, 0.7870646766169154, 0.7870646766169154, 0.7870646766169154, 0.7870646766169154, 0.7870646766169154, 0.7870646766169154, 0.7870646766169154, 0.7870646766169154, 0.7870646766169154, 0.7870646766169154, 0.7870646766169154, 0.7870646766169154, 0.7870646766169154, 0.7870646766169154, 0.7870646766169154, 0.7870646766169154, 0.7870646766169154, 0.7870646766169154, 0.7870646766169154, 0.7870646766169154, 0.7870646766169154, 0.7870646766169154, 0.7870646766169154, 0.7870646766169154, 0.7890547263681592, 0.7890547263681592]}], \"norm_macro_recall\": [{\"categories\": [\"0\", \"1\", \"2\", \"3\", \"4\", \"5\", \"6\", \"7\", \"8\", \"9\", \"10\", \"11\", \"12\", \"13\", \"14\", \"15\", \"16\", \"17\", \"18\", \"19\", \"20\", \"21\", \"22\", \"23\", \"24\", \"25\", \"26\", \"27\", \"28\", \"29\", \"30\"], \"mode\": \"markers\", \"name\": \"norm_macro_recall\", \"stepped\": false, \"type\": \"scatter\", \"data\": [0.5740990099009902, 0.5320594059405941, 0.42767656765676554, 0.43869306930693064, 0.33199999999999985, 0.35993399339933996, 0.4422508250825081, 0.4608580858085809, 0.4553795379537955, 0.42634323432343235, 0.4227524752475247, 0.2751221122112213, 0.35664686468646867, 0.4446798679867987, 0.3409372937293731, 0.207029702970297, 0.351003300330033, 0.4218613861386138, 0.29928052805280525, 0.5037689768976898, 0.5666798679867986, 0.4716567656765678, 0.5667788778877889, 0.5522376237623763, 0.3849702970297031, 0.27745214521452155, 0.4453399339933992, 0.5527590759075909, 0.5660066006600659, 0.5780396039603961, 0.5673531353135313]}, {\"categories\": [\"0\", \"1\", \"2\", \"3\", \"4\", \"5\", \"6\", \"7\", \"8\", \"9\", \"10\", \"11\", \"12\", \"13\", \"14\", \"15\", \"16\", \"17\", \"18\", \"19\", \"20\", \"21\", \"22\", \"23\", \"24\", \"25\", \"26\", \"27\", \"28\", \"29\", \"30\"], \"mode\": \"lines\", \"name\": \"norm_macro_recall_max\", \"stepped\": true, \"type\": \"scatter\", \"data\": [0.5740990099009902, 0.5740990099009902, 0.5740990099009902, 0.5740990099009902, 0.5740990099009902, 0.5740990099009902, 0.5740990099009902, 0.5740990099009902, 0.5740990099009902, 0.5740990099009902, 0.5740990099009902, 0.5740990099009902, 0.5740990099009902, 0.5740990099009902, 0.5740990099009902, 0.5740990099009902, 0.5740990099009902, 0.5740990099009902, 0.5740990099009902, 0.5740990099009902, 0.5740990099009902, 0.5740990099009902, 0.5740990099009902, 0.5740990099009902, 0.5740990099009902, 0.5740990099009902, 0.5740990099009902, 0.5740990099009902, 0.5740990099009902, 0.5780396039603961, 0.5780396039603961]}], \"precision_score_weighted\": [{\"categories\": [\"0\", \"1\", \"2\", \"3\", \"4\", \"5\", \"6\", \"7\", \"8\", \"9\", \"10\", \"11\", \"12\", \"13\", \"14\", \"15\", \"16\", \"17\", \"18\", \"19\", \"20\", \"21\", \"22\", \"23\", \"24\", \"25\", \"26\", \"27\", \"28\", \"29\", \"30\"], \"mode\": \"markers\", \"name\": \"precision_score_weighted\", \"stepped\": false, \"type\": \"scatter\", \"data\": [0.7870650076534464, 0.7668775335201466, 0.714036851308365, 0.7194621305992328, 0.6660072810235173, 0.6800095681784716, 0.7212809262144011, 0.7306804496232452, 0.7276958579245812, 0.7133529764996969, 0.7115291570179668, 0.6377283187200149, 0.6784021144025675, 0.727636540767489, 0.6713351413865565, 0.6085072596909962, 0.6768076728418051, 0.7120403557679542, 0.6499332667016117, 0.7519100284691627, 0.783616334535912, 0.7367889859972074, 0.7834280385290511, 0.7761227131144014, 0.6925716973707229, 0.6388677176354627, 0.7227622139435557, 0.7766163675741014, 0.7833155206443833, 0.7890834142273412, 0.7839193233497755]}, {\"categories\": [\"0\", \"1\", \"2\", \"3\", \"4\", \"5\", \"6\", \"7\", \"8\", \"9\", \"10\", \"11\", \"12\", \"13\", \"14\", \"15\", \"16\", \"17\", \"18\", \"19\", \"20\", \"21\", \"22\", \"23\", \"24\", \"25\", \"26\", \"27\", \"28\", \"29\", \"30\"], \"mode\": \"lines\", \"name\": \"precision_score_weighted_max\", \"stepped\": true, \"type\": \"scatter\", \"data\": [0.7870650076534464, 0.7870650076534464, 0.7870650076534464, 0.7870650076534464, 0.7870650076534464, 0.7870650076534464, 0.7870650076534464, 0.7870650076534464, 0.7870650076534464, 0.7870650076534464, 0.7870650076534464, 0.7870650076534464, 0.7870650076534464, 0.7870650076534464, 0.7870650076534464, 0.7870650076534464, 0.7870650076534464, 0.7870650076534464, 0.7870650076534464, 0.7870650076534464, 0.7870650076534464, 0.7870650076534464, 0.7870650076534464, 0.7870650076534464, 0.7870650076534464, 0.7870650076534464, 0.7870650076534464, 0.7870650076534464, 0.7870650076534464, 0.7890834142273412, 0.7890834142273412]}], \"weighted_accuracy\": [{\"categories\": [\"0\", \"1\", \"2\", \"3\", \"4\", \"5\", \"6\", \"7\", \"8\", \"9\", \"10\", \"11\", \"12\", \"13\", \"14\", \"15\", \"16\", \"17\", \"18\", \"19\", \"20\", \"21\", \"22\", \"23\", \"24\", \"25\", \"26\", \"27\", \"28\", \"29\", \"30\"], \"mode\": \"markers\", \"name\": \"weighted_accuracy\", \"stepped\": false, \"type\": \"scatter\", \"data\": [0.7870798475323003, 0.7663085985842285, 0.7136907413824399, 0.7194594327013515, 0.6660066333349833, 0.6799003349669158, 0.7209973103641735, 0.7302674785076646, 0.727699948847417, 0.7130307080507566, 0.7115093312212266, 0.6373974885731729, 0.6782271504710988, 0.7230995165255846, 0.6708248766562712, 0.6024553239938617, 0.6750787914789697, 0.7112915202217711, 0.6498622180420112, 0.7519297724535089, 0.7834925663746019, 0.7361450753263039, 0.7834430638747257, 0.7761199940597002, 0.6925894757685264, 0.6388858637361187, 0.7227694998597429, 0.7765226143920267, 0.7831658498754186, 0.7890896490272759, 0.7838192828737851]}, {\"categories\": [\"0\", \"1\", \"2\", \"3\", \"4\", \"5\", \"6\", \"7\", \"8\", \"9\", \"10\", \"11\", \"12\", \"13\", \"14\", \"15\", \"16\", \"17\", \"18\", \"19\", \"20\", \"21\", \"22\", \"23\", \"24\", \"25\", \"26\", \"27\", \"28\", \"29\", \"30\"], \"mode\": \"lines\", \"name\": \"weighted_accuracy_max\", \"stepped\": true, \"type\": \"scatter\", \"data\": [0.7870798475323003, 0.7870798475323003, 0.7870798475323003, 0.7870798475323003, 0.7870798475323003, 0.7870798475323003, 0.7870798475323003, 0.7870798475323003, 0.7870798475323003, 0.7870798475323003, 0.7870798475323003, 0.7870798475323003, 0.7870798475323003, 0.7870798475323003, 0.7870798475323003, 0.7870798475323003, 0.7870798475323003, 0.7870798475323003, 0.7870798475323003, 0.7870798475323003, 0.7870798475323003, 0.7870798475323003, 0.7870798475323003, 0.7870798475323003, 0.7870798475323003, 0.7870798475323003, 0.7870798475323003, 0.7870798475323003, 0.7870798475323003, 0.7890896490272759, 0.7890896490272759]}], \"recall_score_macro\": [{\"categories\": [\"0\", \"1\", \"2\", \"3\", \"4\", \"5\", \"6\", \"7\", \"8\", \"9\", \"10\", \"11\", \"12\", \"13\", \"14\", \"15\", \"16\", \"17\", \"18\", \"19\", \"20\", \"21\", \"22\", \"23\", \"24\", \"25\", \"26\", \"27\", \"28\", \"29\", \"30\"], \"mode\": \"markers\", \"name\": \"recall_score_macro\", \"stepped\": false, \"type\": \"scatter\", \"data\": [0.7870495049504951, 0.766029702970297, 0.7138382838283828, 0.7193465346534653, 0.6659999999999999, 0.67996699669967, 0.7211254125412541, 0.7304290429042904, 0.7276897689768977, 0.7131716171617162, 0.7113762376237623, 0.6375610561056106, 0.6783234323432343, 0.7223399339933994, 0.6704686468646865, 0.6035148514851485, 0.6755016501650165, 0.7109306930693069, 0.6496402640264026, 0.7518844884488449, 0.7833399339933993, 0.7358283828382839, 0.7833894389438945, 0.7761188118811881, 0.6924851485148515, 0.6387260726072608, 0.7226699669966996, 0.7763795379537954, 0.783003300330033, 0.789019801980198, 0.7836765676567656]}, {\"categories\": [\"0\", \"1\", \"2\", \"3\", \"4\", \"5\", \"6\", \"7\", \"8\", \"9\", \"10\", \"11\", \"12\", \"13\", \"14\", \"15\", \"16\", \"17\", \"18\", \"19\", \"20\", \"21\", \"22\", \"23\", \"24\", \"25\", \"26\", \"27\", \"28\", \"29\", \"30\"], \"mode\": \"lines\", \"name\": \"recall_score_macro_max\", \"stepped\": true, \"type\": \"scatter\", \"data\": [0.7870495049504951, 0.7870495049504951, 0.7870495049504951, 0.7870495049504951, 0.7870495049504951, 0.7870495049504951, 0.7870495049504951, 0.7870495049504951, 0.7870495049504951, 0.7870495049504951, 0.7870495049504951, 0.7870495049504951, 0.7870495049504951, 0.7870495049504951, 0.7870495049504951, 0.7870495049504951, 0.7870495049504951, 0.7870495049504951, 0.7870495049504951, 0.7870495049504951, 0.7870495049504951, 0.7870495049504951, 0.7870495049504951, 0.7870495049504951, 0.7870495049504951, 0.7870495049504951, 0.7870495049504951, 0.7870495049504951, 0.7870495049504951, 0.789019801980198, 0.789019801980198]}], \"average_precision_score_weighted\": [{\"categories\": [\"0\", \"1\", \"2\", \"3\", \"4\", \"5\", \"6\", \"7\", \"8\", \"9\", \"10\", \"11\", \"12\", \"13\", \"14\", \"15\", \"16\", \"17\", \"18\", \"19\", \"20\", \"21\", \"22\", \"23\", \"24\", \"25\", \"26\", \"27\", \"28\", \"29\", \"30\"], \"mode\": \"markers\", \"name\": \"average_precision_score_weighted\", \"stepped\": false, \"type\": \"scatter\", \"data\": [0.8590633279138422, 0.8406106932754612, 0.7819764102912029, 0.7840626139873174, 0.7024436223098734, 0.7400818261837209, 0.7819286937005536, 0.8072917907194019, 0.7908211189648554, 0.7752193603438201, 0.7657997128902518, 0.6607931691350856, 0.7168072274959985, 0.7904265862796153, 0.7141235789841824, 0.6269688732602888, 0.7483085152750628, 0.7714805880354104, 0.6862170190651118, 0.8230907361005368, 0.850395473306881, 0.8049013751087184, 0.8564424057532231, 0.8332025259842267, 0.7584198448257661, 0.6683839280415167, 0.7866644624854713, 0.842457241519143, 0.8504058843339847, 0.8638382010353565, 0.8624386372856896]}, {\"categories\": [\"0\", \"1\", \"2\", \"3\", \"4\", \"5\", \"6\", \"7\", \"8\", \"9\", \"10\", \"11\", \"12\", \"13\", \"14\", \"15\", \"16\", \"17\", \"18\", \"19\", \"20\", \"21\", \"22\", \"23\", \"24\", \"25\", \"26\", \"27\", \"28\", \"29\", \"30\"], \"mode\": \"lines\", \"name\": \"average_precision_score_weighted_max\", \"stepped\": true, \"type\": \"scatter\", \"data\": [0.8590633279138422, 0.8590633279138422, 0.8590633279138422, 0.8590633279138422, 0.8590633279138422, 0.8590633279138422, 0.8590633279138422, 0.8590633279138422, 0.8590633279138422, 0.8590633279138422, 0.8590633279138422, 0.8590633279138422, 0.8590633279138422, 0.8590633279138422, 0.8590633279138422, 0.8590633279138422, 0.8590633279138422, 0.8590633279138422, 0.8590633279138422, 0.8590633279138422, 0.8590633279138422, 0.8590633279138422, 0.8590633279138422, 0.8590633279138422, 0.8590633279138422, 0.8590633279138422, 0.8590633279138422, 0.8590633279138422, 0.8590633279138422, 0.8638382010353565, 0.8638382010353565]}], \"precision_score_micro\": [{\"categories\": [\"0\", \"1\", \"2\", \"3\", \"4\", \"5\", \"6\", \"7\", \"8\", \"9\", \"10\", \"11\", \"12\", \"13\", \"14\", \"15\", \"16\", \"17\", \"18\", \"19\", \"20\", \"21\", \"22\", \"23\", \"24\", \"25\", \"26\", \"27\", \"28\", \"29\", \"30\"], \"mode\": \"markers\", \"name\": \"precision_score_micro\", \"stepped\": false, \"type\": \"scatter\", \"data\": [0.7870646766169154, 0.7661691542288557, 0.7137645107794361, 0.7194029850746269, 0.6660033167495855, 0.6799336650082919, 0.72106135986733, 0.7303482587064677, 0.7276948590381426, 0.7131011608623549, 0.7114427860696517, 0.6374792703150912, 0.6782752902155887, 0.7227197346600331, 0.6706467661691542, 0.6029850746268657, 0.675290215588723, 0.7111111111111111, 0.6497512437810945, 0.7519071310116087, 0.7834162520729685, 0.7359867330016584, 0.7834162520729685, 0.7761194029850746, 0.6925373134328359, 0.6388059701492538, 0.7227197346600331, 0.7764510779436152, 0.7830845771144279, 0.7890547263681592, 0.7837479270315091]}, {\"categories\": [\"0\", \"1\", \"2\", \"3\", \"4\", \"5\", \"6\", \"7\", \"8\", \"9\", \"10\", \"11\", \"12\", \"13\", \"14\", \"15\", \"16\", \"17\", \"18\", \"19\", \"20\", \"21\", \"22\", \"23\", \"24\", \"25\", \"26\", \"27\", \"28\", \"29\", \"30\"], \"mode\": \"lines\", \"name\": \"precision_score_micro_max\", \"stepped\": true, \"type\": \"scatter\", \"data\": [0.7870646766169154, 0.7870646766169154, 0.7870646766169154, 0.7870646766169154, 0.7870646766169154, 0.7870646766169154, 0.7870646766169154, 0.7870646766169154, 0.7870646766169154, 0.7870646766169154, 0.7870646766169154, 0.7870646766169154, 0.7870646766169154, 0.7870646766169154, 0.7870646766169154, 0.7870646766169154, 0.7870646766169154, 0.7870646766169154, 0.7870646766169154, 0.7870646766169154, 0.7870646766169154, 0.7870646766169154, 0.7870646766169154, 0.7870646766169154, 0.7870646766169154, 0.7870646766169154, 0.7870646766169154, 0.7870646766169154, 0.7870646766169154, 0.7890547263681592, 0.7890547263681592]}], \"accuracy\": [{\"categories\": [\"0\", \"1\", \"2\", \"3\", \"4\", \"5\", \"6\", \"7\", \"8\", \"9\", \"10\", \"11\", \"12\", \"13\", \"14\", \"15\", \"16\", \"17\", \"18\", \"19\", \"20\", \"21\", \"22\", \"23\", \"24\", \"25\", \"26\", \"27\", \"28\", \"29\", \"30\"], \"mode\": \"markers\", \"name\": \"accuracy\", \"stepped\": false, \"type\": \"scatter\", \"data\": [0.7870646766169154, 0.7661691542288557, 0.7137645107794361, 0.7194029850746269, 0.6660033167495855, 0.6799336650082919, 0.72106135986733, 0.7303482587064677, 0.7276948590381426, 0.7131011608623549, 0.7114427860696517, 0.6374792703150912, 0.6782752902155887, 0.7227197346600331, 0.6706467661691542, 0.6029850746268657, 0.675290215588723, 0.7111111111111111, 0.6497512437810945, 0.7519071310116087, 0.7834162520729685, 0.7359867330016584, 0.7834162520729685, 0.7761194029850746, 0.6925373134328359, 0.6388059701492538, 0.7227197346600331, 0.7764510779436152, 0.7830845771144279, 0.7890547263681592, 0.7837479270315091]}, {\"categories\": [\"0\", \"1\", \"2\", \"3\", \"4\", \"5\", \"6\", \"7\", \"8\", \"9\", \"10\", \"11\", \"12\", \"13\", \"14\", \"15\", \"16\", \"17\", \"18\", \"19\", \"20\", \"21\", \"22\", \"23\", \"24\", \"25\", \"26\", \"27\", \"28\", \"29\", \"30\"], \"mode\": \"lines\", \"name\": \"accuracy_max\", \"stepped\": true, \"type\": \"scatter\", \"data\": [0.7870646766169154, 0.7870646766169154, 0.7870646766169154, 0.7870646766169154, 0.7870646766169154, 0.7870646766169154, 0.7870646766169154, 0.7870646766169154, 0.7870646766169154, 0.7870646766169154, 0.7870646766169154, 0.7870646766169154, 0.7870646766169154, 0.7870646766169154, 0.7870646766169154, 0.7870646766169154, 0.7870646766169154, 0.7870646766169154, 0.7870646766169154, 0.7870646766169154, 0.7870646766169154, 0.7870646766169154, 0.7870646766169154, 0.7870646766169154, 0.7870646766169154, 0.7870646766169154, 0.7870646766169154, 0.7870646766169154, 0.7870646766169154, 0.7890547263681592, 0.7890547263681592]}], \"recall_score_weighted\": [{\"categories\": [\"0\", \"1\", \"2\", \"3\", \"4\", \"5\", \"6\", \"7\", \"8\", \"9\", \"10\", \"11\", \"12\", \"13\", \"14\", \"15\", \"16\", \"17\", \"18\", \"19\", \"20\", \"21\", \"22\", \"23\", \"24\", \"25\", \"26\", \"27\", \"28\", \"29\", \"30\"], \"mode\": \"markers\", \"name\": \"recall_score_weighted\", \"stepped\": false, \"type\": \"scatter\", \"data\": [0.7870646766169154, 0.7661691542288557, 0.7137645107794361, 0.7194029850746269, 0.6660033167495855, 0.6799336650082919, 0.72106135986733, 0.7303482587064677, 0.7276948590381426, 0.7131011608623549, 0.7114427860696517, 0.6374792703150912, 0.6782752902155887, 0.7227197346600331, 0.6706467661691542, 0.6029850746268657, 0.675290215588723, 0.7111111111111111, 0.6497512437810945, 0.7519071310116087, 0.7834162520729685, 0.7359867330016584, 0.7834162520729685, 0.7761194029850746, 0.6925373134328359, 0.6388059701492538, 0.7227197346600331, 0.7764510779436152, 0.7830845771144279, 0.7890547263681592, 0.7837479270315091]}, {\"categories\": [\"0\", \"1\", \"2\", \"3\", \"4\", \"5\", \"6\", \"7\", \"8\", \"9\", \"10\", \"11\", \"12\", \"13\", \"14\", \"15\", \"16\", \"17\", \"18\", \"19\", \"20\", \"21\", \"22\", \"23\", \"24\", \"25\", \"26\", \"27\", \"28\", \"29\", \"30\"], \"mode\": \"lines\", \"name\": \"recall_score_weighted_max\", \"stepped\": true, \"type\": \"scatter\", \"data\": [0.7870646766169154, 0.7870646766169154, 0.7870646766169154, 0.7870646766169154, 0.7870646766169154, 0.7870646766169154, 0.7870646766169154, 0.7870646766169154, 0.7870646766169154, 0.7870646766169154, 0.7870646766169154, 0.7870646766169154, 0.7870646766169154, 0.7870646766169154, 0.7870646766169154, 0.7870646766169154, 0.7870646766169154, 0.7870646766169154, 0.7870646766169154, 0.7870646766169154, 0.7870646766169154, 0.7870646766169154, 0.7870646766169154, 0.7870646766169154, 0.7870646766169154, 0.7870646766169154, 0.7870646766169154, 0.7870646766169154, 0.7870646766169154, 0.7890547263681592, 0.7890547263681592]}], \"f1_score_micro\": [{\"categories\": [\"0\", \"1\", \"2\", \"3\", \"4\", \"5\", \"6\", \"7\", \"8\", \"9\", \"10\", \"11\", \"12\", \"13\", \"14\", \"15\", \"16\", \"17\", \"18\", \"19\", \"20\", \"21\", \"22\", \"23\", \"24\", \"25\", \"26\", \"27\", \"28\", \"29\", \"30\"], \"mode\": \"markers\", \"name\": \"f1_score_micro\", \"stepped\": false, \"type\": \"scatter\", \"data\": [0.7870646766169154, 0.7661691542288558, 0.7137645107794363, 0.7194029850746269, 0.6660033167495855, 0.6799336650082919, 0.7210613598673299, 0.7303482587064677, 0.7276948590381426, 0.7131011608623548, 0.7114427860696517, 0.6374792703150912, 0.6782752902155887, 0.7227197346600331, 0.6706467661691542, 0.6029850746268657, 0.675290215588723, 0.7111111111111111, 0.6497512437810945, 0.7519071310116086, 0.7834162520729685, 0.7359867330016584, 0.7834162520729685, 0.7761194029850746, 0.6925373134328359, 0.6388059701492538, 0.7227197346600331, 0.7764510779436152, 0.7830845771144279, 0.7890547263681592, 0.783747927031509]}, {\"categories\": [\"0\", \"1\", \"2\", \"3\", \"4\", \"5\", \"6\", \"7\", \"8\", \"9\", \"10\", \"11\", \"12\", \"13\", \"14\", \"15\", \"16\", \"17\", \"18\", \"19\", \"20\", \"21\", \"22\", \"23\", \"24\", \"25\", \"26\", \"27\", \"28\", \"29\", \"30\"], \"mode\": \"lines\", \"name\": \"f1_score_micro_max\", \"stepped\": true, \"type\": \"scatter\", \"data\": [0.7870646766169154, 0.7870646766169154, 0.7870646766169154, 0.7870646766169154, 0.7870646766169154, 0.7870646766169154, 0.7870646766169154, 0.7870646766169154, 0.7870646766169154, 0.7870646766169154, 0.7870646766169154, 0.7870646766169154, 0.7870646766169154, 0.7870646766169154, 0.7870646766169154, 0.7870646766169154, 0.7870646766169154, 0.7870646766169154, 0.7870646766169154, 0.7870646766169154, 0.7870646766169154, 0.7870646766169154, 0.7870646766169154, 0.7870646766169154, 0.7870646766169154, 0.7870646766169154, 0.7870646766169154, 0.7870646766169154, 0.7870646766169154, 0.7890547263681592, 0.7890547263681592]}], \"balanced_accuracy\": [{\"categories\": [\"0\", \"1\", \"2\", \"3\", \"4\", \"5\", \"6\", \"7\", \"8\", \"9\", \"10\", \"11\", \"12\", \"13\", \"14\", \"15\", \"16\", \"17\", \"18\", \"19\", \"20\", \"21\", \"22\", \"23\", \"24\", \"25\", \"26\", \"27\", \"28\", \"29\", \"30\"], \"mode\": \"markers\", \"name\": \"balanced_accuracy\", \"stepped\": false, \"type\": \"scatter\", \"data\": [0.7870495049504951, 0.766029702970297, 0.7138382838283828, 0.7193465346534653, 0.6659999999999999, 0.67996699669967, 0.7211254125412541, 0.7304290429042904, 0.7276897689768977, 0.7131716171617162, 0.7113762376237623, 0.6375610561056106, 0.6783234323432343, 0.7223399339933994, 0.6704686468646865, 0.6035148514851485, 0.6755016501650165, 0.7109306930693069, 0.6496402640264026, 0.7518844884488449, 0.7833399339933993, 0.7358283828382839, 0.7833894389438945, 0.7761188118811881, 0.6924851485148515, 0.6387260726072608, 0.7226699669966996, 0.7763795379537954, 0.783003300330033, 0.789019801980198, 0.7836765676567656]}, {\"categories\": [\"0\", \"1\", \"2\", \"3\", \"4\", \"5\", \"6\", \"7\", \"8\", \"9\", \"10\", \"11\", \"12\", \"13\", \"14\", \"15\", \"16\", \"17\", \"18\", \"19\", \"20\", \"21\", \"22\", \"23\", \"24\", \"25\", \"26\", \"27\", \"28\", \"29\", \"30\"], \"mode\": \"lines\", \"name\": \"balanced_accuracy_max\", \"stepped\": true, \"type\": \"scatter\", \"data\": [0.7870495049504951, 0.7870495049504951, 0.7870495049504951, 0.7870495049504951, 0.7870495049504951, 0.7870495049504951, 0.7870495049504951, 0.7870495049504951, 0.7870495049504951, 0.7870495049504951, 0.7870495049504951, 0.7870495049504951, 0.7870495049504951, 0.7870495049504951, 0.7870495049504951, 0.7870495049504951, 0.7870495049504951, 0.7870495049504951, 0.7870495049504951, 0.7870495049504951, 0.7870495049504951, 0.7870495049504951, 0.7870495049504951, 0.7870495049504951, 0.7870495049504951, 0.7870495049504951, 0.7870495049504951, 0.7870495049504951, 0.7870495049504951, 0.789019801980198, 0.789019801980198]}], \"f1_score_weighted\": [{\"categories\": [\"0\", \"1\", \"2\", \"3\", \"4\", \"5\", \"6\", \"7\", \"8\", \"9\", \"10\", \"11\", \"12\", \"13\", \"14\", \"15\", \"16\", \"17\", \"18\", \"19\", \"20\", \"21\", \"22\", \"23\", \"24\", \"25\", \"26\", \"27\", \"28\", \"29\", \"30\"], \"mode\": \"markers\", \"name\": \"f1_score_weighted\", \"stepped\": false, \"type\": \"scatter\", \"data\": [0.7870617249680373, 0.7659689266267559, 0.7137120446440113, 0.7193613039969493, 0.6660046394969402, 0.6799248624248568, 0.7210244112670016, 0.7302885060722073, 0.7276952784286609, 0.7130536873986191, 0.7113844879881316, 0.6373915182508014, 0.6782524258292216, 0.7210476679910334, 0.6702057319632613, 0.5984809506707865, 0.6747287538923172, 0.7107100456432335, 0.6495671802540816, 0.7519003074751222, 0.7833568080177188, 0.7357004668133161, 0.7834075786590319, 0.7761202896330036, 0.6924989502064801, 0.6387068360356751, 0.7226872123151061, 0.7763969570231422, 0.7830175915414708, 0.7890409405151873, 0.7836955726692708]}, {\"categories\": [\"0\", \"1\", \"2\", \"3\", \"4\", \"5\", \"6\", \"7\", \"8\", \"9\", \"10\", \"11\", \"12\", \"13\", \"14\", \"15\", \"16\", \"17\", \"18\", \"19\", \"20\", \"21\", \"22\", \"23\", \"24\", \"25\", \"26\", \"27\", \"28\", \"29\", \"30\"], \"mode\": \"lines\", \"name\": \"f1_score_weighted_max\", \"stepped\": true, \"type\": \"scatter\", \"data\": [0.7870617249680373, 0.7870617249680373, 0.7870617249680373, 0.7870617249680373, 0.7870617249680373, 0.7870617249680373, 0.7870617249680373, 0.7870617249680373, 0.7870617249680373, 0.7870617249680373, 0.7870617249680373, 0.7870617249680373, 0.7870617249680373, 0.7870617249680373, 0.7870617249680373, 0.7870617249680373, 0.7870617249680373, 0.7870617249680373, 0.7870617249680373, 0.7870617249680373, 0.7870617249680373, 0.7870617249680373, 0.7870617249680373, 0.7870617249680373, 0.7870617249680373, 0.7870617249680373, 0.7870617249680373, 0.7870617249680373, 0.7870617249680373, 0.7890409405151873, 0.7890409405151873]}], \"average_precision_score_macro\": [{\"categories\": [\"0\", \"1\", \"2\", \"3\", \"4\", \"5\", \"6\", \"7\", \"8\", \"9\", \"10\", \"11\", \"12\", \"13\", \"14\", \"15\", \"16\", \"17\", \"18\", \"19\", \"20\", \"21\", \"22\", \"23\", \"24\", \"25\", \"26\", \"27\", \"28\", \"29\", \"30\"], \"mode\": \"markers\", \"name\": \"average_precision_score_macro\", \"stepped\": false, \"type\": \"scatter\", \"data\": [0.8590854676863365, 0.8406513300329367, 0.782002983776285, 0.7840970843997044, 0.7024432683855539, 0.7401176016946421, 0.7819739603320821, 0.8073407924723388, 0.7908740072234365, 0.7752327884465979, 0.7658346502546559, 0.6608035002994609, 0.7168406027089569, 0.7904942533686204, 0.7141703762819698, 0.6269490480753024, 0.7483661358194125, 0.7714807478699726, 0.686233348709256, 0.8231327143939489, 0.8504176802549811, 0.8049517480505018, 0.8564628300052917, 0.8332560370454192, 0.7584432829834593, 0.6684229206647265, 0.7866901137069977, 0.8424889689772632, 0.8504280740488017, 0.8638582900769595, 0.8624519602847829]}, {\"categories\": [\"0\", \"1\", \"2\", \"3\", \"4\", \"5\", \"6\", \"7\", \"8\", \"9\", \"10\", \"11\", \"12\", \"13\", \"14\", \"15\", \"16\", \"17\", \"18\", \"19\", \"20\", \"21\", \"22\", \"23\", \"24\", \"25\", \"26\", \"27\", \"28\", \"29\", \"30\"], \"mode\": \"lines\", \"name\": \"average_precision_score_macro_max\", \"stepped\": true, \"type\": \"scatter\", \"data\": [0.8590854676863365, 0.8590854676863365, 0.8590854676863365, 0.8590854676863365, 0.8590854676863365, 0.8590854676863365, 0.8590854676863365, 0.8590854676863365, 0.8590854676863365, 0.8590854676863365, 0.8590854676863365, 0.8590854676863365, 0.8590854676863365, 0.8590854676863365, 0.8590854676863365, 0.8590854676863365, 0.8590854676863365, 0.8590854676863365, 0.8590854676863365, 0.8590854676863365, 0.8590854676863365, 0.8590854676863365, 0.8590854676863365, 0.8590854676863365, 0.8590854676863365, 0.8590854676863365, 0.8590854676863365, 0.8590854676863365, 0.8590854676863365, 0.8638582900769595, 0.8638582900769595]}], \"AUC_micro\": [{\"categories\": [\"0\", \"1\", \"2\", \"3\", \"4\", \"5\", \"6\", \"7\", \"8\", \"9\", \"10\", \"11\", \"12\", \"13\", \"14\", \"15\", \"16\", \"17\", \"18\", \"19\", \"20\", \"21\", \"22\", \"23\", \"24\", \"25\", \"26\", \"27\", \"28\", \"29\", \"30\"], \"mode\": \"markers\", \"name\": \"AUC_micro\", \"stepped\": false, \"type\": \"scatter\", \"data\": [0.8619840543000861, 0.8444174924163044, 0.7868999942245655, 0.7900095982222662, 0.7174814704806537, 0.7489070952589182, 0.7865921910623774, 0.808747638259779, 0.7969429799592419, 0.7813067333316832, 0.7767543707664002, 0.677671454776972, 0.7306090883338971, 0.7953281684446755, 0.720423311854217, 0.6547709215118438, 0.7521402385529511, 0.7813351154674388, 0.6998419731084764, 0.8287806957473549, 0.856385403001576, 0.8093657747745518, 0.8601930095239667, 0.844424422937826, 0.7677433726887948, 0.6815777387248392, 0.794040081516134, 0.8489073702796135, 0.8564015742184599, 0.8673885409877093, 0.8659247708390057]}, {\"categories\": [\"0\", \"1\", \"2\", \"3\", \"4\", \"5\", \"6\", \"7\", \"8\", \"9\", \"10\", \"11\", \"12\", \"13\", \"14\", \"15\", \"16\", \"17\", \"18\", \"19\", \"20\", \"21\", \"22\", \"23\", \"24\", \"25\", \"26\", \"27\", \"28\", \"29\", \"30\"], \"mode\": \"lines\", \"name\": \"AUC_micro_max\", \"stepped\": true, \"type\": \"scatter\", \"data\": [0.8619840543000861, 0.8619840543000861, 0.8619840543000861, 0.8619840543000861, 0.8619840543000861, 0.8619840543000861, 0.8619840543000861, 0.8619840543000861, 0.8619840543000861, 0.8619840543000861, 0.8619840543000861, 0.8619840543000861, 0.8619840543000861, 0.8619840543000861, 0.8619840543000861, 0.8619840543000861, 0.8619840543000861, 0.8619840543000861, 0.8619840543000861, 0.8619840543000861, 0.8619840543000861, 0.8619840543000861, 0.8619840543000861, 0.8619840543000861, 0.8619840543000861, 0.8619840543000861, 0.8619840543000861, 0.8619840543000861, 0.8619840543000861, 0.8673885409877093, 0.8673885409877093]}]}, \"metricName\": null, \"primaryMetricName\": \"AUC_weighted\", \"showLegend\": false}, \"run_metrics\": [{\"name\": \"experiment_status\", \"run_id\": \"AutoML_683a1772-a4d9-48e6-9620-4b70c81abe0a\", \"categories\": [0, 1, 2, 3, 4, 5, 6, 7, 8, 9, 10, 11, 12], \"series\": [{\"data\": [\"DatasetEvaluation\", \"FeaturesGeneration\", \"DatasetFeaturization\", \"DatasetFeaturizationCompleted\", \"ModelSelection\", \"BestRunExplainModel\", \"ModelExplanationDataSetSetup\", \"PickSurrogateModel\", \"EngineeredFeatureExplanations\", \"EngineeredFeatureExplanations\", \"RawFeaturesExplanations\", \"RawFeaturesExplanations\", \"BestRunExplainModel\"]}]}, {\"name\": \"experiment_status_description\", \"run_id\": \"AutoML_683a1772-a4d9-48e6-9620-4b70c81abe0a\", \"categories\": [0, 1, 2, 3, 4, 5, 6, 7, 8, 9, 10, 11, 12], \"series\": [{\"data\": [\"Gathering dataset statistics.\", \"Generating features for the dataset.\", \"Beginning to fit featurizers and featurize the dataset.\", \"Completed fit featurizers and featurizing the dataset.\", \"Beginning model selection.\", \"Best run model explanations started\", \"Model explanations data setup completed\", \"Choosing LinearModel as the surrogate model for explanations\", \"Computation of engineered features started\", \"Computation of engineered features completed\", \"Computation of raw features started\", \"Computation of raw features completed\", \"Best run model explanations completed\"]}]}, {\"name\": \"norm_macro_recall\", \"run_id\": \"AutoML_683a1772-a4d9-48e6-9620-4b70c81abe0a\", \"categories\": [0], \"series\": [{\"data\": [0.5780396039603961]}]}, {\"name\": \"AUC_weighted\", \"run_id\": \"AutoML_683a1772-a4d9-48e6-9620-4b70c81abe0a\", \"categories\": [0], \"series\": [{\"data\": [0.867168316831683]}]}, {\"name\": \"weighted_accuracy\", \"run_id\": \"AutoML_683a1772-a4d9-48e6-9620-4b70c81abe0a\", \"categories\": [0], \"series\": [{\"data\": [0.7890896490272759]}]}, {\"name\": \"f1_score_micro\", \"run_id\": \"AutoML_683a1772-a4d9-48e6-9620-4b70c81abe0a\", \"categories\": [0], \"series\": [{\"data\": [0.7890547263681592]}]}, {\"name\": \"AUC_macro\", \"run_id\": \"AutoML_683a1772-a4d9-48e6-9620-4b70c81abe0a\", \"categories\": [0], \"series\": [{\"data\": [0.867168316831683]}]}, {\"name\": \"f1_score_weighted\", \"run_id\": \"AutoML_683a1772-a4d9-48e6-9620-4b70c81abe0a\", \"categories\": [0], \"series\": [{\"data\": [0.7890409405151873]}]}, {\"name\": \"average_precision_score_weighted\", \"run_id\": \"AutoML_683a1772-a4d9-48e6-9620-4b70c81abe0a\", \"categories\": [0], \"series\": [{\"data\": [0.8638382010353565]}]}, {\"name\": \"accuracy\", \"run_id\": \"AutoML_683a1772-a4d9-48e6-9620-4b70c81abe0a\", \"categories\": [0], \"series\": [{\"data\": [0.7890547263681592]}]}, {\"name\": \"log_loss\", \"run_id\": \"AutoML_683a1772-a4d9-48e6-9620-4b70c81abe0a\", \"categories\": [0], \"series\": [{\"data\": [0.49779187078562687]}]}, {\"name\": \"precision_score_micro\", \"run_id\": \"AutoML_683a1772-a4d9-48e6-9620-4b70c81abe0a\", \"categories\": [0], \"series\": [{\"data\": [0.7890547263681592]}]}, {\"name\": \"average_precision_score_micro\", \"run_id\": \"AutoML_683a1772-a4d9-48e6-9620-4b70c81abe0a\", \"categories\": [0], \"series\": [{\"data\": [0.8641698459930782]}]}, {\"name\": \"recall_score_macro\", \"run_id\": \"AutoML_683a1772-a4d9-48e6-9620-4b70c81abe0a\", \"categories\": [0], \"series\": [{\"data\": [0.789019801980198]}]}, {\"name\": \"f1_score_macro\", \"run_id\": \"AutoML_683a1772-a4d9-48e6-9620-4b70c81abe0a\", \"categories\": [0], \"series\": [{\"data\": [0.7890294523043774]}]}, {\"name\": \"AUC_micro\", \"run_id\": \"AutoML_683a1772-a4d9-48e6-9620-4b70c81abe0a\", \"categories\": [0], \"series\": [{\"data\": [0.8673885409877093]}]}, {\"name\": \"precision_score_weighted\", \"run_id\": \"AutoML_683a1772-a4d9-48e6-9620-4b70c81abe0a\", \"categories\": [0], \"series\": [{\"data\": [0.7890834142273412]}]}, {\"name\": \"precision_score_macro\", \"run_id\": \"AutoML_683a1772-a4d9-48e6-9620-4b70c81abe0a\", \"categories\": [0], \"series\": [{\"data\": [0.7890953675020005]}]}, {\"name\": \"matthews_correlation\", \"run_id\": \"AutoML_683a1772-a4d9-48e6-9620-4b70c81abe0a\", \"categories\": [0], \"series\": [{\"data\": [0.578115164543608]}]}, {\"name\": \"recall_score_weighted\", \"run_id\": \"AutoML_683a1772-a4d9-48e6-9620-4b70c81abe0a\", \"categories\": [0], \"series\": [{\"data\": [0.7890547263681592]}]}, {\"name\": \"average_precision_score_macro\", \"run_id\": \"AutoML_683a1772-a4d9-48e6-9620-4b70c81abe0a\", \"categories\": [0], \"series\": [{\"data\": [0.8638582900769595]}]}, {\"name\": \"recall_score_micro\", \"run_id\": \"AutoML_683a1772-a4d9-48e6-9620-4b70c81abe0a\", \"categories\": [0], \"series\": [{\"data\": [0.7890547263681592]}]}, {\"name\": \"balanced_accuracy\", \"run_id\": \"AutoML_683a1772-a4d9-48e6-9620-4b70c81abe0a\", \"categories\": [0], \"series\": [{\"data\": [0.789019801980198]}]}], \"run_logs\": \"\\nRun is completed.\", \"graph\": {}, \"widget_settings\": {\"childWidgetDisplay\": \"popup\", \"send_telemetry\": false, \"log_level\": \"INFO\", \"sdk_version\": \"1.27.0\"}, \"loading\": false}"
     },
     "metadata": {},
     "output_type": "display_data"
    }
   ],
   "source": [
    "RunDetails(automl_run).show()"
   ]
  },
  {
   "cell_type": "markdown",
   "metadata": {},
   "source": [
    "## Best Model\n",
    "\n",
    "TODO: In the cell below, get the best model from the automl experiments and display all the properties of the model.\n",
    "\n"
   ]
  },
  {
   "cell_type": "code",
   "execution_count": 22,
   "metadata": {
    "gather": {
     "logged": 1621045760379
    },
    "jupyter": {
     "outputs_hidden": false,
     "source_hidden": false
    },
    "nteract": {
     "transient": {
      "deleting": false
     }
    }
   },
   "outputs": [],
   "source": [
    "best_run_automl = automl_run.get_best_child()\n",
    "\n"
   ]
  },
  {
   "cell_type": "code",
   "execution_count": 23,
   "metadata": {
    "collapsed": true,
    "gather": {
     "logged": 1621045761605
    },
    "jupyter": {
     "outputs_hidden": false,
     "source_hidden": false
    },
    "nteract": {
     "transient": {
      "deleting": false
     }
    }
   },
   "outputs": [
    {
     "data": {
      "text/plain": [
       "['accuracy_table',\n",
       " 'automl_driver.py',\n",
       " 'azureml-logs/55_azureml-execution-tvmps_f8c43420721b6df8cab68fd148a2a5f7aaf79cb4016c74a657042736e9a99e6a_d.txt',\n",
       " 'azureml-logs/65_job_prep-tvmps_f8c43420721b6df8cab68fd148a2a5f7aaf79cb4016c74a657042736e9a99e6a_d.txt',\n",
       " 'azureml-logs/70_driver_log.txt',\n",
       " 'azureml-logs/75_job_post-tvmps_f8c43420721b6df8cab68fd148a2a5f7aaf79cb4016c74a657042736e9a99e6a_d.txt',\n",
       " 'azureml-logs/process_info.json',\n",
       " 'azureml-logs/process_status.json',\n",
       " 'confusion_matrix',\n",
       " 'logs/azureml/105_azureml.log',\n",
       " 'logs/azureml/azureml_automl.log',\n",
       " 'logs/azureml/job_prep_azureml.log',\n",
       " 'logs/azureml/job_release_azureml.log',\n",
       " 'outputs/conda_env_v_1_0_0.yml',\n",
       " 'outputs/env_dependencies.json',\n",
       " 'outputs/model.pkl',\n",
       " 'outputs/pipeline_graph.json',\n",
       " 'outputs/scoring_file_v_1_0_0.py']"
      ]
     },
     "execution_count": 23,
     "metadata": {},
     "output_type": "execute_result"
    }
   ],
   "source": [
    "best_run_automl.get_file_names()"
   ]
  },
  {
   "cell_type": "code",
   "execution_count": 24,
   "metadata": {
    "collapsed": true,
    "gather": {
     "logged": 1621045765609
    },
    "jupyter": {
     "outputs_hidden": false,
     "source_hidden": false
    },
    "nteract": {
     "transient": {
      "deleting": false
     }
    }
   },
   "outputs": [],
   "source": [
    "best_run_automl.download_file(best_run_automl.get_file_names()[-3])\n"
   ]
  },
  {
   "cell_type": "code",
   "execution_count": 25,
   "metadata": {
    "gather": {
     "logged": 1621045771673
    },
    "jupyter": {
     "outputs_hidden": false,
     "source_hidden": false
    },
    "nteract": {
     "transient": {
      "deleting": false
     }
    }
   },
   "outputs": [
    {
     "data": {
      "text/plain": [
       "['outputs/best_automl_model.joblib']"
      ]
     },
     "execution_count": 25,
     "metadata": {},
     "output_type": "execute_result"
    }
   ],
   "source": [
    "# Save the downloaded file to local storage\n",
    "local_path='./outputs'\n",
    "os.makedirs(local_path, exist_ok=True)\n",
    "\n",
    "best_automl_model = joblib.load(open(best_run_automl.get_file_names()[-3].split('/')[1], 'rb'))\n",
    "joblib.dump(best_automl_model, 'outputs/best_automl_model.joblib')"
   ]
  },
  {
   "cell_type": "code",
   "execution_count": 26,
   "metadata": {
    "collapsed": true,
    "gather": {
     "logged": 1621045776959
    },
    "jupyter": {
     "outputs_hidden": false,
     "source_hidden": false
    },
    "nteract": {
     "transient": {
      "deleting": false
     }
    }
   },
   "outputs": [
    {
     "data": {
      "text/plain": [
       "{'recall_score_micro': 0.7890547263681592,\n",
       " 'balanced_accuracy': 0.789019801980198,\n",
       " 'f1_score_weighted': 0.7890409405151873,\n",
       " 'AUC_micro': 0.8673885409877093,\n",
       " 'weighted_accuracy': 0.7890896490272759,\n",
       " 'average_precision_score_weighted': 0.8638382010353565,\n",
       " 'average_precision_score_micro': 0.8641698459930782,\n",
       " 'accuracy': 0.7890547263681592,\n",
       " 'norm_macro_recall': 0.5780396039603961,\n",
       " 'log_loss': 0.49779187078562687,\n",
       " 'AUC_weighted': 0.867168316831683,\n",
       " 'matthews_correlation': 0.578115164543608,\n",
       " 'precision_score_macro': 0.7890953675020005,\n",
       " 'f1_score_macro': 0.7890294523043774,\n",
       " 'precision_score_micro': 0.7890547263681592,\n",
       " 'average_precision_score_macro': 0.8638582900769595,\n",
       " 'precision_score_weighted': 0.7890834142273412,\n",
       " 'recall_score_weighted': 0.7890547263681592,\n",
       " 'AUC_macro': 0.867168316831683,\n",
       " 'f1_score_micro': 0.7890547263681592,\n",
       " 'recall_score_macro': 0.789019801980198,\n",
       " 'confusion_matrix': 'aml://artifactId/ExperimentRun/dcid.AutoML_683a1772-a4d9-48e6-9620-4b70c81abe0a_29/confusion_matrix',\n",
       " 'accuracy_table': 'aml://artifactId/ExperimentRun/dcid.AutoML_683a1772-a4d9-48e6-9620-4b70c81abe0a_29/accuracy_table'}"
      ]
     },
     "execution_count": 26,
     "metadata": {},
     "output_type": "execute_result"
    }
   ],
   "source": [
    "best_run_automl.get_metrics()"
   ]
  },
  {
   "cell_type": "code",
   "execution_count": 27,
   "metadata": {
    "collapsed": true,
    "gather": {
     "logged": 1621045780695
    },
    "jupyter": {
     "outputs_hidden": false,
     "source_hidden": false
    },
    "nteract": {
     "transient": {
      "deleting": false
     }
    }
   },
   "outputs": [
    {
     "data": {
      "text/plain": [
       "array([[ 1,  0,  0, ...,  0,  0,  0],\n",
       "       [12,  0,  1, ...,  0,  1,  0],\n",
       "       [ 0,  0,  0, ...,  0,  0,  0],\n",
       "       ...,\n",
       "       [ 0,  0,  0, ...,  0,  0,  0],\n",
       "       [ 0,  0,  0, ...,  0,  0,  0],\n",
       "       [ 0,  0,  0, ...,  0,  0,  0]])"
      ]
     },
     "execution_count": 27,
     "metadata": {},
     "output_type": "execute_result"
    }
   ],
   "source": [
    "X_test"
   ]
  },
  {
   "cell_type": "code",
   "execution_count": 30,
   "metadata": {
    "collapsed": true,
    "gather": {
     "logged": 1621045801076
    },
    "jupyter": {
     "outputs_hidden": false,
     "source_hidden": false
    },
    "nteract": {
     "transient": {
      "deleting": false
     }
    }
   },
   "outputs": [],
   "source": [
    "test_dataset = pd.DataFrame(X_test)"
   ]
  },
  {
   "cell_type": "code",
   "execution_count": 33,
   "metadata": {
    "collapsed": true,
    "gather": {
     "logged": 1621045821740
    },
    "jupyter": {
     "outputs_hidden": false,
     "source_hidden": false
    },
    "nteract": {
     "transient": {
      "deleting": false
     }
    }
   },
   "outputs": [],
   "source": [
    "test_dataset.columns = \"X\" + test_dataset.columns.astype(str)"
   ]
  },
  {
   "cell_type": "code",
   "execution_count": 34,
   "metadata": {
    "collapsed": true,
    "gather": {
     "logged": 1621045834981
    },
    "jupyter": {
     "outputs_hidden": false,
     "source_hidden": false
    },
    "nteract": {
     "transient": {
      "deleting": false
     }
    }
   },
   "outputs": [],
   "source": [
    "pred_test = best_automl_model.predict(test_dataset)"
   ]
  },
  {
   "cell_type": "code",
   "execution_count": 35,
   "metadata": {
    "collapsed": true,
    "gather": {
     "logged": 1621045838946
    },
    "jupyter": {
     "outputs_hidden": false,
     "source_hidden": false
    },
    "nteract": {
     "transient": {
      "deleting": false
     }
    }
   },
   "outputs": [
    {
     "name": "stdout",
     "output_type": "stream",
     "text": [
      "AUC Test: 0.7645762644831458\n",
      "Accuracy Test: 0.7644444444444445\n"
     ]
    }
   ],
   "source": [
    "from sklearn.metrics import roc_auc_score, accuracy_score\n",
    "auc_score = roc_auc_score(y_test, pred_test)\n",
    "accuracy = accuracy_score(y_test, pred_test)\n",
    "\n",
    "print('AUC Test:', auc_score)\n",
    "print('Accuracy Test:', accuracy)"
   ]
  },
  {
   "cell_type": "markdown",
   "metadata": {},
   "source": [
    "## Model Deployment\n",
    "\n",
    "Remember you have to deploy only one of the two models you trained.. Perform the steps in the rest of this notebook only if you wish to deploy this model.\n",
    "\n",
    "TODO: In the cell below, register the model, create an inference config and deploy the model as a web service."
   ]
  },
  {
   "cell_type": "code",
   "execution_count": 36,
   "metadata": {
    "collapsed": true,
    "gather": {
     "logged": 1621045842362
    },
    "jupyter": {
     "outputs_hidden": false,
     "source_hidden": false
    },
    "nteract": {
     "transient": {
      "deleting": false
     }
    }
   },
   "outputs": [
    {
     "data": {
      "text/plain": [
       "['accuracy_table',\n",
       " 'automl_driver.py',\n",
       " 'azureml-logs/55_azureml-execution-tvmps_f8c43420721b6df8cab68fd148a2a5f7aaf79cb4016c74a657042736e9a99e6a_d.txt',\n",
       " 'azureml-logs/65_job_prep-tvmps_f8c43420721b6df8cab68fd148a2a5f7aaf79cb4016c74a657042736e9a99e6a_d.txt',\n",
       " 'azureml-logs/70_driver_log.txt',\n",
       " 'azureml-logs/75_job_post-tvmps_f8c43420721b6df8cab68fd148a2a5f7aaf79cb4016c74a657042736e9a99e6a_d.txt',\n",
       " 'azureml-logs/process_info.json',\n",
       " 'azureml-logs/process_status.json',\n",
       " 'confusion_matrix',\n",
       " 'logs/azureml/105_azureml.log',\n",
       " 'logs/azureml/azureml_automl.log',\n",
       " 'logs/azureml/job_prep_azureml.log',\n",
       " 'logs/azureml/job_release_azureml.log',\n",
       " 'outputs/conda_env_v_1_0_0.yml',\n",
       " 'outputs/env_dependencies.json',\n",
       " 'outputs/model.pkl',\n",
       " 'outputs/pipeline_graph.json',\n",
       " 'outputs/scoring_file_v_1_0_0.py']"
      ]
     },
     "execution_count": 36,
     "metadata": {},
     "output_type": "execute_result"
    }
   ],
   "source": [
    "best_run_automl.get_file_names()"
   ]
  },
  {
   "cell_type": "code",
   "execution_count": 37,
   "metadata": {
    "collapsed": true,
    "gather": {
     "logged": 1621045845408
    },
    "jupyter": {
     "outputs_hidden": false,
     "source_hidden": false
    },
    "nteract": {
     "transient": {
      "deleting": false
     }
    }
   },
   "outputs": [
    {
     "name": "stdout",
     "output_type": "stream",
     "text": [
      "AutoML683a1772a29\n"
     ]
    }
   ],
   "source": [
    "print(best_run_automl.properties['model_name'])\n",
    "model_name = best_run_automl.properties['model_name']\n",
    "\n",
    "registered_model = automl_run.register_model(model_name=model_name,\n",
    "description=\"Stackoverflow Quality Prediction\", tags=None)"
   ]
  },
  {
   "cell_type": "code",
   "execution_count": 38,
   "metadata": {
    "collapsed": true,
    "gather": {
     "logged": 1621045847198
    },
    "jupyter": {
     "outputs_hidden": false,
     "source_hidden": false
    },
    "nteract": {
     "transient": {
      "deleting": false
     }
    }
   },
   "outputs": [],
   "source": [
    "local_path='./inference'\n",
    "os.makedirs(local_path, exist_ok=True)\n",
    "\n",
    "best_run_automl.download_file('outputs/scoring_file_v_1_0_0.py', 'inference/score.py')"
   ]
  },
  {
   "cell_type": "code",
   "execution_count": 44,
   "metadata": {
    "collapsed": true,
    "gather": {
     "logged": 1621037181523
    },
    "jupyter": {
     "outputs_hidden": false,
     "source_hidden": false
    },
    "nteract": {
     "transient": {
      "deleting": false
     }
    }
   },
   "outputs": [],
   "source": []
  },
  {
   "cell_type": "code",
   "execution_count": 39,
   "metadata": {
    "collapsed": true,
    "gather": {
     "logged": 1621045901552
    },
    "jupyter": {
     "outputs_hidden": false,
     "source_hidden": false
    },
    "nteract": {
     "transient": {
      "deleting": false
     }
    }
   },
   "outputs": [],
   "source": [
    "inference_config = InferenceConfig(entry_script=\"inference/score.py\")"
   ]
  },
  {
   "cell_type": "code",
   "execution_count": 40,
   "metadata": {
    "collapsed": true,
    "gather": {
     "logged": 1621045902946
    },
    "jupyter": {
     "outputs_hidden": false,
     "source_hidden": false
    },
    "nteract": {
     "transient": {
      "deleting": false
     }
    }
   },
   "outputs": [],
   "source": [
    "aciconfig = AciWebservice.deploy_configuration(cpu_cores=2, memory_gb=2, description=\"Stackoverflow comment quality prediction\")"
   ]
  },
  {
   "cell_type": "code",
   "execution_count": 41,
   "metadata": {
    "collapsed": true,
    "gather": {
     "logged": 1621046144219
    },
    "jupyter": {
     "outputs_hidden": false,
     "source_hidden": false
    },
    "nteract": {
     "transient": {
      "deleting": false
     }
    }
   },
   "outputs": [
    {
     "name": "stdout",
     "output_type": "stream",
     "text": [
      "Tips: You can try get_logs(): https://aka.ms/debugimage#dockerlog or local deployment: https://aka.ms/debugimage#debug-locally to debug if deployment takes longer than 10 minutes.\n",
      "Running\n",
      "2021-05-15 02:31:47+00:00 Creating Container Registry if not exists..\n",
      "2021-05-15 02:31:57+00:00 Use the existing image.\n",
      "2021-05-15 02:31:57+00:00 Generating deployment configuration..\n",
      "2021-05-15 02:31:58+00:00 Submitting deployment to compute.\n",
      "2021-05-15 02:32:03+00:00 Checking the status of deployment automl-stackoverflow..\n",
      "2021-05-15 02:35:38+00:00 Checking the status of inference endpoint automl-stackoverflow.\n",
      "Succeeded\n",
      "ACI service creation operation finished, operation \"Succeeded\"\n"
     ]
    }
   ],
   "source": [
    "service = Model.deploy(ws, \"automl-stackoverflow\", [registered_model], inference_config, aciconfig)\n",
    "service.wait_for_deployment(True)"
   ]
  },
  {
   "cell_type": "markdown",
   "metadata": {
    "collapsed": true,
    "gather": {
     "logged": 1598431657736
    },
    "jupyter": {
     "outputs_hidden": false,
     "source_hidden": false
    },
    "nteract": {
     "transient": {
      "deleting": false
     }
    }
   },
   "source": [
    "TODO: In the cell below, send a request to the web service you deployed to test it."
   ]
  },
  {
   "cell_type": "code",
   "execution_count": 47,
   "metadata": {
    "gather": {
     "logged": 1621046262351
    },
    "jupyter": {
     "outputs_hidden": false,
     "source_hidden": false
    },
    "nteract": {
     "transient": {
      "deleting": false
     }
    }
   },
   "outputs": [
    {
     "data": {
      "text/plain": [
       "AciWebservice(workspace=Workspace.create(name='quick-starts-ws-144838', subscription_id='48a74bb7-9950-4cc1-9caa-5d50f995cc55', resource_group='aml-quickstarts-144838'), name=automl-stackoverflow, image_id=None, compute_type=None, state=ACI, scoring_uri=Healthy, tags=http://99bfe646-821c-448d-92a0-80d5a3ebcd1a.southcentralus.azurecontainer.io/score, properties={}, created_by={'hasInferenceSchema': 'True', 'hasHttps': 'False'})"
      ]
     },
     "execution_count": 47,
     "metadata": {},
     "output_type": "execute_result"
    }
   ],
   "source": [
    "service"
   ]
  },
  {
   "cell_type": "code",
   "execution_count": 86,
   "metadata": {
    "collapsed": true,
    "gather": {
     "logged": 1621047287415
    },
    "jupyter": {
     "outputs_hidden": false,
     "source_hidden": false
    },
    "nteract": {
     "transient": {
      "deleting": false
     }
    }
   },
   "outputs": [],
   "source": [
    "import random\n",
    "import json\n",
    "\n",
    "sample_dict = {}\n",
    "for i in range(287):\n",
    "    \n",
    "    sample_dict[\"X\"+str(i)] = random.choice([0,1])\n",
    "sample_json = json.dumps({\"data\":[sample_dict,]})"
   ]
  },
  {
   "cell_type": "code",
   "execution_count": 67,
   "metadata": {
    "collapsed": true,
    "gather": {
     "logged": 1621046843899
    },
    "jupyter": {
     "outputs_hidden": false,
     "source_hidden": false
    },
    "nteract": {
     "transient": {
      "deleting": false
     }
    }
   },
   "outputs": [],
   "source": [
    "from azureml.core.authentication import InteractiveLoginAuthentication\n",
    "\n",
    "interactive_auth = InteractiveLoginAuthentication()\n",
    "auth_header = interactive_auth.get_authentication_header()"
   ]
  },
  {
   "cell_type": "code",
   "execution_count": 93,
   "metadata": {
    "collapsed": true,
    "gather": {
     "logged": 1621047406142
    },
    "jupyter": {
     "outputs_hidden": false,
     "source_hidden": false
    },
    "nteract": {
     "transient": {
      "deleting": false
     }
    }
   },
   "outputs": [],
   "source": [
    "import requests\n",
    "rest_endpoint = \"http://99bfe646-821c-448d-92a0-80d5a3ebcd1a.southcentralus.azurecontainer.io/score\"\n",
    "headers = {\"Content-Type\": \"application/json\"}\n",
    "\n",
    "response = requests.post(rest_endpoint, sample_json, headers=headers)"
   ]
  },
  {
   "cell_type": "code",
   "execution_count": 94,
   "metadata": {
    "collapsed": true,
    "gather": {
     "logged": 1621047408103
    },
    "jupyter": {
     "outputs_hidden": false,
     "source_hidden": false
    },
    "nteract": {
     "transient": {
      "deleting": false
     }
    }
   },
   "outputs": [
    {
     "name": "stdout",
     "output_type": "stream",
     "text": [
      "{\"result\": [1]}\n"
     ]
    }
   ],
   "source": [
    "try:\n",
    "    response.raise_for_status()\n",
    "except Exception:    \n",
    "    raise Exception(\"Received bad response from the endpoint: {}\\n\"\n",
    "                    \"Response Code: {}\\n\"\n",
    "                    \"Headers: {}\\n\"\n",
    "                    \"Content: {}\".format(rest_endpoint, response.status_code, response.headers, response.content))\n",
    "\n",
    "print(response.json())"
   ]
  },
  {
   "cell_type": "markdown",
   "metadata": {
    "collapsed": true,
    "gather": {
     "logged": 1598432765711
    },
    "jupyter": {
     "outputs_hidden": false,
     "source_hidden": false
    },
    "nteract": {
     "transient": {
      "deleting": false
     }
    }
   },
   "source": [
    "TODO: In the cell below, print the logs of the web service and delete the service"
   ]
  },
  {
   "cell_type": "code",
   "execution_count": 95,
   "metadata": {
    "gather": {
     "logged": 1621047574355
    },
    "jupyter": {
     "outputs_hidden": false,
     "source_hidden": false
    },
    "nteract": {
     "transient": {
      "deleting": false
     }
    }
   },
   "outputs": [
    {
     "name": "stdout",
     "output_type": "stream",
     "text": [
      "2021-05-15T02:35:27,922953309+00:00 - gunicorn/run \n",
      "2021-05-15T02:35:27,924364314+00:00 - iot-server/run \n",
      "2021-05-15T02:35:27,925720019+00:00 - rsyslog/run \n",
      "2021-05-15T02:35:27,937128961+00:00 - nginx/run \n",
      "/usr/sbin/nginx: /azureml-envs/azureml_98cae94c606e3ceb655a787040a8a93c/lib/libcrypto.so.1.0.0: no version information available (required by /usr/sbin/nginx)\n",
      "/usr/sbin/nginx: /azureml-envs/azureml_98cae94c606e3ceb655a787040a8a93c/lib/libcrypto.so.1.0.0: no version information available (required by /usr/sbin/nginx)\n",
      "/usr/sbin/nginx: /azureml-envs/azureml_98cae94c606e3ceb655a787040a8a93c/lib/libssl.so.1.0.0: no version information available (required by /usr/sbin/nginx)\n",
      "/usr/sbin/nginx: /azureml-envs/azureml_98cae94c606e3ceb655a787040a8a93c/lib/libssl.so.1.0.0: no version information available (required by /usr/sbin/nginx)\n",
      "/usr/sbin/nginx: /azureml-envs/azureml_98cae94c606e3ceb655a787040a8a93c/lib/libssl.so.1.0.0: no version information available (required by /usr/sbin/nginx)\n",
      "rsyslogd: /azureml-envs/azureml_98cae94c606e3ceb655a787040a8a93c/lib/libuuid.so.1: no version information available (required by rsyslogd)\n",
      "EdgeHubConnectionString and IOTEDGE_IOTHUBHOSTNAME are not set. Exiting...\n",
      "2021-05-15T02:35:28,011219537+00:00 - iot-server/finish 1 0\n",
      "2021-05-15T02:35:28,013860046+00:00 - Exit code 1 is normal. Not restarting iot-server.\n",
      "Starting gunicorn 19.9.0\n",
      "Listening at: http://127.0.0.1:31311 (14)\n",
      "Using worker: sync\n",
      "worker timeout is set to 300\n",
      "Booting worker with pid: 43\n",
      "SPARK_HOME not set. Skipping PySpark Initialization.\n",
      "Generating new fontManager, this may take some time...\n",
      "Initializing logger\n",
      "2021-05-15 02:35:29,583 | root | INFO | Starting up app insights client\n",
      "2021-05-15 02:35:29,584 | root | INFO | Starting up request id generator\n",
      "2021-05-15 02:35:29,584 | root | INFO | Starting up app insight hooks\n",
      "2021-05-15 02:35:29,584 | root | INFO | Invoking user's init function\n",
      "2021-05-15 02:35:32,638 | azureml.core | WARNING | Failure while loading azureml_run_type_providers. Failed to load entrypoint automl = azureml.train.automl.run:AutoMLRun._from_run_dto with exception cannot import name 'RunType'.\n",
      "Failure while loading azureml_run_type_providers. Failed to load entrypoint automl = azureml.train.automl.run:AutoMLRun._from_run_dto with exception cannot import name 'RunType'.\n",
      "2021-05-15 02:35:32,946 | root | INFO | Users's init has completed successfully\n",
      "2021-05-15 02:35:32,961 | root | INFO | Skipping middleware: dbg_model_info as it's not enabled.\n",
      "2021-05-15 02:35:32,962 | root | INFO | Skipping middleware: dbg_resource_usage as it's not enabled.\n",
      "2021-05-15 02:35:32,971 | root | INFO | Scoring timeout is found from os.environ: 60000 ms\n",
      "2021-05-15 02:35:38,258 | root | INFO | 200\n",
      "127.0.0.1 - - [15/May/2021:02:35:38 +0000] \"GET /swagger.json HTTP/1.0\" 200 20889 \"-\" \"Go-http-client/1.1\"\n",
      "2021-05-15 02:35:43,775 | root | INFO | 200\n",
      "127.0.0.1 - - [15/May/2021:02:35:43 +0000] \"GET /swagger.json HTTP/1.0\" 200 20889 \"-\" \"Go-http-client/1.1\"\n",
      "2021-05-15 02:38:03,877 | root | INFO | Validation Request Content-Type\n",
      "2021-05-15 02:38:03,878 | root | ERROR | Encountered Exception: Traceback (most recent call last):\n",
      "  File \"/var/azureml-server/synchronous/routes.py\", line 64, in run_scoring\n",
      "    response = invoke_user_with_timer(service_input, request_headers)\n",
      "  File \"/var/azureml-server/synchronous/routes.py\", line 89, in invoke_user_with_timer\n",
      "    params = prepare_user_params(input, headers, aml_request._rawHttpRequested)\n",
      "  File \"/var/azureml-server/routes_common.py\", line 141, in prepare_user_params\n",
      "    params = {main.run_input_parameter_name: input[main.wrapped_parameter_name]}\n",
      "TypeError: string indices must be integers\n",
      "\n",
      "During handling of the above exception, another exception occurred:\n",
      "\n",
      "Traceback (most recent call last):\n",
      "  File \"/azureml-envs/azureml_98cae94c606e3ceb655a787040a8a93c/lib/python3.6/site-packages/flask/app.py\", line 1832, in full_dispatch_request\n",
      "    rv = self.dispatch_request()\n",
      "  File \"/azureml-envs/azureml_98cae94c606e3ceb655a787040a8a93c/lib/python3.6/site-packages/flask/app.py\", line 1818, in dispatch_request\n",
      "    return self.view_functions[rule.endpoint](**req.view_args)\n",
      "  File \"/var/azureml-server/synchronous/routes.py\", line 43, in score_realtime\n",
      "    return run_scoring(service_input, request.headers, request.environ.get('REQUEST_ID', '00000000-0000-0000-0000-000000000000'))\n",
      "  File \"/var/azureml-server/synchronous/routes.py\", line 77, in run_scoring\n",
      "    raise RunFunctionException(str(exc))\n",
      "run_function_exception.RunFunctionException\n",
      "\n",
      "2021-05-15 02:38:03,878 | root | INFO | 500\n",
      "127.0.0.1 - - [15/May/2021:02:38:03 +0000] \"POST /score HTTP/1.0\" 500 31 \"-\" \"python-requests/2.25.1\"\n",
      "2021-05-15 02:40:04,487 | root | INFO | 200\n",
      "127.0.0.1 - - [15/May/2021:02:40:04 +0000] \"GET /swagger.json HTTP/1.0\" 200 20889 \"-\" \"Go-http-client/1.1\"\n",
      "2021-05-15 02:40:05,808 | root | INFO | 200\n",
      "127.0.0.1 - - [15/May/2021:02:40:05 +0000] \"GET /swagger.json HTTP/1.0\" 200 20889 \"-\" \"Go-http-client/1.1\"\n",
      "2021-05-15 02:40:22,028 | root | INFO | 200\n",
      "127.0.0.1 - - [15/May/2021:02:40:22 +0000] \"GET /swagger.json HTTP/1.0\" 200 20889 \"-\" \"Go-http-client/1.1\"\n",
      "2021-05-15 02:40:55,539 | root | INFO | Validation Request Content-Type\n",
      "2021-05-15 02:40:55,540 | root | INFO | Scoring Timer is set to 60.0 seconds\n",
      "2021-05-15 02:40:56,455 | root | INFO | 200\n",
      "127.0.0.1 - - [15/May/2021:02:40:56 +0000] \"POST /score?verbose=true HTTP/1.0\" 200 19 \"-\" \"Go-http-client/1.1\"\n",
      "2021-05-15 02:41:07,617 | root | INFO | 200\n",
      "127.0.0.1 - - [15/May/2021:02:41:07 +0000] \"GET /swagger.json HTTP/1.0\" 200 20889 \"-\" \"Go-http-client/1.1\"\n",
      "2021-05-15 02:42:04,198 | root | INFO | Validation Request Content-Type\n",
      "2021-05-15 02:42:04,199 | root | ERROR | Encountered Exception: Traceback (most recent call last):\n",
      "  File \"/var/azureml-server/synchronous/routes.py\", line 64, in run_scoring\n",
      "    response = invoke_user_with_timer(service_input, request_headers)\n",
      "  File \"/var/azureml-server/synchronous/routes.py\", line 89, in invoke_user_with_timer\n",
      "    params = prepare_user_params(input, headers, aml_request._rawHttpRequested)\n",
      "  File \"/var/azureml-server/routes_common.py\", line 141, in prepare_user_params\n",
      "    params = {main.run_input_parameter_name: input[main.wrapped_parameter_name]}\n",
      "TypeError: string indices must be integers\n",
      "\n",
      "During handling of the above exception, another exception occurred:\n",
      "\n",
      "Traceback (most recent call last):\n",
      "  File \"/azureml-envs/azureml_98cae94c606e3ceb655a787040a8a93c/lib/python3.6/site-packages/flask/app.py\", line 1832, in full_dispatch_request\n",
      "    rv = self.dispatch_request()\n",
      "  File \"/azureml-envs/azureml_98cae94c606e3ceb655a787040a8a93c/lib/python3.6/site-packages/flask/app.py\", line 1818, in dispatch_request\n",
      "    return self.view_functions[rule.endpoint](**req.view_args)\n",
      "  File \"/var/azureml-server/synchronous/routes.py\", line 43, in score_realtime\n",
      "    return run_scoring(service_input, request.headers, request.environ.get('REQUEST_ID', '00000000-0000-0000-0000-000000000000'))\n",
      "  File \"/var/azureml-server/synchronous/routes.py\", line 77, in run_scoring\n",
      "    raise RunFunctionException(str(exc))\n",
      "run_function_exception.RunFunctionException\n",
      "\n",
      "2021-05-15 02:42:04,199 | root | INFO | 500\n",
      "127.0.0.1 - - [15/May/2021:02:42:04 +0000] \"POST /score HTTP/1.0\" 500 31 \"-\" \"python-requests/2.25.1\"\n",
      "2021-05-15 02:43:33,399 | root | INFO | Validation Request Content-Type\n",
      "2021-05-15 02:43:33,400 | root | ERROR | Encountered Exception: Traceback (most recent call last):\n",
      "  File \"/var/azureml-server/synchronous/routes.py\", line 64, in run_scoring\n",
      "    response = invoke_user_with_timer(service_input, request_headers)\n",
      "  File \"/var/azureml-server/synchronous/routes.py\", line 89, in invoke_user_with_timer\n",
      "    params = prepare_user_params(input, headers, aml_request._rawHttpRequested)\n",
      "  File \"/var/azureml-server/routes_common.py\", line 141, in prepare_user_params\n",
      "    params = {main.run_input_parameter_name: input[main.wrapped_parameter_name]}\n",
      "TypeError: string indices must be integers\n",
      "\n",
      "During handling of the above exception, another exception occurred:\n",
      "\n",
      "Traceback (most recent call last):\n",
      "  File \"/azureml-envs/azureml_98cae94c606e3ceb655a787040a8a93c/lib/python3.6/site-packages/flask/app.py\", line 1832, in full_dispatch_request\n",
      "    rv = self.dispatch_request()\n",
      "  File \"/azureml-envs/azureml_98cae94c606e3ceb655a787040a8a93c/lib/python3.6/site-packages/flask/app.py\", line 1818, in dispatch_request\n",
      "    return self.view_functions[rule.endpoint](**req.view_args)\n",
      "  File \"/var/azureml-server/synchronous/routes.py\", line 43, in score_realtime\n",
      "    return run_scoring(service_input, request.headers, request.environ.get('REQUEST_ID', '00000000-0000-0000-0000-000000000000'))\n",
      "  File \"/var/azureml-server/synchronous/routes.py\", line 77, in run_scoring\n",
      "    raise RunFunctionException(str(exc))\n",
      "run_function_exception.RunFunctionException\n",
      "\n",
      "2021-05-15 02:43:33,400 | root | INFO | 500\n",
      "127.0.0.1 - - [15/May/2021:02:43:33 +0000] \"POST /score HTTP/1.0\" 500 31 \"-\" \"python-requests/2.25.1\"\n",
      "2021-05-15 02:44:40,788 | root | INFO | 200\n",
      "127.0.0.1 - - [15/May/2021:02:44:40 +0000] \"GET /swagger.json HTTP/1.0\" 200 20889 \"-\" \"Go-http-client/1.1\"\n",
      "2021-05-15 02:44:49,552 | root | INFO | 200\n",
      "127.0.0.1 - - [15/May/2021:02:44:49 +0000] \"GET /swagger.json HTTP/1.0\" 200 20889 \"-\" \"Go-http-client/1.1\"\n",
      "2021-05-15 02:44:52,088 | root | INFO | 200\n",
      "127.0.0.1 - - [15/May/2021:02:44:52 +0000] \"GET /swagger.json HTTP/1.0\" 200 20889 \"-\" \"Go-http-client/1.1\"\n",
      "2021-05-15 02:47:26,201 | root | INFO | Validation Request Content-Type\n",
      "2021-05-15 02:47:26,201 | root | ERROR | Encountered Exception: Traceback (most recent call last):\n",
      "  File \"/var/azureml-server/synchronous/routes.py\", line 64, in run_scoring\n",
      "    response = invoke_user_with_timer(service_input, request_headers)\n",
      "  File \"/var/azureml-server/synchronous/routes.py\", line 89, in invoke_user_with_timer\n",
      "    params = prepare_user_params(input, headers, aml_request._rawHttpRequested)\n",
      "  File \"/var/azureml-server/routes_common.py\", line 141, in prepare_user_params\n",
      "    params = {main.run_input_parameter_name: input[main.wrapped_parameter_name]}\n",
      "TypeError: string indices must be integers\n",
      "\n",
      "During handling of the above exception, another exception occurred:\n",
      "\n",
      "Traceback (most recent call last):\n",
      "  File \"/azureml-envs/azureml_98cae94c606e3ceb655a787040a8a93c/lib/python3.6/site-packages/flask/app.py\", line 1832, in full_dispatch_request\n",
      "    rv = self.dispatch_request()\n",
      "  File \"/azureml-envs/azureml_98cae94c606e3ceb655a787040a8a93c/lib/python3.6/site-packages/flask/app.py\", line 1818, in dispatch_request\n",
      "    return self.view_functions[rule.endpoint](**req.view_args)\n",
      "  File \"/var/azureml-server/synchronous/routes.py\", line 43, in score_realtime\n",
      "    return run_scoring(service_input, request.headers, request.environ.get('REQUEST_ID', '00000000-0000-0000-0000-000000000000'))\n",
      "  File \"/var/azureml-server/synchronous/routes.py\", line 77, in run_scoring\n",
      "    raise RunFunctionException(str(exc))\n",
      "run_function_exception.RunFunctionException\n",
      "\n",
      "2021-05-15 02:47:26,202 | root | INFO | 500\n",
      "127.0.0.1 - - [15/May/2021:02:47:26 +0000] \"POST /score HTTP/1.0\" 500 31 \"-\" \"python-requests/2.25.1\"\n",
      "2021-05-15 02:48:34,414 | root | INFO | Validation Request Content-Type\n",
      "2021-05-15 02:48:34,415 | root | ERROR | Encountered Exception: Traceback (most recent call last):\n",
      "  File \"/var/azureml-server/synchronous/routes.py\", line 64, in run_scoring\n",
      "    response = invoke_user_with_timer(service_input, request_headers)\n",
      "  File \"/var/azureml-server/synchronous/routes.py\", line 89, in invoke_user_with_timer\n",
      "    params = prepare_user_params(input, headers, aml_request._rawHttpRequested)\n",
      "  File \"/var/azureml-server/routes_common.py\", line 141, in prepare_user_params\n",
      "    params = {main.run_input_parameter_name: input[main.wrapped_parameter_name]}\n",
      "TypeError: string indices must be integers\n",
      "\n",
      "During handling of the above exception, another exception occurred:\n",
      "\n",
      "Traceback (most recent call last):\n",
      "  File \"/azureml-envs/azureml_98cae94c606e3ceb655a787040a8a93c/lib/python3.6/site-packages/flask/app.py\", line 1832, in full_dispatch_request\n",
      "    rv = self.dispatch_request()\n",
      "  File \"/azureml-envs/azureml_98cae94c606e3ceb655a787040a8a93c/lib/python3.6/site-packages/flask/app.py\", line 1818, in dispatch_request\n",
      "    return self.view_functions[rule.endpoint](**req.view_args)\n",
      "  File \"/var/azureml-server/synchronous/routes.py\", line 43, in score_realtime\n",
      "    return run_scoring(service_input, request.headers, request.environ.get('REQUEST_ID', '00000000-0000-0000-0000-000000000000'))\n",
      "  File \"/var/azureml-server/synchronous/routes.py\", line 77, in run_scoring\n",
      "    raise RunFunctionException(str(exc))\n",
      "run_function_exception.RunFunctionException\n",
      "\n",
      "2021-05-15 02:48:34,415 | root | INFO | 500\n",
      "127.0.0.1 - - [15/May/2021:02:48:34 +0000] \"POST /score HTTP/1.0\" 500 31 \"-\" \"python-requests/2.25.1\"\n",
      "2021-05-15 02:50:56,958 | root | INFO | 200\n",
      "127.0.0.1 - - [15/May/2021:02:50:56 +0000] \"GET /swagger.json HTTP/1.0\" 200 20889 \"-\" \"Go-http-client/1.1\"\n",
      "2021-05-15 02:51:31,409 | root | INFO | 200\n",
      "127.0.0.1 - - [15/May/2021:02:51:31 +0000] \"GET /swagger.json HTTP/1.0\" 200 20889 \"-\" \"Go-http-client/1.1\"\n",
      "2021-05-15 02:51:32,363 | root | INFO | 200\n",
      "127.0.0.1 - - [15/May/2021:02:51:32 +0000] \"GET /swagger.json HTTP/1.0\" 200 20889 \"-\" \"Go-http-client/1.1\"\n",
      "2021-05-15 02:51:37,716 | root | INFO | 200\n",
      "127.0.0.1 - - [15/May/2021:02:51:37 +0000] \"GET /swagger.json HTTP/1.0\" 200 20889 \"-\" \"Go-http-client/1.1\"\n",
      "2021-05-15 02:51:40,670 | root | INFO | 200\n",
      "127.0.0.1 - - [15/May/2021:02:51:40 +0000] \"GET /swagger.json HTTP/1.0\" 200 20889 \"-\" \"Go-http-client/1.1\"\n",
      "2021-05-15 02:51:50,005 | root | INFO | 200\n",
      "127.0.0.1 - - [15/May/2021:02:51:50 +0000] \"GET /swagger.json HTTP/1.0\" 200 20889 \"-\" \"Go-http-client/1.1\"\n",
      "2021-05-15 02:51:51,404 | root | INFO | 200\n",
      "127.0.0.1 - - [15/May/2021:02:51:51 +0000] \"GET /swagger.json HTTP/1.0\" 200 20889 \"-\" \"Go-http-client/1.1\"\n",
      "2021-05-15 02:51:52,381 | root | INFO | 200\n",
      "127.0.0.1 - - [15/May/2021:02:51:52 +0000] \"GET /swagger.json HTTP/1.0\" 200 20889 \"-\" \"Go-http-client/1.1\"\n",
      "2021-05-15 02:52:50,601 | root | INFO | Validation Request Content-Type\n",
      "2021-05-15 02:52:50,602 | root | ERROR | Encountered Exception: Traceback (most recent call last):\n",
      "  File \"/var/azureml-server/synchronous/routes.py\", line 64, in run_scoring\n",
      "    response = invoke_user_with_timer(service_input, request_headers)\n",
      "  File \"/var/azureml-server/synchronous/routes.py\", line 89, in invoke_user_with_timer\n",
      "    params = prepare_user_params(input, headers, aml_request._rawHttpRequested)\n",
      "  File \"/var/azureml-server/routes_common.py\", line 141, in prepare_user_params\n",
      "    params = {main.run_input_parameter_name: input[main.wrapped_parameter_name]}\n",
      "TypeError: string indices must be integers\n",
      "\n",
      "During handling of the above exception, another exception occurred:\n",
      "\n",
      "Traceback (most recent call last):\n",
      "  File \"/azureml-envs/azureml_98cae94c606e3ceb655a787040a8a93c/lib/python3.6/site-packages/flask/app.py\", line 1832, in full_dispatch_request\n",
      "    rv = self.dispatch_request()\n",
      "  File \"/azureml-envs/azureml_98cae94c606e3ceb655a787040a8a93c/lib/python3.6/site-packages/flask/app.py\", line 1818, in dispatch_request\n",
      "    return self.view_functions[rule.endpoint](**req.view_args)\n",
      "  File \"/var/azureml-server/synchronous/routes.py\", line 43, in score_realtime\n",
      "    return run_scoring(service_input, request.headers, request.environ.get('REQUEST_ID', '00000000-0000-0000-0000-000000000000'))\n",
      "  File \"/var/azureml-server/synchronous/routes.py\", line 77, in run_scoring\n",
      "    raise RunFunctionException(str(exc))\n",
      "run_function_exception.RunFunctionException\n",
      "\n",
      "2021-05-15 02:52:50,602 | root | INFO | 500\n",
      "127.0.0.1 - - [15/May/2021:02:52:50 +0000] \"POST /score HTTP/1.0\" 500 31 \"-\" \"python-requests/2.25.1\"\n",
      "2021-05-15 02:54:04,733 | root | INFO | Validation Request Content-Type\n",
      "2021-05-15 02:54:04,733 | root | INFO | Scoring Timer is set to 60.0 seconds\n",
      "2021-05-15 02:54:05,568 | root | INFO | 200\n",
      "127.0.0.1 - - [15/May/2021:02:54:05 +0000] \"POST /score HTTP/1.0\" 200 19 \"-\" \"python-requests/2.25.1\"\n",
      "2021-05-15 02:54:19,916 | root | INFO | Validation Request Content-Type\n",
      "2021-05-15 02:54:19,917 | root | INFO | Scoring Timer is set to 60.0 seconds\n",
      "2021-05-15 02:54:20,766 | root | INFO | 200\n",
      "127.0.0.1 - - [15/May/2021:02:54:20 +0000] \"POST /score HTTP/1.0\" 200 19 \"-\" \"python-requests/2.25.1\"\n",
      "2021-05-15 02:54:56,851 | root | INFO | Validation Request Content-Type\n",
      "2021-05-15 02:54:56,852 | root | INFO | Scoring Timer is set to 60.0 seconds\n",
      "2021-05-15 02:54:57,417 | root | INFO | 200\n",
      "127.0.0.1 - - [15/May/2021:02:54:57 +0000] \"POST /score HTTP/1.0\" 200 19 \"-\" \"python-requests/2.25.1\"\n",
      "2021-05-15 02:56:45,447 | root | INFO | Validation Request Content-Type\n",
      "2021-05-15 02:56:45,448 | root | INFO | Scoring Timer is set to 60.0 seconds\n",
      "2021-05-15 02:56:46,009 | root | INFO | 200\n",
      "127.0.0.1 - - [15/May/2021:02:56:46 +0000] \"POST /score HTTP/1.0\" 200 19 \"-\" \"python-requests/2.25.1\"\n",
      "2021-05-15 02:59:31,905 | root | INFO | 200\n",
      "127.0.0.1 - - [15/May/2021:02:59:31 +0000] \"GET /swagger.json HTTP/1.0\" 200 20889 \"-\" \"Go-http-client/1.1\"\n",
      "\n"
     ]
    }
   ],
   "source": [
    "from azureml.core import Workspace\n",
    "from azureml.core.webservice import Webservice\n",
    "\n",
    "# Requires the config to be downloaded first to the current working directory\n",
    "ws = Workspace.from_config()\n",
    "\n",
    "# Set with the deployment name\n",
    "name = \"automl-stackoverflow\"\n",
    "\n",
    "# load existing web service\n",
    "service = Webservice(name=name, workspace=ws)\n",
    "logs = service.get_logs()\n",
    "\n",
    "# Solution code: Enable application insights\n",
    "service.update(enable_app_insights=True)\n",
    "\n",
    "for line in logs.split('\\n'):\n",
    "    print(line)\n"
   ]
  },
  {
   "cell_type": "code",
   "execution_count": null,
   "metadata": {
    "collapsed": true,
    "jupyter": {
     "outputs_hidden": false,
     "source_hidden": false
    },
    "nteract": {
     "transient": {
      "deleting": false
     }
    }
   },
   "outputs": [],
   "source": [
    "service"
   ]
  }
 ],
 "metadata": {
  "kernel_info": {
   "name": "python3"
  },
  "kernelspec": {
   "display_name": "Python 3",
   "language": "python",
   "name": "python3"
  },
  "language_info": {
   "codemirror_mode": {
    "name": "ipython",
    "version": 3
   },
   "file_extension": ".py",
   "mimetype": "text/x-python",
   "name": "python",
   "nbconvert_exporter": "python",
   "pygments_lexer": "ipython3",
   "version": "3.6.5"
  },
  "microsoft": {
   "host": {
    "AzureML": {
     "notebookHasBeenCompleted": true
    }
   }
  },
  "nteract": {
   "version": "nteract-front-end@1.0.0"
  }
 },
 "nbformat": 4,
 "nbformat_minor": 2
}
