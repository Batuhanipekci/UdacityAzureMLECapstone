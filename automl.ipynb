{
  "cells": [
    {
      "cell_type": "markdown",
      "source": [
        "# Automated ML\n",
        "\n",
        "TODO: Import Dependencies. In the cell below, import all the dependencies that you will need to complete the project."
      ],
      "metadata": {}
    },
    {
      "cell_type": "code",
      "source": [
        "import os\n",
        "import joblib\n",
        "import random\n",
        "import json\n",
        "import requests\n",
        "import pandas as pd\n",
        "import numpy as np\n",
        "from azureml.core import Workspace, Experiment, Dataset\n",
        "from azureml.core.compute import ComputeTarget, AmlCompute\n",
        "from azureml.widgets import RunDetails\n",
        "from azureml.train.automl import AutoMLConfig\n",
        "from azureml.data.dataset_factory import TabularDatasetFactory\n",
        "from azureml.core.model import InferenceConfig\n",
        "from azureml.core.webservice import AciWebservice, Webservice\n",
        "from azureml.core.model import Model\n",
        "from azureml.core.environment import Environment\n",
        "from sklearn.feature_extraction.text import CountVectorizer\n",
        "from sklearn.model_selection import train_test_split\n",
        "from sklearn.metrics import roc_auc_score, accuracy_score\n",
        "\n",
        "from train import clean_text, clean_df, preprocess_text\n"
      ],
      "outputs": [],
      "execution_count": 1,
      "metadata": {
        "collapsed": true,
        "jupyter": {
          "source_hidden": false,
          "outputs_hidden": false
        },
        "nteract": {
          "transient": {
            "deleting": false
          }
        },
        "gather": {
          "logged": 1621119070330
        }
      }
    },
    {
      "cell_type": "markdown",
      "source": [
        "## Dataset\n",
        "\n",
        "### Overview\n",
        "\n",
        "A Kaggle dataset \"60k Stack Overflow Questions with Quality Rating\" has been used for this project. The dataset can be downloaded from the following link: https://www.kaggle.com/imoore/60k-stack-overflow-questions-with-quality-rate. Questions from 2016-2020 are labelled in three categories (HQ, LQ_EDIT, LQ_CLOSE), according to their quality. 45000 rows are subsetted for the project. Title and Body of each question has been appended and considered as being a single text. This text has been used as the only predictor of quality, tags are ignored. For simplicity, the task has been reduced to a binary classification between HQ and LQ, meaning that LQ_EDIT and LQ_CLOSE have been aggregated to one class, LQ.\n",
        "\n",
        "Binary classification of the texts have been made on a embedding matrix of word counts."
      ],
      "metadata": {}
    },
    {
      "cell_type": "code",
      "source": [
        "\n",
        "data1 = pd.read_csv('Data/data_part1.csv')\n",
        "data2 = pd.read_csv('Data/data_part2.csv')\n",
        "data3 = pd.read_csv('Data/data_part3.csv')\n",
        "dataset = data1.append(data2).append(data3)\n",
        "\n",
        "dataset = clean_df(dataset)\n",
        "dataset['text'] = dataset['text'].apply(clean_text)\n",
        "\n",
        "X = preprocess_text(dataset['text'].tolist())\n",
        "y = dataset['y'].to_numpy()\n",
        "X_trainval, X_test, y_trainval, y_test = train_test_split(\n",
        "    X, y, test_size=0.33, random_state=42)\n",
        "\n",
        "X_train, X_val, y_train, y_val = train_test_split(\n",
        "    X_trainval, y_trainval, test_size=0.15, random_state=42)\n",
        "\n",
        "\n",
        "train_dataset = pd.DataFrame(X_train)\n",
        "train_dataset.columns= \"X\" + train_dataset.columns.astype(str)\n",
        "train_dataset['y'] = y_train\n",
        "\n",
        "val_dataset = pd.DataFrame(X_val)\n",
        "val_dataset.columns= \"X\" + val_dataset.columns.astype(str)\n",
        "val_dataset['y'] = y_val\n",
        "\n",
        "test_dataset = pd.DataFrame(X_test)\n",
        "test_dataset.columns= \"X\" + test_dataset.columns.astype(str)\n",
        "test_dataset['y'] = y_test\n",
        "\n",
        "if not os.path.isdir('clean_data'):\n",
        "    os.mkdir('clean_data')\n",
        "\n",
        "train_dataset.to_csv(\"clean_data/train_dataset.csv\", index=False)\n",
        "val_dataset.to_csv(\"clean_data/val_dataset.csv\", index=False)\n",
        "test_dataset.to_csv(\"clean_data/test_dataset.csv\", index=False)\n",
        "\n"
      ],
      "outputs": [],
      "execution_count": 2,
      "metadata": {
        "gather": {
          "logged": 1621119086986
        },
        "jupyter": {
          "outputs_hidden": false,
          "source_hidden": false
        },
        "nteract": {
          "transient": {
            "deleting": false
          }
        }
      }
    },
    {
      "cell_type": "code",
      "source": [
        "train_dataset.columns"
      ],
      "outputs": [
        {
          "output_type": "execute_result",
          "execution_count": 3,
          "data": {
            "text/plain": "Index(['X0', 'X1', 'X2', 'X3', 'X4', 'X5', 'X6', 'X7', 'X8', 'X9',\n       ...\n       'X278', 'X279', 'X280', 'X281', 'X282', 'X283', 'X284', 'X285', 'X286',\n       'y'],\n      dtype='object', length=288)"
          },
          "metadata": {}
        }
      ],
      "execution_count": 3,
      "metadata": {
        "collapsed": true,
        "jupyter": {
          "source_hidden": false,
          "outputs_hidden": false
        },
        "nteract": {
          "transient": {
            "deleting": false
          }
        },
        "gather": {
          "logged": 1621119087273
        }
      }
    },
    {
      "cell_type": "code",
      "source": [
        "ws = Workspace.from_config()\n",
        "\n",
        "# choose a name for experiment\n",
        "experiment_name = 'Capstone-AutoML'\n",
        "\n",
        "experiment=Experiment(ws, experiment_name)\n",
        "\n"
      ],
      "outputs": [],
      "execution_count": 4,
      "metadata": {
        "gather": {
          "logged": 1621119089122
        },
        "jupyter": {
          "outputs_hidden": false,
          "source_hidden": false
        },
        "nteract": {
          "transient": {
            "deleting": false
          }
        }
      }
    },
    {
      "cell_type": "code",
      "source": [
        "ds = ws.get_default_datastore()\n",
        "ds.upload(src_dir='./clean_data', target_path='automldata', overwrite=True, show_progress=True)\n"
      ],
      "outputs": [
        {
          "output_type": "stream",
          "name": "stdout",
          "text": [
            "Uploading an estimated of 3 files\n",
            "Uploading ./clean_data/test_dataset.csv\n",
            "Uploaded ./clean_data/test_dataset.csv, 1 files out of an estimated total of 3\n",
            "Uploading ./clean_data/val_dataset.csv\n",
            "Uploaded ./clean_data/val_dataset.csv, 2 files out of an estimated total of 3\n",
            "Uploading ./clean_data/train_dataset.csv\n",
            "Uploaded ./clean_data/train_dataset.csv, 3 files out of an estimated total of 3\n",
            "Uploaded 3 files\n"
          ]
        },
        {
          "output_type": "execute_result",
          "execution_count": 5,
          "data": {
            "text/plain": "$AZUREML_DATAREFERENCE_f141e44c38344320a5cf9b2802624daf"
          },
          "metadata": {}
        }
      ],
      "execution_count": 5,
      "metadata": {
        "collapsed": true,
        "jupyter": {
          "source_hidden": false,
          "outputs_hidden": false
        },
        "nteract": {
          "transient": {
            "deleting": false
          }
        },
        "gather": {
          "logged": 1621119090322
        }
      }
    },
    {
      "cell_type": "code",
      "source": [
        "train_data = Dataset.Tabular.from_delimited_files(path=ds.path('automldata/train_dataset.csv'))\n",
        "val_data = Dataset.Tabular.from_delimited_files(path=ds.path('automldata/val_dataset.csv'))\n",
        "\n",
        "test_data = Dataset.Tabular.from_delimited_files(path=ds.path('automldata/test_dataset.csv'))\n",
        "\n",
        "    "
      ],
      "outputs": [],
      "execution_count": 6,
      "metadata": {
        "collapsed": true,
        "jupyter": {
          "source_hidden": false,
          "outputs_hidden": false
        },
        "nteract": {
          "transient": {
            "deleting": false
          }
        },
        "gather": {
          "logged": 1621119104062
        }
      }
    },
    {
      "cell_type": "code",
      "source": [
        "run = experiment.start_logging()"
      ],
      "outputs": [],
      "execution_count": 7,
      "metadata": {
        "collapsed": true,
        "jupyter": {
          "source_hidden": false,
          "outputs_hidden": false
        },
        "nteract": {
          "transient": {
            "deleting": false
          }
        },
        "gather": {
          "logged": 1621119106038
        }
      }
    },
    {
      "cell_type": "code",
      "source": [
        "udacity_compute_name = 'comp-capstone'\n",
        "\n",
        "compute_config = AmlCompute.provisioning_configuration(vm_size='Standard_D2_V2', max_nodes=4)\n",
        "\n",
        "\n",
        "try:\n",
        "    compute_target = ComputeTarget(workspace=ws, name=udacity_compute_name)\n",
        "    print(\"Found an existing compute target.\")\n",
        "except:\n",
        "    compute_target = ComputeTarget.create(workspace=ws, \n",
        "    name=udacity_compute_name, provisioning_configuration=compute_config)\n",
        "    print(\"Creating a new compute target.\")\n",
        "\n",
        "compute_target.wait_for_completion(show_output=True)"
      ],
      "outputs": [
        {
          "output_type": "stream",
          "name": "stdout",
          "text": [
            "Creating a new compute target.\n",
            "Creating...\n",
            "SucceededProvisioning operation finished, operation \"Succeeded\"\n",
            "Succeeded\n",
            "AmlCompute wait for completion finished\n",
            "\n",
            "Minimum number of nodes requested have been provisioned\n"
          ]
        }
      ],
      "execution_count": 8,
      "metadata": {
        "collapsed": true,
        "jupyter": {
          "source_hidden": false,
          "outputs_hidden": false
        },
        "nteract": {
          "transient": {
            "deleting": false
          }
        },
        "gather": {
          "logged": 1621119122204
        }
      }
    },
    {
      "cell_type": "markdown",
      "source": [
        "## AutoML Configuration\n",
        "AutoML configuration is done by restricting the timeout minuts to 30, choosing the task as classification, and the primary metric as AUC_weighted.\n",
        "Choosing AUC as the primary metric instead of Accuracy is advantageous in minimizing True Negatives and False Positives along the way.\n",
        "\n",
        "A single validation set has been provided as an input, not cross-validation. This has been done to increase the processing speed and use the time to try out more models and settings.\n"
      ],
      "metadata": {}
    },
    {
      "cell_type": "code",
      "source": [
        "# TODO: Put your automl settings here\n",
        "automl_settings = {\n",
        "    'experiment_timeout_minutes': 50,\n",
        "    'task': 'classification',\n",
        "    'primary_metric': 'AUC_weighted',\n",
        "}\n",
        "\n",
        "# TODO: Put your automl config here\n",
        "automl_config = AutoMLConfig(\n",
        "    \n",
        "    training_data=train_data,\n",
        "    validation_data=val_data,\n",
        "    label_column_name='y',\n",
        "    compute_target=compute_target,\n",
        "    **automl_settings)\n",
        "\n"
      ],
      "outputs": [],
      "execution_count": 10,
      "metadata": {
        "gather": {
          "logged": 1621119148219
        },
        "jupyter": {
          "outputs_hidden": false,
          "source_hidden": false
        },
        "nteract": {
          "transient": {
            "deleting": false
          }
        }
      }
    },
    {
      "cell_type": "code",
      "source": [
        "# TODO: Submit your experiment\n",
        "automl_run = experiment.submit(automl_config, show_output=True)"
      ],
      "outputs": [
        {
          "output_type": "stream",
          "name": "stdout",
          "text": [
            "Submitting remote run.\n",
            "No run_configuration provided, running on comp-capstone with default configuration\n",
            "Running on remote compute: comp-capstone\n"
          ]
        },
        {
          "output_type": "display_data",
          "data": {
            "text/plain": "<IPython.core.display.HTML object>",
            "text/html": "<table style=\"width:100%\"><tr><th>Experiment</th><th>Id</th><th>Type</th><th>Status</th><th>Details Page</th><th>Docs Page</th></tr><tr><td>Capstone-AutoML</td><td>AutoML_5b92da3e-f409-46be-8143-26c1b4b5c8ef</td><td>automl</td><td>NotStarted</td><td><a href=\"https://ml.azure.com/runs/AutoML_5b92da3e-f409-46be-8143-26c1b4b5c8ef?wsid=/subscriptions/510b94ba-e453-4417-988b-fbdc37b55ca7/resourcegroups/aml-quickstarts-144914/workspaces/quick-starts-ws-144914&amp;tid=660b3398-b80e-49d2-bc5b-ac1dc93b5254\" target=\"_blank\" rel=\"noopener\">Link to Azure Machine Learning studio</a></td><td><a href=\"https://docs.microsoft.com/en-us/python/api/overview/azure/ml/intro?view=azure-ml-py\" target=\"_blank\" rel=\"noopener\">Link to Documentation</a></td></tr></table>"
          },
          "metadata": {}
        },
        {
          "output_type": "stream",
          "name": "stdout",
          "text": [
            "\n",
            "Current status: FeaturesGeneration. Generating features for the dataset.\n",
            "Current status: DatasetFeaturization. Beginning to fit featurizers and featurize the dataset.\n",
            "Current status: DatasetFeaturizationCompleted. Completed fit featurizers and featurizing the dataset.\n",
            "Current status: ModelSelection. Beginning model selection.\n",
            "\n",
            "****************************************************************************************************\n",
            "DATA GUARDRAILS: \n",
            "\n",
            "TYPE:         Class balancing detection\n",
            "STATUS:       PASSED\n",
            "DESCRIPTION:  Your inputs were analyzed, and all classes are balanced in your training data.\n",
            "              Learn more about imbalanced data: https://aka.ms/AutomatedMLImbalancedData\n",
            "\n",
            "****************************************************************************************************\n",
            "\n",
            "TYPE:         Missing feature values imputation\n",
            "STATUS:       PASSED\n",
            "DESCRIPTION:  No feature missing values were detected in the training data.\n",
            "              Learn more about missing value imputation: https://aka.ms/AutomatedMLFeaturization\n",
            "\n",
            "****************************************************************************************************\n",
            "\n",
            "TYPE:         High cardinality feature detection\n",
            "STATUS:       PASSED\n",
            "DESCRIPTION:  Your inputs were analyzed, and no high cardinality features were detected.\n",
            "              Learn more about high cardinality feature handling: https://aka.ms/AutomatedMLFeaturization\n",
            "\n",
            "****************************************************************************************************\n",
            "\n",
            "****************************************************************************************************\n",
            "ITERATION: The iteration being evaluated.\n",
            "PIPELINE: A summary description of the pipeline being evaluated.\n",
            "DURATION: Time taken for the current iteration.\n",
            "METRIC: The result of computing score on the fitted pipeline.\n",
            "BEST: The best observed score thus far.\n",
            "****************************************************************************************************\n",
            "\n",
            " ITERATION   PIPELINE                                       DURATION      METRIC      BEST\n",
            "         0   MaxAbsScaler LightGBM                          0:00:54       0.8617    0.8617\n",
            "         1   MaxAbsScaler XGBoostClassifier                 0:00:58       0.8435    0.8617\n",
            "         2   MaxAbsScaler RandomForest                      0:00:47       0.7549    0.8617\n",
            "         3   MaxAbsScaler RandomForest                      0:00:44       0.7734    0.8617\n",
            "         4   MaxAbsScaler RandomForest                      0:00:52       0.7002    0.8617\n",
            "         5   MaxAbsScaler ExtremeRandomTrees                0:00:55       0.7660    0.8617\n",
            "         6   MaxAbsScaler ExtremeRandomTrees                0:00:57       0.7942    0.8617\n",
            "         7   MaxAbsScaler ExtremeRandomTrees                0:00:45       0.8063    0.8617\n",
            "         8   MaxAbsScaler RandomForest                      0:00:47       0.8050    0.8617\n",
            "         9   MaxAbsScaler ExtremeRandomTrees                0:00:54       0.7916    0.8617\n",
            "        10   MaxAbsScaler RandomForest                      0:00:54       0.7635    0.8617\n",
            "        11   MaxAbsScaler RandomForest                      0:00:48       0.6956    0.8617\n",
            "        12   MaxAbsScaler RandomForest                      0:00:52       0.7306    0.8617\n",
            "        13   StandardScalerWrapper XGBoostClassifier        0:00:51       0.7940    0.8617\n",
            "        14   MaxAbsScaler RandomForest                      0:00:48       0.7390    0.8617\n",
            "        15   StandardScalerWrapper ExtremeRandomTrees       0:00:52       0.6537    0.8617\n",
            "        16   MaxAbsScaler ExtremeRandomTrees                0:00:48       0.7732    0.8617\n",
            "        17   MaxAbsScaler ExtremeRandomTrees                0:05:19       0.7870    0.8617\n",
            "        18   MaxAbsScaler RandomForest                      0:00:52       0.6834    0.8617\n",
            "        19   StandardScalerWrapper LogisticRegression       0:00:56       0.8561    0.8617\n",
            "        20   StandardScalerWrapper LightGBM                 0:00:54       0.8286    0.8617\n",
            "        21   MaxAbsScaler ExtremeRandomTrees                0:00:49       0.7981    0.8617\n",
            "        22   MaxAbsScaler LightGBM                          0:00:48       0.8136    0.8617\n",
            "        23   MaxAbsScaler SGD                               0:00:59       0.8389    0.8617\n",
            "        24   SparseNormalizer LightGBM                      0:00:52       0.8563    0.8617\n",
            "        25   MaxAbsScaler LightGBM                          0:00:51       0.8532    0.8617\n",
            "        26   StandardScalerWrapper LogisticRegression       0:01:07       0.8489    0.8617\n",
            "        27   MaxAbsScaler LightGBM                          0:00:48       0.7148    0.8617\n",
            "        28   TruncatedSVDWrapper XGBoostClassifier          0:01:31       0.7848    0.8617\n",
            "        29   MaxAbsScaler SGD                               0:01:17       0.8462    0.8617\n",
            "        30   TruncatedSVDWrapper LightGBM                   0:01:00       0.7679    0.8617\n",
            "        31   StandardScalerWrapper LogisticRegression       0:00:56       0.8562    0.8617\n",
            "        32   StandardScalerWrapper LogisticRegression       0:00:57       0.8563    0.8617\n",
            "        33   MaxAbsScaler LogisticRegression                0:01:05       0.8449    0.8617\n",
            "        34   StandardScalerWrapper LogisticRegression       0:01:24       0.8561    0.8617\n",
            "        35   TruncatedSVDWrapper LightGBM                   0:00:57       0.6945    0.8617\n",
            "        36   MaxAbsScaler LogisticRegression                0:00:54       0.8482    0.8617\n",
            "        37   StandardScalerWrapper LogisticRegression       0:01:06       0.8489    0.8617\n",
            "        38   StandardScalerWrapper LogisticRegression       0:00:56       0.8562    0.8617\n",
            "        39    VotingEnsemble                                0:01:06       0.8680    0.8680\n",
            "        40    StackEnsemble                                 0:02:22       0.8679    0.8680\n"
          ]
        }
      ],
      "execution_count": 11,
      "metadata": {
        "gather": {
          "logged": 1621123187131
        },
        "jupyter": {
          "outputs_hidden": false,
          "source_hidden": false
        },
        "nteract": {
          "transient": {
            "deleting": false
          }
        }
      }
    },
    {
      "cell_type": "markdown",
      "source": [
        "## Run Details\n",
        "VotingEnsemble is the best algorithm, as it combines multiple algorithms like LightGBM, LogisticRegression, RandomForest, and ExtremeRandomTrees. Surprisingly LogisticRegression has a high voting power in the ensemble, meaning that the problem might be solvable also by classical statistical models.\n",
        "\n",
        "`RunDetails` widget has been run but its output is not shown, probably due to conda enviroment related reasons. Details have been provided as pictures in Readme.md."
      ],
      "metadata": {}
    },
    {
      "cell_type": "code",
      "source": [
        "RunDetails(automl_run).show()"
      ],
      "outputs": [
        {
          "output_type": "display_data",
          "data": {
            "text/plain": "_AutoMLWidget(widget_settings={'childWidgetDisplay': 'popup', 'send_telemetry': False, 'log_level': 'INFO', 's…",
            "application/vnd.jupyter.widget-view+json": {
              "version_major": 2,
              "version_minor": 0,
              "model_id": "62a564ffefa6420cbe4a701ae2b30138"
            }
          },
          "metadata": {}
        },
        {
          "output_type": "display_data",
          "data": {
            "application/aml.mini.widget.v1": "{\"status\": \"Completed\", \"workbench_run_details_uri\": \"https://ml.azure.com/runs/AutoML_5b92da3e-f409-46be-8143-26c1b4b5c8ef?wsid=/subscriptions/510b94ba-e453-4417-988b-fbdc37b55ca7/resourcegroups/aml-quickstarts-144914/workspaces/quick-starts-ws-144914&tid=660b3398-b80e-49d2-bc5b-ac1dc93b5254\", \"run_id\": \"AutoML_5b92da3e-f409-46be-8143-26c1b4b5c8ef\", \"run_properties\": {\"run_id\": \"AutoML_5b92da3e-f409-46be-8143-26c1b4b5c8ef\", \"created_utc\": \"2021-05-15T22:52:42.956727Z\", \"properties\": {\"num_iterations\": \"1000\", \"training_type\": \"TrainFull\", \"acquisition_function\": \"EI\", \"primary_metric\": \"AUC_weighted\", \"train_split\": \"0\", \"acquisition_parameter\": \"0\", \"num_cross_validation\": null, \"target\": \"comp-capstone\", \"AMLSettingsJsonString\": \"{\\\"path\\\":null,\\\"name\\\":\\\"Capstone-AutoML\\\",\\\"subscription_id\\\":\\\"510b94ba-e453-4417-988b-fbdc37b55ca7\\\",\\\"resource_group\\\":\\\"aml-quickstarts-144914\\\",\\\"workspace_name\\\":\\\"quick-starts-ws-144914\\\",\\\"region\\\":\\\"southcentralus\\\",\\\"compute_target\\\":\\\"comp-capstone\\\",\\\"spark_service\\\":null,\\\"azure_service\\\":\\\"remote\\\",\\\"many_models\\\":false,\\\"pipeline_fetch_max_batch_size\\\":1,\\\"enable_batch_run\\\":false,\\\"enable_run_restructure\\\":false,\\\"start_auxiliary_runs_before_parent_complete\\\":false,\\\"iterations\\\":1000,\\\"primary_metric\\\":\\\"AUC_weighted\\\",\\\"task_type\\\":\\\"classification\\\",\\\"data_script\\\":null,\\\"test_size\\\":0.0,\\\"validation_size\\\":0.0,\\\"n_cross_validations\\\":null,\\\"y_min\\\":null,\\\"y_max\\\":null,\\\"num_classes\\\":null,\\\"featurization\\\":\\\"auto\\\",\\\"_ignore_package_version_incompatibilities\\\":false,\\\"is_timeseries\\\":false,\\\"max_cores_per_iteration\\\":1,\\\"max_concurrent_iterations\\\":1,\\\"iteration_timeout_minutes\\\":null,\\\"mem_in_mb\\\":null,\\\"enforce_time_on_windows\\\":false,\\\"experiment_timeout_minutes\\\":50,\\\"experiment_exit_score\\\":null,\\\"whitelist_models\\\":null,\\\"blacklist_algos\\\":[\\\"TensorFlowLinearClassifier\\\",\\\"TensorFlowDNN\\\"],\\\"supported_models\\\":[\\\"DecisionTree\\\",\\\"SVM\\\",\\\"GradientBoosting\\\",\\\"ExtremeRandomTrees\\\",\\\"LightGBM\\\",\\\"KNN\\\",\\\"TensorFlowLinearClassifier\\\",\\\"RandomForest\\\",\\\"TensorFlowDNN\\\",\\\"SGD\\\",\\\"LinearSVM\\\",\\\"LogisticRegression\\\",\\\"XGBoostClassifier\\\",\\\"BernoulliNaiveBayes\\\",\\\"AveragedPerceptronClassifier\\\",\\\"MultinomialNaiveBayes\\\"],\\\"private_models\\\":[],\\\"auto_blacklist\\\":true,\\\"blacklist_samples_reached\\\":false,\\\"exclude_nan_labels\\\":true,\\\"verbosity\\\":20,\\\"_debug_log\\\":\\\"azureml_automl.log\\\",\\\"show_warnings\\\":false,\\\"model_explainability\\\":true,\\\"service_url\\\":null,\\\"sdk_url\\\":null,\\\"sdk_packages\\\":null,\\\"enable_onnx_compatible_models\\\":false,\\\"enable_split_onnx_featurizer_estimator_models\\\":false,\\\"vm_type\\\":\\\"STANDARD_D2_V2\\\",\\\"telemetry_verbosity\\\":20,\\\"send_telemetry\\\":true,\\\"enable_dnn\\\":false,\\\"scenario\\\":\\\"SDK-1.13.0\\\",\\\"environment_label\\\":null,\\\"save_mlflow\\\":false,\\\"force_text_dnn\\\":false,\\\"enable_feature_sweeping\\\":true,\\\"enable_early_stopping\\\":false,\\\"early_stopping_n_iters\\\":10,\\\"metrics\\\":null,\\\"enable_metric_confidence\\\":false,\\\"enable_ensembling\\\":true,\\\"enable_stack_ensembling\\\":true,\\\"ensemble_iterations\\\":15,\\\"enable_tf\\\":false,\\\"enable_subsampling\\\":null,\\\"subsample_seed\\\":null,\\\"enable_nimbusml\\\":false,\\\"enable_streaming\\\":false,\\\"force_streaming\\\":false,\\\"track_child_runs\\\":true,\\\"allowed_private_models\\\":[],\\\"label_column_name\\\":\\\"y\\\",\\\"weight_column_name\\\":null,\\\"cv_split_column_names\\\":null,\\\"enable_local_managed\\\":false,\\\"_local_managed_run_id\\\":null,\\\"cost_mode\\\":1,\\\"lag_length\\\":0,\\\"metric_operation\\\":\\\"maximize\\\",\\\"preprocess\\\":true}\", \"DataPrepJsonString\": \"{\\\\\\\"training_data\\\\\\\": {\\\\\\\"datasetId\\\\\\\": \\\\\\\"674e9cca-bc4b-4a1a-b365-a9bbcdef520c\\\\\\\"}, \\\\\\\"validation_data\\\\\\\": {\\\\\\\"datasetId\\\\\\\": \\\\\\\"64949c6e-5b3c-4255-bc4a-d1de44882225\\\\\\\"}, \\\\\\\"datasets\\\\\\\": 0}\", \"EnableSubsampling\": null, \"runTemplate\": \"AutoML\", \"azureml.runsource\": \"automl\", \"display_task_type\": \"classification\", \"dependencies_versions\": \"{\\\"azureml-widgets\\\": \\\"1.27.0\\\", \\\"azureml-train\\\": \\\"1.27.0\\\", \\\"azureml-train-restclients-hyperdrive\\\": \\\"1.27.0\\\", \\\"azureml-train-core\\\": \\\"1.27.0\\\", \\\"azureml-train-automl\\\": \\\"1.27.0\\\", \\\"azureml-train-automl-runtime\\\": \\\"1.27.0\\\", \\\"azureml-train-automl-client\\\": \\\"1.27.0\\\", \\\"azureml-tensorboard\\\": \\\"1.27.0\\\", \\\"azureml-telemetry\\\": \\\"1.27.0\\\", \\\"azureml-sdk\\\": \\\"1.27.0\\\", \\\"azureml-samples\\\": \\\"0+unknown\\\", \\\"azureml-pipeline\\\": \\\"1.27.0\\\", \\\"azureml-pipeline-steps\\\": \\\"1.27.0\\\", \\\"azureml-pipeline-core\\\": \\\"1.27.0\\\", \\\"azureml-opendatasets\\\": \\\"1.27.0\\\", \\\"azureml-model-management-sdk\\\": \\\"1.0.1b6.post1\\\", \\\"azureml-mlflow\\\": \\\"1.27.0\\\", \\\"azureml-interpret\\\": \\\"1.27.0\\\", \\\"azureml-explain-model\\\": \\\"1.27.0\\\", \\\"azureml-defaults\\\": \\\"1.27.0\\\", \\\"azureml-dataset-runtime\\\": \\\"1.27.0\\\", \\\"azureml-dataprep\\\": \\\"2.14.2\\\", \\\"azureml-dataprep-rslex\\\": \\\"1.12.1\\\", \\\"azureml-dataprep-native\\\": \\\"33.0.0\\\", \\\"azureml-datadrift\\\": \\\"1.27.0\\\", \\\"azureml-core\\\": \\\"1.27.0\\\", \\\"azureml-contrib-services\\\": \\\"1.27.0\\\", \\\"azureml-contrib-server\\\": \\\"1.27.0\\\", \\\"azureml-contrib-reinforcementlearning\\\": \\\"1.27.0\\\", \\\"azureml-contrib-pipeline-steps\\\": \\\"1.27.0\\\", \\\"azureml-contrib-notebook\\\": \\\"1.27.0\\\", \\\"azureml-contrib-gbdt\\\": \\\"1.27.0\\\", \\\"azureml-contrib-fairness\\\": \\\"1.27.0\\\", \\\"azureml-contrib-dataset\\\": \\\"1.27.0\\\", \\\"azureml-cli-common\\\": \\\"1.27.0\\\", \\\"azureml-automl-runtime\\\": \\\"1.27.0\\\", \\\"azureml-automl-dnn-nlp\\\": \\\"1.27.0\\\", \\\"azureml-automl-core\\\": \\\"1.27.0\\\", \\\"azureml-accel-models\\\": \\\"1.27.0\\\"}\", \"_aml_system_scenario_identification\": \"Remote.Parent\", \"ClientType\": \"SDK\", \"environment_cpu_name\": \"AzureML-AutoML\", \"environment_cpu_label\": \"prod\", \"environment_gpu_name\": \"AzureML-AutoML-GPU\", \"environment_gpu_label\": \"prod\", \"root_attribution\": \"automl\", \"attribution\": \"AutoML\", \"Orchestrator\": \"AutoML\", \"CancelUri\": \"https://southcentralus.api.azureml.ms/jasmine/v1.0/subscriptions/510b94ba-e453-4417-988b-fbdc37b55ca7/resourceGroups/aml-quickstarts-144914/providers/Microsoft.MachineLearningServices/workspaces/quick-starts-ws-144914/experimentids/8b5e912f-18a5-4e16-b3b6-5de80ca0813d/cancel/AutoML_5b92da3e-f409-46be-8143-26c1b4b5c8ef\", \"ClientSdkVersion\": \"1.27.0.post1\", \"snapshotId\": \"00000000-0000-0000-0000-000000000000\", \"SetupRunId\": \"AutoML_5b92da3e-f409-46be-8143-26c1b4b5c8ef_setup\", \"SetupRunContainerId\": \"dcid.AutoML_5b92da3e-f409-46be-8143-26c1b4b5c8ef_setup\", \"FeaturizationRunJsonPath\": \"featurizer_container.json\", \"FeaturizationRunId\": \"AutoML_5b92da3e-f409-46be-8143-26c1b4b5c8ef_featurize\", \"ProblemInfoJsonString\": \"{\\\"dataset_num_categorical\\\": 0, \\\"is_sparse\\\": true, \\\"subsampling\\\": false, \\\"dataset_classes\\\": 2, \\\"dataset_features\\\": 2345, \\\"dataset_samples\\\": 17085, \\\"single_frequency_class_detected\\\": false}\", \"ModelExplainRunId\": \"AutoML_5b92da3e-f409-46be-8143-26c1b4b5c8ef_ModelExplain\"}, \"tags\": {\"model_explain_run\": \"best_run\", \"_aml_system_azureml.automlComponent\": \"AutoML\", \"pipeline_id\": \"\", \"score\": \"\", \"predicted_cost\": \"\", \"fit_time\": \"\", \"training_percent\": \"\", \"iteration\": \"\", \"run_preprocessor\": \"\", \"run_algorithm\": \"\", \"dynamic_whitelisting_iterations\": \"<25>;<30>;<35>;\", \"automl_best_child_run_id\": \"AutoML_5b92da3e-f409-46be-8143-26c1b4b5c8ef_39\", \"model_explain_best_run_child_id\": \"AutoML_5b92da3e-f409-46be-8143-26c1b4b5c8ef_39\"}, \"end_time_utc\": \"2021-05-15T23:59:33.463125Z\", \"status\": \"Completed\", \"log_files\": {}, \"log_groups\": [], \"run_duration\": \"1:06:50\", \"run_number\": \"2\", \"run_queued_details\": {\"status\": \"Completed\", \"details\": null}}, \"child_runs\": [{\"run_id\": \"AutoML_5b92da3e-f409-46be-8143-26c1b4b5c8ef_0\", \"run_number\": 6, \"metric\": null, \"status\": \"Completed\", \"run_type\": \"azureml.scriptrun\", \"training_percent\": \"100\", \"start_time\": \"2021-05-15T23:05:12.112448Z\", \"end_time\": \"2021-05-15T23:06:05.790983Z\", \"created_time\": \"2021-05-15T23:05:01.887442Z\", \"created_time_dt\": \"2021-05-15T23:05:01.887442Z\", \"duration\": \"0:01:03\", \"iteration\": \"0\", \"goal\": \"AUC_weighted_max\", \"run_name\": \"MaxAbsScaler, LightGBM\", \"run_properties\": \"copy=True\", \"primary_metric\": 0.86172277, \"best_metric\": 0.86172277}, {\"run_id\": \"AutoML_5b92da3e-f409-46be-8143-26c1b4b5c8ef_1\", \"run_number\": 7, \"metric\": null, \"status\": \"Completed\", \"run_type\": \"azureml.scriptrun\", \"training_percent\": \"100\", \"start_time\": \"2021-05-15T23:06:21.787048Z\", \"end_time\": \"2021-05-15T23:07:20.075478Z\", \"created_time\": \"2021-05-15T23:06:06.801652Z\", \"created_time_dt\": \"2021-05-15T23:06:06.801652Z\", \"duration\": \"0:01:13\", \"iteration\": \"1\", \"goal\": \"AUC_weighted_max\", \"run_name\": \"MaxAbsScaler, XGBoostClassifier\", \"run_properties\": \"copy=True\", \"primary_metric\": 0.84347019, \"best_metric\": 0.86172277}, {\"run_id\": \"AutoML_5b92da3e-f409-46be-8143-26c1b4b5c8ef_2\", \"run_number\": 8, \"metric\": null, \"status\": \"Completed\", \"run_type\": \"azureml.scriptrun\", \"training_percent\": \"100\", \"start_time\": \"2021-05-15T23:07:36.257375Z\", \"end_time\": \"2021-05-15T23:08:23.196517Z\", \"created_time\": \"2021-05-15T23:07:21.462041Z\", \"created_time_dt\": \"2021-05-15T23:07:21.462041Z\", \"duration\": \"0:01:01\", \"iteration\": \"2\", \"goal\": \"AUC_weighted_max\", \"run_name\": \"MaxAbsScaler, RandomForest\", \"run_properties\": \"copy=True\", \"primary_metric\": 0.75492233, \"best_metric\": 0.86172277}, {\"run_id\": \"AutoML_5b92da3e-f409-46be-8143-26c1b4b5c8ef_3\", \"run_number\": 9, \"metric\": null, \"status\": \"Completed\", \"run_type\": \"azureml.scriptrun\", \"training_percent\": \"100\", \"start_time\": \"2021-05-15T23:08:40.876319Z\", \"end_time\": \"2021-05-15T23:09:24.765743Z\", \"created_time\": \"2021-05-15T23:08:25.031557Z\", \"created_time_dt\": \"2021-05-15T23:08:25.031557Z\", \"duration\": \"0:00:59\", \"iteration\": \"3\", \"goal\": \"AUC_weighted_max\", \"run_name\": \"MaxAbsScaler, RandomForest\", \"run_properties\": \"copy=True\", \"primary_metric\": 0.77340242, \"best_metric\": 0.86172277}, {\"run_id\": \"AutoML_5b92da3e-f409-46be-8143-26c1b4b5c8ef_4\", \"run_number\": 10, \"metric\": null, \"status\": \"Completed\", \"run_type\": \"azureml.scriptrun\", \"training_percent\": \"100\", \"start_time\": \"2021-05-15T23:09:41.799631Z\", \"end_time\": \"2021-05-15T23:10:33.784435Z\", \"created_time\": \"2021-05-15T23:09:26.985411Z\", \"created_time_dt\": \"2021-05-15T23:09:26.985411Z\", \"duration\": \"0:01:06\", \"iteration\": \"4\", \"goal\": \"AUC_weighted_max\", \"run_name\": \"MaxAbsScaler, RandomForest\", \"run_properties\": \"copy=True\", \"primary_metric\": 0.70024334, \"best_metric\": 0.86172277}, {\"run_id\": \"AutoML_5b92da3e-f409-46be-8143-26c1b4b5c8ef_5\", \"run_number\": 11, \"metric\": null, \"status\": \"Completed\", \"run_type\": \"azureml.scriptrun\", \"training_percent\": \"100\", \"start_time\": \"2021-05-15T23:10:50.654428Z\", \"end_time\": \"2021-05-15T23:11:45.916219Z\", \"created_time\": \"2021-05-15T23:10:35.981867Z\", \"created_time_dt\": \"2021-05-15T23:10:35.981867Z\", \"duration\": \"0:01:09\", \"iteration\": \"5\", \"goal\": \"AUC_weighted_max\", \"run_name\": \"MaxAbsScaler, ExtremeRandomTrees\", \"run_properties\": \"copy=True\", \"primary_metric\": 0.76603146, \"best_metric\": 0.86172277}, {\"run_id\": \"AutoML_5b92da3e-f409-46be-8143-26c1b4b5c8ef_6\", \"run_number\": 12, \"metric\": null, \"status\": \"Completed\", \"run_type\": \"azureml.scriptrun\", \"training_percent\": \"100\", \"start_time\": \"2021-05-15T23:12:00.35679Z\", \"end_time\": \"2021-05-15T23:12:57.730096Z\", \"created_time\": \"2021-05-15T23:11:47.882127Z\", \"created_time_dt\": \"2021-05-15T23:11:47.882127Z\", \"duration\": \"0:01:09\", \"iteration\": \"6\", \"goal\": \"AUC_weighted_max\", \"run_name\": \"MaxAbsScaler, ExtremeRandomTrees\", \"run_properties\": \"copy=True\", \"primary_metric\": 0.79419208, \"best_metric\": 0.86172277}, {\"run_id\": \"AutoML_5b92da3e-f409-46be-8143-26c1b4b5c8ef_7\", \"run_number\": 13, \"metric\": null, \"status\": \"Completed\", \"run_type\": \"azureml.scriptrun\", \"training_percent\": \"100\", \"start_time\": \"2021-05-15T23:13:12.589054Z\", \"end_time\": \"2021-05-15T23:13:57.975397Z\", \"created_time\": \"2021-05-15T23:12:59.720273Z\", \"created_time_dt\": \"2021-05-15T23:12:59.720273Z\", \"duration\": \"0:00:58\", \"iteration\": \"7\", \"goal\": \"AUC_weighted_max\", \"run_name\": \"MaxAbsScaler, ExtremeRandomTrees\", \"run_properties\": \"copy=True\", \"primary_metric\": 0.80632805, \"best_metric\": 0.86172277}, {\"run_id\": \"AutoML_5b92da3e-f409-46be-8143-26c1b4b5c8ef_8\", \"run_number\": 14, \"metric\": null, \"status\": \"Completed\", \"run_type\": \"azureml.scriptrun\", \"training_percent\": \"100\", \"start_time\": \"2021-05-15T23:14:15.63055Z\", \"end_time\": \"2021-05-15T23:15:02.829697Z\", \"created_time\": \"2021-05-15T23:13:59.929472Z\", \"created_time_dt\": \"2021-05-15T23:13:59.929472Z\", \"duration\": \"0:01:02\", \"iteration\": \"8\", \"goal\": \"AUC_weighted_max\", \"run_name\": \"MaxAbsScaler, RandomForest\", \"run_properties\": \"copy=True\", \"primary_metric\": 0.804978, \"best_metric\": 0.86172277}, {\"run_id\": \"AutoML_5b92da3e-f409-46be-8143-26c1b4b5c8ef_9\", \"run_number\": 15, \"metric\": null, \"status\": \"Completed\", \"run_type\": \"azureml.scriptrun\", \"training_percent\": \"100\", \"start_time\": \"2021-05-15T23:15:16.403328Z\", \"end_time\": \"2021-05-15T23:16:10.741328Z\", \"created_time\": \"2021-05-15T23:15:04.591884Z\", \"created_time_dt\": \"2021-05-15T23:15:04.591884Z\", \"duration\": \"0:01:06\", \"iteration\": \"9\", \"goal\": \"AUC_weighted_max\", \"run_name\": \"MaxAbsScaler, ExtremeRandomTrees\", \"run_properties\": \"copy=True\", \"primary_metric\": 0.7916165, \"best_metric\": 0.86172277}, {\"run_id\": \"AutoML_5b92da3e-f409-46be-8143-26c1b4b5c8ef_10\", \"run_number\": 16, \"metric\": null, \"status\": \"Completed\", \"run_type\": \"azureml.scriptrun\", \"training_percent\": \"100\", \"start_time\": \"2021-05-15T23:16:24.984643Z\", \"end_time\": \"2021-05-15T23:17:19.279701Z\", \"created_time\": \"2021-05-15T23:16:13.291309Z\", \"created_time_dt\": \"2021-05-15T23:16:13.291309Z\", \"duration\": \"0:01:05\", \"iteration\": \"10\", \"goal\": \"AUC_weighted_max\", \"run_name\": \"MaxAbsScaler, RandomForest\", \"run_properties\": \"copy=True\", \"primary_metric\": 0.76353839, \"best_metric\": 0.86172277}, {\"run_id\": \"AutoML_5b92da3e-f409-46be-8143-26c1b4b5c8ef_11\", \"run_number\": 17, \"metric\": null, \"status\": \"Completed\", \"run_type\": \"azureml.scriptrun\", \"training_percent\": \"100\", \"start_time\": \"2021-05-15T23:17:34.325573Z\", \"end_time\": \"2021-05-15T23:18:21.854855Z\", \"created_time\": \"2021-05-15T23:17:21.289703Z\", \"created_time_dt\": \"2021-05-15T23:17:21.289703Z\", \"duration\": \"0:01:00\", \"iteration\": \"11\", \"goal\": \"AUC_weighted_max\", \"run_name\": \"MaxAbsScaler, RandomForest\", \"run_properties\": \"copy=True\", \"primary_metric\": 0.6956, \"best_metric\": 0.86172277}, {\"run_id\": \"AutoML_5b92da3e-f409-46be-8143-26c1b4b5c8ef_12\", \"run_number\": 18, \"metric\": null, \"status\": \"Completed\", \"run_type\": \"azureml.scriptrun\", \"training_percent\": \"100\", \"start_time\": \"2021-05-15T23:18:38.264577Z\", \"end_time\": \"2021-05-15T23:19:30.603301Z\", \"created_time\": \"2021-05-15T23:18:24.116609Z\", \"created_time_dt\": \"2021-05-15T23:18:24.116609Z\", \"duration\": \"0:01:06\", \"iteration\": \"12\", \"goal\": \"AUC_weighted_max\", \"run_name\": \"MaxAbsScaler, RandomForest\", \"run_properties\": \"copy=True\", \"primary_metric\": 0.73056898, \"best_metric\": 0.86172277}, {\"run_id\": \"AutoML_5b92da3e-f409-46be-8143-26c1b4b5c8ef_13\", \"run_number\": 19, \"metric\": null, \"status\": \"Completed\", \"run_type\": \"azureml.scriptrun\", \"training_percent\": \"100\", \"start_time\": \"2021-05-15T23:19:44.509172Z\", \"end_time\": \"2021-05-15T23:20:35.750643Z\", \"created_time\": \"2021-05-15T23:19:32.78945Z\", \"created_time_dt\": \"2021-05-15T23:19:32.78945Z\", \"duration\": \"0:01:02\", \"iteration\": \"13\", \"goal\": \"AUC_weighted_max\", \"run_name\": \"StandardScalerWrapper, XGBoostClassifier\", \"run_properties\": \"<azureml.automl.runtime.shared.model_wrappers.StandardScalerWrapper object at 0x7faa35678ba8\", \"primary_metric\": 0.79404818, \"best_metric\": 0.86172277}, {\"run_id\": \"AutoML_5b92da3e-f409-46be-8143-26c1b4b5c8ef_14\", \"run_number\": 20, \"metric\": null, \"status\": \"Completed\", \"run_type\": \"azureml.scriptrun\", \"training_percent\": \"100\", \"start_time\": \"2021-05-15T23:20:49.101863Z\", \"end_time\": \"2021-05-15T23:21:37.450303Z\", \"created_time\": \"2021-05-15T23:20:37.549449Z\", \"created_time_dt\": \"2021-05-15T23:20:37.549449Z\", \"duration\": \"0:00:59\", \"iteration\": \"14\", \"goal\": \"AUC_weighted_max\", \"run_name\": \"MaxAbsScaler, RandomForest\", \"run_properties\": \"copy=True\", \"primary_metric\": 0.73899538, \"best_metric\": 0.86172277}, {\"run_id\": \"AutoML_5b92da3e-f409-46be-8143-26c1b4b5c8ef_15\", \"run_number\": 21, \"metric\": null, \"status\": \"Completed\", \"run_type\": \"azureml.scriptrun\", \"training_percent\": \"100\", \"start_time\": \"2021-05-15T23:21:53.420265Z\", \"end_time\": \"2021-05-15T23:22:45.469772Z\", \"created_time\": \"2021-05-15T23:21:39.494201Z\", \"created_time_dt\": \"2021-05-15T23:21:39.494201Z\", \"duration\": \"0:01:05\", \"iteration\": \"15\", \"goal\": \"AUC_weighted_max\", \"run_name\": \"StandardScalerWrapper, ExtremeRandomTrees\", \"run_properties\": \"<azureml.automl.runtime.shared.model_wrappers.StandardScalerWrapper object at 0x7f04ed5dfef0\", \"primary_metric\": 0.65370363, \"best_metric\": 0.86172277}, {\"run_id\": \"AutoML_5b92da3e-f409-46be-8143-26c1b4b5c8ef_16\", \"run_number\": 22, \"metric\": null, \"status\": \"Completed\", \"run_type\": \"azureml.scriptrun\", \"training_percent\": \"100\", \"start_time\": \"2021-05-15T23:23:00.457991Z\", \"end_time\": \"2021-05-15T23:23:48.748694Z\", \"created_time\": \"2021-05-15T23:22:47.928088Z\", \"created_time_dt\": \"2021-05-15T23:22:47.928088Z\", \"duration\": \"0:01:00\", \"iteration\": \"16\", \"goal\": \"AUC_weighted_max\", \"run_name\": \"MaxAbsScaler, ExtremeRandomTrees\", \"run_properties\": \"copy=True\", \"primary_metric\": 0.77320704, \"best_metric\": 0.86172277}, {\"run_id\": \"AutoML_5b92da3e-f409-46be-8143-26c1b4b5c8ef_17\", \"run_number\": 23, \"metric\": null, \"status\": \"Completed\", \"run_type\": \"azureml.scriptrun\", \"training_percent\": \"100\", \"start_time\": \"2021-05-15T23:24:00.872967Z\", \"end_time\": \"2021-05-15T23:29:19.612249Z\", \"created_time\": \"2021-05-15T23:23:51.162629Z\", \"created_time_dt\": \"2021-05-15T23:23:51.162629Z\", \"duration\": \"0:05:28\", \"iteration\": \"17\", \"goal\": \"AUC_weighted_max\", \"run_name\": \"MaxAbsScaler, ExtremeRandomTrees\", \"run_properties\": \"copy=True\", \"primary_metric\": 0.78697602, \"best_metric\": 0.86172277}, {\"run_id\": \"AutoML_5b92da3e-f409-46be-8143-26c1b4b5c8ef_18\", \"run_number\": 24, \"metric\": null, \"status\": \"Completed\", \"run_type\": \"azureml.scriptrun\", \"training_percent\": \"100\", \"start_time\": \"2021-05-15T23:29:36.803801Z\", \"end_time\": \"2021-05-15T23:30:28.936775Z\", \"created_time\": \"2021-05-15T23:29:21.933494Z\", \"created_time_dt\": \"2021-05-15T23:29:21.933494Z\", \"duration\": \"0:01:07\", \"iteration\": \"18\", \"goal\": \"AUC_weighted_max\", \"run_name\": \"MaxAbsScaler, RandomForest\", \"run_properties\": \"copy=True\", \"primary_metric\": 0.68339846, \"best_metric\": 0.86172277}, {\"run_id\": \"AutoML_5b92da3e-f409-46be-8143-26c1b4b5c8ef_19\", \"run_number\": 25, \"metric\": null, \"status\": \"Completed\", \"run_type\": \"azureml.scriptrun\", \"training_percent\": \"100\", \"start_time\": \"2021-05-15T23:30:47.865306Z\", \"end_time\": \"2021-05-15T23:31:44.175115Z\", \"created_time\": \"2021-05-15T23:30:31.663393Z\", \"created_time_dt\": \"2021-05-15T23:30:31.663393Z\", \"duration\": \"0:01:12\", \"iteration\": \"19\", \"goal\": \"AUC_weighted_max\", \"run_name\": \"StandardScalerWrapper, LogisticRegression\", \"run_properties\": \"<azureml.automl.runtime.shared.model_wrappers.StandardScalerWrapper object at 0x7f629ac4de80\", \"primary_metric\": 0.85614037, \"best_metric\": 0.86172277}, {\"run_id\": \"AutoML_5b92da3e-f409-46be-8143-26c1b4b5c8ef_20\", \"run_number\": 26, \"metric\": null, \"status\": \"Completed\", \"run_type\": \"azureml.scriptrun\", \"training_percent\": \"100\", \"start_time\": \"2021-05-15T23:31:59.054054Z\", \"end_time\": \"2021-05-15T23:32:53.384586Z\", \"created_time\": \"2021-05-15T23:31:47.355613Z\", \"created_time_dt\": \"2021-05-15T23:31:47.355613Z\", \"duration\": \"0:01:06\", \"iteration\": \"20\", \"goal\": \"AUC_weighted_max\", \"run_name\": \"StandardScalerWrapper, LightGBM\", \"run_properties\": \"<azureml.automl.runtime.shared.model_wrappers.StandardScalerWrapper object at 0x7f0f52f22e48\", \"primary_metric\": 0.82860242, \"best_metric\": 0.86172277}, {\"run_id\": \"AutoML_5b92da3e-f409-46be-8143-26c1b4b5c8ef_21\", \"run_number\": 27, \"metric\": null, \"status\": \"Completed\", \"run_type\": \"azureml.scriptrun\", \"training_percent\": \"100\", \"start_time\": \"2021-05-15T23:33:10.06986Z\", \"end_time\": \"2021-05-15T23:33:59.25732Z\", \"created_time\": \"2021-05-15T23:32:55.971078Z\", \"created_time_dt\": \"2021-05-15T23:32:55.971078Z\", \"duration\": \"0:01:03\", \"iteration\": \"21\", \"goal\": \"AUC_weighted_max\", \"run_name\": \"MaxAbsScaler, ExtremeRandomTrees\", \"run_properties\": \"copy=True\", \"primary_metric\": 0.79812431, \"best_metric\": 0.86172277}, {\"run_id\": \"AutoML_5b92da3e-f409-46be-8143-26c1b4b5c8ef_22\", \"run_number\": 28, \"metric\": null, \"status\": \"Completed\", \"run_type\": \"azureml.scriptrun\", \"training_percent\": \"100\", \"start_time\": \"2021-05-15T23:34:12.077158Z\", \"end_time\": \"2021-05-15T23:34:59.655002Z\", \"created_time\": \"2021-05-15T23:34:01.195985Z\", \"created_time_dt\": \"2021-05-15T23:34:01.195985Z\", \"duration\": \"0:00:58\", \"iteration\": \"22\", \"goal\": \"AUC_weighted_max\", \"run_name\": \"MaxAbsScaler, LightGBM\", \"run_properties\": \"copy=True\", \"primary_metric\": 0.81357052, \"best_metric\": 0.86172277}, {\"run_id\": \"AutoML_5b92da3e-f409-46be-8143-26c1b4b5c8ef_23\", \"run_number\": 29, \"metric\": null, \"status\": \"Completed\", \"run_type\": \"azureml.scriptrun\", \"training_percent\": \"100\", \"start_time\": \"2021-05-15T23:35:17.972745Z\", \"end_time\": \"2021-05-15T23:36:17.190329Z\", \"created_time\": \"2021-05-15T23:35:01.644673Z\", \"created_time_dt\": \"2021-05-15T23:35:01.644673Z\", \"duration\": \"0:01:15\", \"iteration\": \"23\", \"goal\": \"AUC_weighted_max\", \"run_name\": \"MaxAbsScaler, SGD\", \"run_properties\": \"copy=True\", \"primary_metric\": 0.83887525, \"best_metric\": 0.86172277}, {\"run_id\": \"AutoML_5b92da3e-f409-46be-8143-26c1b4b5c8ef_24\", \"run_number\": 30, \"metric\": null, \"status\": \"Completed\", \"run_type\": \"azureml.scriptrun\", \"training_percent\": \"100\", \"start_time\": \"2021-05-15T23:36:30.768687Z\", \"end_time\": \"2021-05-15T23:37:22.278557Z\", \"created_time\": \"2021-05-15T23:36:19.027594Z\", \"created_time_dt\": \"2021-05-15T23:36:19.027594Z\", \"duration\": \"0:01:03\", \"iteration\": \"24\", \"goal\": \"AUC_weighted_max\", \"run_name\": \"SparseNormalizer, LightGBM\", \"run_properties\": \"<azureml.automl.runtime.shared.model_wrappers.SparseNormalizer object at 0x7fe547ce7438\", \"primary_metric\": 0.85634499, \"best_metric\": 0.86172277}, {\"run_id\": \"AutoML_5b92da3e-f409-46be-8143-26c1b4b5c8ef_25\", \"run_number\": 31, \"metric\": null, \"status\": \"Completed\", \"run_type\": \"azureml.scriptrun\", \"training_percent\": \"100\", \"start_time\": \"2021-05-15T23:37:36.911065Z\", \"end_time\": \"2021-05-15T23:38:28.177766Z\", \"created_time\": \"2021-05-15T23:37:25.311525Z\", \"created_time_dt\": \"2021-05-15T23:37:25.311525Z\", \"duration\": \"0:01:02\", \"iteration\": \"25\", \"goal\": \"AUC_weighted_max\", \"run_name\": \"MaxAbsScaler, LightGBM\", \"run_properties\": \"copy=True\", \"primary_metric\": 0.85323168, \"best_metric\": 0.86172277}, {\"run_id\": \"AutoML_5b92da3e-f409-46be-8143-26c1b4b5c8ef_26\", \"run_number\": 32, \"metric\": null, \"status\": \"Completed\", \"run_type\": \"azureml.scriptrun\", \"training_percent\": \"100\", \"start_time\": \"2021-05-15T23:38:42.710135Z\", \"end_time\": \"2021-05-15T23:39:49.495771Z\", \"created_time\": \"2021-05-15T23:38:30.896169Z\", \"created_time_dt\": \"2021-05-15T23:38:30.896169Z\", \"duration\": \"0:01:18\", \"iteration\": \"26\", \"goal\": \"AUC_weighted_max\", \"run_name\": \"StandardScalerWrapper, LogisticRegression\", \"run_properties\": \"<azureml.automl.runtime.shared.model_wrappers.StandardScalerWrapper object at 0x7fd4f5ab2198\", \"primary_metric\": 0.84892717, \"best_metric\": 0.86172277}, {\"run_id\": \"AutoML_5b92da3e-f409-46be-8143-26c1b4b5c8ef_27\", \"run_number\": 33, \"metric\": null, \"status\": \"Completed\", \"run_type\": \"azureml.scriptrun\", \"training_percent\": \"100\", \"start_time\": \"2021-05-15T23:40:03.424719Z\", \"end_time\": \"2021-05-15T23:40:51.861483Z\", \"created_time\": \"2021-05-15T23:39:51.438427Z\", \"created_time_dt\": \"2021-05-15T23:39:51.438427Z\", \"duration\": \"0:01:00\", \"iteration\": \"27\", \"goal\": \"AUC_weighted_max\", \"run_name\": \"MaxAbsScaler, LightGBM\", \"run_properties\": \"copy=True\", \"primary_metric\": 0.71475248, \"best_metric\": 0.86172277}, {\"run_id\": \"AutoML_5b92da3e-f409-46be-8143-26c1b4b5c8ef_28\", \"run_number\": 34, \"metric\": null, \"status\": \"Completed\", \"run_type\": \"azureml.scriptrun\", \"training_percent\": \"100\", \"start_time\": \"2021-05-15T23:41:06.441895Z\", \"end_time\": \"2021-05-15T23:42:37.197239Z\", \"created_time\": \"2021-05-15T23:40:53.881857Z\", \"created_time_dt\": \"2021-05-15T23:40:53.881857Z\", \"duration\": \"0:01:43\", \"iteration\": \"28\", \"goal\": \"AUC_weighted_max\", \"run_name\": \"TruncatedSVDWrapper, XGBoostClassifier\", \"run_properties\": \"n_components=0.8015789473684211, random_state=None\", \"primary_metric\": 0.78483608, \"best_metric\": 0.86172277}, {\"run_id\": \"AutoML_5b92da3e-f409-46be-8143-26c1b4b5c8ef_29\", \"run_number\": 35, \"metric\": null, \"status\": \"Completed\", \"run_type\": \"azureml.scriptrun\", \"training_percent\": \"100\", \"start_time\": \"2021-05-15T23:42:52.002134Z\", \"end_time\": \"2021-05-15T23:44:08.718774Z\", \"created_time\": \"2021-05-15T23:42:39.948956Z\", \"created_time_dt\": \"2021-05-15T23:42:39.948956Z\", \"duration\": \"0:01:28\", \"iteration\": \"29\", \"goal\": \"AUC_weighted_max\", \"run_name\": \"MaxAbsScaler, SGD\", \"run_properties\": \"copy=True\", \"primary_metric\": 0.84620594, \"best_metric\": 0.86172277}, {\"run_id\": \"AutoML_5b92da3e-f409-46be-8143-26c1b4b5c8ef_30\", \"run_number\": 36, \"metric\": null, \"status\": \"Completed\", \"run_type\": \"azureml.scriptrun\", \"training_percent\": \"100\", \"start_time\": \"2021-05-15T23:44:21.540452Z\", \"end_time\": \"2021-05-15T23:45:21.10197Z\", \"created_time\": \"2021-05-15T23:44:11.925646Z\", \"created_time_dt\": \"2021-05-15T23:44:11.925646Z\", \"duration\": \"0:01:09\", \"iteration\": \"30\", \"goal\": \"AUC_weighted_max\", \"run_name\": \"TruncatedSVDWrapper, LightGBM\", \"run_properties\": \"n_components=0.10894736842105263, random_state=None\", \"primary_metric\": 0.76792871, \"best_metric\": 0.86172277}, {\"run_id\": \"AutoML_5b92da3e-f409-46be-8143-26c1b4b5c8ef_31\", \"run_number\": 37, \"metric\": null, \"status\": \"Completed\", \"run_type\": \"azureml.scriptrun\", \"training_percent\": \"100\", \"start_time\": \"2021-05-15T23:45:37.317981Z\", \"end_time\": \"2021-05-15T23:46:32.969529Z\", \"created_time\": \"2021-05-15T23:45:22.824659Z\", \"created_time_dt\": \"2021-05-15T23:45:22.824659Z\", \"duration\": \"0:01:10\", \"iteration\": \"31\", \"goal\": \"AUC_weighted_max\", \"run_name\": \"StandardScalerWrapper, LogisticRegression\", \"run_properties\": \"<azureml.automl.runtime.shared.model_wrappers.StandardScalerWrapper object at 0x7fe784169fd0\", \"primary_metric\": 0.85620154, \"best_metric\": 0.86172277}, {\"run_id\": \"AutoML_5b92da3e-f409-46be-8143-26c1b4b5c8ef_32\", \"run_number\": 38, \"metric\": null, \"status\": \"Completed\", \"run_type\": \"azureml.scriptrun\", \"training_percent\": \"100\", \"start_time\": \"2021-05-15T23:46:48.773819Z\", \"end_time\": \"2021-05-15T23:47:45.319401Z\", \"created_time\": \"2021-05-15T23:46:35.014816Z\", \"created_time_dt\": \"2021-05-15T23:46:35.014816Z\", \"duration\": \"0:01:10\", \"iteration\": \"32\", \"goal\": \"AUC_weighted_max\", \"run_name\": \"StandardScalerWrapper, LogisticRegression\", \"run_properties\": \"<azureml.automl.runtime.shared.model_wrappers.StandardScalerWrapper object at 0x7fc20e28ee10\", \"primary_metric\": 0.85625391, \"best_metric\": 0.86172277}, {\"run_id\": \"AutoML_5b92da3e-f409-46be-8143-26c1b4b5c8ef_33\", \"run_number\": 39, \"metric\": null, \"status\": \"Completed\", \"run_type\": \"azureml.scriptrun\", \"training_percent\": \"100\", \"start_time\": \"2021-05-15T23:48:02.123412Z\", \"end_time\": \"2021-05-15T23:49:06.964502Z\", \"created_time\": \"2021-05-15T23:47:47.594925Z\", \"created_time_dt\": \"2021-05-15T23:47:47.594925Z\", \"duration\": \"0:01:19\", \"iteration\": \"33\", \"goal\": \"AUC_weighted_max\", \"run_name\": \"MaxAbsScaler, LogisticRegression\", \"run_properties\": \"copy=True\", \"primary_metric\": 0.84486601, \"best_metric\": 0.86172277}, {\"run_id\": \"AutoML_5b92da3e-f409-46be-8143-26c1b4b5c8ef_34\", \"run_number\": 40, \"metric\": null, \"status\": \"Completed\", \"run_type\": \"azureml.scriptrun\", \"training_percent\": \"100\", \"start_time\": \"2021-05-15T23:49:21.489206Z\", \"end_time\": \"2021-05-15T23:50:45.016952Z\", \"created_time\": \"2021-05-15T23:49:09.569079Z\", \"created_time_dt\": \"2021-05-15T23:49:09.569079Z\", \"duration\": \"0:01:35\", \"iteration\": \"34\", \"goal\": \"AUC_weighted_max\", \"run_name\": \"StandardScalerWrapper, LogisticRegression\", \"run_properties\": \"<azureml.automl.runtime.shared.model_wrappers.StandardScalerWrapper object at 0x7f40ab34e4e0\", \"primary_metric\": 0.85610957, \"best_metric\": 0.86172277}, {\"run_id\": \"AutoML_5b92da3e-f409-46be-8143-26c1b4b5c8ef_35\", \"run_number\": 41, \"metric\": null, \"status\": \"Completed\", \"run_type\": \"azureml.scriptrun\", \"training_percent\": \"100\", \"start_time\": \"2021-05-15T23:50:58.675169Z\", \"end_time\": \"2021-05-15T23:51:55.226436Z\", \"created_time\": \"2021-05-15T23:50:48.210616Z\", \"created_time_dt\": \"2021-05-15T23:50:48.210616Z\", \"duration\": \"0:01:07\", \"iteration\": \"35\", \"goal\": \"AUC_weighted_max\", \"run_name\": \"TruncatedSVDWrapper, LightGBM\", \"run_properties\": \"n_components=0.9005263157894737, random_state=None\", \"primary_metric\": 0.69445523, \"best_metric\": 0.86172277}, {\"run_id\": \"AutoML_5b92da3e-f409-46be-8143-26c1b4b5c8ef_36\", \"run_number\": 42, \"metric\": null, \"status\": \"Completed\", \"run_type\": \"azureml.scriptrun\", \"training_percent\": \"100\", \"start_time\": \"2021-05-15T23:52:08.680462Z\", \"end_time\": \"2021-05-15T23:53:03.03931Z\", \"created_time\": \"2021-05-15T23:51:57.139137Z\", \"created_time_dt\": \"2021-05-15T23:51:57.139137Z\", \"duration\": \"0:01:05\", \"iteration\": \"36\", \"goal\": \"AUC_weighted_max\", \"run_name\": \"MaxAbsScaler, LogisticRegression\", \"run_properties\": \"copy=True\", \"primary_metric\": 0.84816986, \"best_metric\": 0.86172277}, {\"run_id\": \"AutoML_5b92da3e-f409-46be-8143-26c1b4b5c8ef_37\", \"run_number\": 43, \"metric\": null, \"status\": \"Completed\", \"run_type\": \"azureml.scriptrun\", \"training_percent\": \"100\", \"start_time\": \"2021-05-15T23:53:15.510305Z\", \"end_time\": \"2021-05-15T23:54:21.346495Z\", \"created_time\": \"2021-05-15T23:53:04.91914Z\", \"created_time_dt\": \"2021-05-15T23:53:04.91914Z\", \"duration\": \"0:01:16\", \"iteration\": \"37\", \"goal\": \"AUC_weighted_max\", \"run_name\": \"StandardScalerWrapper, LogisticRegression\", \"run_properties\": \"<azureml.automl.runtime.shared.model_wrappers.StandardScalerWrapper object at 0x7f81d119a940\", \"primary_metric\": 0.84891749, \"best_metric\": 0.86172277}, {\"run_id\": \"AutoML_5b92da3e-f409-46be-8143-26c1b4b5c8ef_38\", \"run_number\": 44, \"metric\": null, \"status\": \"Completed\", \"run_type\": \"azureml.scriptrun\", \"training_percent\": \"100\", \"start_time\": \"2021-05-15T23:54:39.872888Z\", \"end_time\": \"2021-05-15T23:55:35.905232Z\", \"created_time\": \"2021-05-15T23:54:23.645591Z\", \"created_time_dt\": \"2021-05-15T23:54:23.645591Z\", \"duration\": \"0:01:12\", \"iteration\": \"38\", \"goal\": \"AUC_weighted_max\", \"run_name\": \"StandardScalerWrapper, LogisticRegression\", \"run_properties\": \"<azureml.automl.runtime.shared.model_wrappers.StandardScalerWrapper object at 0x7f62bcbdf630\", \"primary_metric\": 0.85619186, \"best_metric\": 0.86172277}, {\"run_id\": \"AutoML_5b92da3e-f409-46be-8143-26c1b4b5c8ef_39\", \"run_number\": 45, \"metric\": null, \"status\": \"Completed\", \"run_type\": \"azureml.scriptrun\", \"training_percent\": \"100\", \"start_time\": \"2021-05-15T23:55:48.559021Z\", \"end_time\": \"2021-05-15T23:56:54.370843Z\", \"created_time\": \"2021-05-15T23:55:36.874872Z\", \"created_time_dt\": \"2021-05-15T23:55:36.874872Z\", \"duration\": \"0:01:17\", \"iteration\": \"39\", \"goal\": \"AUC_weighted_max\", \"run_name\": \"VotingEnsemble\", \"run_properties\": \"classification_labels=None,\\n                              estimators=[('0',\\n                                           Pipeline(memory=None,\\n                                                    steps=[('maxabsscaler',\\n                                                            MaxAbsScaler(copy=True\", \"primary_metric\": 0.86802288, \"best_metric\": 0.86802288}, {\"run_id\": \"AutoML_5b92da3e-f409-46be-8143-26c1b4b5c8ef_40\", \"run_number\": 46, \"metric\": null, \"status\": \"Completed\", \"run_type\": \"azureml.scriptrun\", \"training_percent\": \"100\", \"start_time\": \"2021-05-15T23:57:07.032829Z\", \"end_time\": \"2021-05-15T23:59:29.469064Z\", \"created_time\": \"2021-05-15T23:56:55.219166Z\", \"created_time_dt\": \"2021-05-15T23:56:55.219166Z\", \"duration\": \"0:02:34\", \"iteration\": \"40\", \"goal\": \"AUC_weighted_max\", \"run_name\": \"StackEnsemble\", \"run_properties\": \"base_learners=[('0',\\n                                        Pipeline(memory=None,\\n                                                 steps=[('maxabsscaler',\\n                                                         MaxAbsScaler(copy=True\", \"primary_metric\": 0.86785831, \"best_metric\": 0.86802288}], \"children_metrics\": {\"categories\": [0], \"series\": {\"precision_score_macro\": [{\"categories\": [\"0\", \"1\", \"2\", \"3\", \"4\", \"5\", \"6\", \"7\", \"8\", \"9\", \"10\", \"11\", \"12\", \"13\", \"14\", \"15\", \"16\", \"17\", \"18\", \"19\", \"20\", \"21\", \"22\", \"23\", \"24\", \"25\", \"26\", \"27\", \"28\", \"29\", \"30\", \"31\", \"32\", \"33\", \"34\", \"35\", \"36\", \"37\", \"38\", \"39\", \"40\"], \"mode\": \"markers\", \"name\": \"precision_score_macro\", \"stepped\": false, \"type\": \"scatter\", \"data\": [0.7870654214491101, 0.7669431241952662, 0.6822487399484098, 0.7035466613829998, 0.6413576777704451, 0.7003047141064707, 0.7244274123845451, 0.7377416589055301, 0.727025196638336, 0.7221008596402132, 0.6955157909745491, 0.6477620353469837, 0.676342325150712, 0.727799709111763, 0.672108481458733, 0.6083806040702593, 0.7021032462670131, 0.7207285273635005, 0.6261923076246081, 0.7823017226645712, 0.7519122015623281, 0.725039812468479, 0.7403482972136223, 0.7694851083977688, 0.7810919089043242, 0.7810114537491575, 0.7782604866233623, 0.6600254167851112, 0.7150871830258244, 0.7658171332137269, 0.6995640974836537, 0.7830095162569389, 0.7829871374789318, 0.7712361136549353, 0.7836971148041978, 0.640489655824191, 0.7758965722211215, 0.7775636108730934, 0.7833083565260829, 0.7904224470554679, 0.7913841315610197]}, {\"categories\": [\"0\", \"1\", \"2\", \"3\", \"4\", \"5\", \"6\", \"7\", \"8\", \"9\", \"10\", \"11\", \"12\", \"13\", \"14\", \"15\", \"16\", \"17\", \"18\", \"19\", \"20\", \"21\", \"22\", \"23\", \"24\", \"25\", \"26\", \"27\", \"28\", \"29\", \"30\", \"31\", \"32\", \"33\", \"34\", \"35\", \"36\", \"37\", \"38\", \"39\", \"40\"], \"mode\": \"lines\", \"name\": \"precision_score_macro_max\", \"stepped\": true, \"type\": \"scatter\", \"data\": [0.7870654214491101, 0.7870654214491101, 0.7870654214491101, 0.7870654214491101, 0.7870654214491101, 0.7870654214491101, 0.7870654214491101, 0.7870654214491101, 0.7870654214491101, 0.7870654214491101, 0.7870654214491101, 0.7870654214491101, 0.7870654214491101, 0.7870654214491101, 0.7870654214491101, 0.7870654214491101, 0.7870654214491101, 0.7870654214491101, 0.7870654214491101, 0.7870654214491101, 0.7870654214491101, 0.7870654214491101, 0.7870654214491101, 0.7870654214491101, 0.7870654214491101, 0.7870654214491101, 0.7870654214491101, 0.7870654214491101, 0.7870654214491101, 0.7870654214491101, 0.7870654214491101, 0.7870654214491101, 0.7870654214491101, 0.7870654214491101, 0.7870654214491101, 0.7870654214491101, 0.7870654214491101, 0.7870654214491101, 0.7870654214491101, 0.7904224470554679, 0.7913841315610197]}], \"recall_score_macro\": [{\"categories\": [\"0\", \"1\", \"2\", \"3\", \"4\", \"5\", \"6\", \"7\", \"8\", \"9\", \"10\", \"11\", \"12\", \"13\", \"14\", \"15\", \"16\", \"17\", \"18\", \"19\", \"20\", \"21\", \"22\", \"23\", \"24\", \"25\", \"26\", \"27\", \"28\", \"29\", \"30\", \"31\", \"32\", \"33\", \"34\", \"35\", \"36\", \"37\", \"38\", \"39\", \"40\"], \"mode\": \"markers\", \"name\": \"recall_score_macro\", \"stepped\": false, \"type\": \"scatter\", \"data\": [0.7870495049504951, 0.766029702970297, 0.6822508250825083, 0.7034257425742574, 0.6410066006600661, 0.6996501650165017, 0.7244092409240924, 0.7376897689768978, 0.727019801980198, 0.7220858085808581, 0.6955049504950495, 0.6477656765676567, 0.6763201320132013, 0.7223399339933994, 0.6718877887788779, 0.6035148514851485, 0.7019075907590759, 0.7199207920792079, 0.6261914191419142, 0.782016501650165, 0.7518844884488449, 0.7242343234323432, 0.7391320132013202, 0.7694917491749176, 0.781082508250825, 0.7803135313531353, 0.778046204620462, 0.660026402640264, 0.7150726072607261, 0.757009900990099, 0.6994455445544554, 0.7826732673267327, 0.7826765676567657, 0.7710924092409241, 0.7833333333333334, 0.639986798679868, 0.7757326732673268, 0.7773894389438945, 0.783009900990099, 0.7903465346534653, 0.7913564356435643]}, {\"categories\": [\"0\", \"1\", \"2\", \"3\", \"4\", \"5\", \"6\", \"7\", \"8\", \"9\", \"10\", \"11\", \"12\", \"13\", \"14\", \"15\", \"16\", \"17\", \"18\", \"19\", \"20\", \"21\", \"22\", \"23\", \"24\", \"25\", \"26\", \"27\", \"28\", \"29\", \"30\", \"31\", \"32\", \"33\", \"34\", \"35\", \"36\", \"37\", \"38\", \"39\", \"40\"], \"mode\": \"lines\", \"name\": \"recall_score_macro_max\", \"stepped\": true, \"type\": \"scatter\", \"data\": [0.7870495049504951, 0.7870495049504951, 0.7870495049504951, 0.7870495049504951, 0.7870495049504951, 0.7870495049504951, 0.7870495049504951, 0.7870495049504951, 0.7870495049504951, 0.7870495049504951, 0.7870495049504951, 0.7870495049504951, 0.7870495049504951, 0.7870495049504951, 0.7870495049504951, 0.7870495049504951, 0.7870495049504951, 0.7870495049504951, 0.7870495049504951, 0.7870495049504951, 0.7870495049504951, 0.7870495049504951, 0.7870495049504951, 0.7870495049504951, 0.7870495049504951, 0.7870495049504951, 0.7870495049504951, 0.7870495049504951, 0.7870495049504951, 0.7870495049504951, 0.7870495049504951, 0.7870495049504951, 0.7870495049504951, 0.7870495049504951, 0.7870495049504951, 0.7870495049504951, 0.7870495049504951, 0.7870495049504951, 0.7870495049504951, 0.7903465346534653, 0.7913564356435643]}], \"precision_score_weighted\": [{\"categories\": [\"0\", \"1\", \"2\", \"3\", \"4\", \"5\", \"6\", \"7\", \"8\", \"9\", \"10\", \"11\", \"12\", \"13\", \"14\", \"15\", \"16\", \"17\", \"18\", \"19\", \"20\", \"21\", \"22\", \"23\", \"24\", \"25\", \"26\", \"27\", \"28\", \"29\", \"30\", \"31\", \"32\", \"33\", \"34\", \"35\", \"36\", \"37\", \"38\", \"39\", \"40\"], \"mode\": \"markers\", \"name\": \"precision_score_weighted\", \"stepped\": false, \"type\": \"scatter\", \"data\": [0.7870650076534464, 0.7668775335201466, 0.6822578078161369, 0.7035338465193351, 0.6413348317858683, 0.7003742713212927, 0.724451268641872, 0.7377724730899456, 0.7270297055545685, 0.7221238638974175, 0.695519456021856, 0.6477746551039788, 0.6763654675911311, 0.727636540767489, 0.6720899013501895, 0.6085072596909962, 0.70214730426623, 0.7206742493002388, 0.6262011435952861, 0.7822689128049167, 0.7519100284691627, 0.724984975201981, 0.7402754031699089, 0.7694970396451662, 0.7810936165948851, 0.7809538104077943, 0.7782338335844722, 0.6600343599128915, 0.7150892662608801, 0.7660703177159822, 0.6995517754993608, 0.7829728570996458, 0.7829523500547173, 0.7712167118842373, 0.783658463969625, 0.6404600713622484, 0.7758748033822038, 0.7775407196937709, 0.7832744505546201, 0.7904103820986601, 0.7913806404323487]}, {\"categories\": [\"0\", \"1\", \"2\", \"3\", \"4\", \"5\", \"6\", \"7\", \"8\", \"9\", \"10\", \"11\", \"12\", \"13\", \"14\", \"15\", \"16\", \"17\", \"18\", \"19\", \"20\", \"21\", \"22\", \"23\", \"24\", \"25\", \"26\", \"27\", \"28\", \"29\", \"30\", \"31\", \"32\", \"33\", \"34\", \"35\", \"36\", \"37\", \"38\", \"39\", \"40\"], \"mode\": \"lines\", \"name\": \"precision_score_weighted_max\", \"stepped\": true, \"type\": \"scatter\", \"data\": [0.7870650076534464, 0.7870650076534464, 0.7870650076534464, 0.7870650076534464, 0.7870650076534464, 0.7870650076534464, 0.7870650076534464, 0.7870650076534464, 0.7870650076534464, 0.7870650076534464, 0.7870650076534464, 0.7870650076534464, 0.7870650076534464, 0.7870650076534464, 0.7870650076534464, 0.7870650076534464, 0.7870650076534464, 0.7870650076534464, 0.7870650076534464, 0.7870650076534464, 0.7870650076534464, 0.7870650076534464, 0.7870650076534464, 0.7870650076534464, 0.7870650076534464, 0.7870650076534464, 0.7870650076534464, 0.7870650076534464, 0.7870650076534464, 0.7870650076534464, 0.7870650076534464, 0.7870650076534464, 0.7870650076534464, 0.7870650076534464, 0.7870650076534464, 0.7870650076534464, 0.7870650076534464, 0.7870650076534464, 0.7870650076534464, 0.7904103820986601, 0.7913806404323487]}], \"average_precision_score_weighted\": [{\"categories\": [\"0\", \"1\", \"2\", \"3\", \"4\", \"5\", \"6\", \"7\", \"8\", \"9\", \"10\", \"11\", \"12\", \"13\", \"14\", \"15\", \"16\", \"17\", \"18\", \"19\", \"20\", \"21\", \"22\", \"23\", \"24\", \"25\", \"26\", \"27\", \"28\", \"29\", \"30\", \"31\", \"32\", \"33\", \"34\", \"35\", \"36\", \"37\", \"38\", \"39\", \"40\"], \"mode\": \"markers\", \"name\": \"average_precision_score_weighted\", \"stepped\": false, \"type\": \"scatter\", \"data\": [0.8590633279138422, 0.8406106932754612, 0.745704591836955, 0.7676735029321422, 0.6897897790793377, 0.7557128856988325, 0.789340219763615, 0.8027239419620497, 0.8010794030848267, 0.7869038473315403, 0.7513390207570405, 0.6772615559095942, 0.7147078411394904, 0.7904265862796153, 0.7322570828960663, 0.6269688732602888, 0.7643767687946423, 0.7800670598361137, 0.6750718800175493, 0.8503549937840741, 0.8230907361005368, 0.7924755286319607, 0.8079335755973371, 0.8222942575104542, 0.8537536576127684, 0.8508322333283079, 0.8412006320204262, 0.6992740081579484, 0.7761816433285218, 0.8321683939034927, 0.7581142110456818, 0.8504236153062934, 0.8504004151392858, 0.8376133125632129, 0.850271965477873, 0.6815062074847974, 0.8427060171741069, 0.8412494047591518, 0.8503711224114581, 0.8654422276039756, 0.8655083348630546]}, {\"categories\": [\"0\", \"1\", \"2\", \"3\", \"4\", \"5\", \"6\", \"7\", \"8\", \"9\", \"10\", \"11\", \"12\", \"13\", \"14\", \"15\", \"16\", \"17\", \"18\", \"19\", \"20\", \"21\", \"22\", \"23\", \"24\", \"25\", \"26\", \"27\", \"28\", \"29\", \"30\", \"31\", \"32\", \"33\", \"34\", \"35\", \"36\", \"37\", \"38\", \"39\", \"40\"], \"mode\": \"lines\", \"name\": \"average_precision_score_weighted_max\", \"stepped\": true, \"type\": \"scatter\", \"data\": [0.8590633279138422, 0.8590633279138422, 0.8590633279138422, 0.8590633279138422, 0.8590633279138422, 0.8590633279138422, 0.8590633279138422, 0.8590633279138422, 0.8590633279138422, 0.8590633279138422, 0.8590633279138422, 0.8590633279138422, 0.8590633279138422, 0.8590633279138422, 0.8590633279138422, 0.8590633279138422, 0.8590633279138422, 0.8590633279138422, 0.8590633279138422, 0.8590633279138422, 0.8590633279138422, 0.8590633279138422, 0.8590633279138422, 0.8590633279138422, 0.8590633279138422, 0.8590633279138422, 0.8590633279138422, 0.8590633279138422, 0.8590633279138422, 0.8590633279138422, 0.8590633279138422, 0.8590633279138422, 0.8590633279138422, 0.8590633279138422, 0.8590633279138422, 0.8590633279138422, 0.8590633279138422, 0.8590633279138422, 0.8590633279138422, 0.8654422276039756, 0.8655083348630546]}], \"norm_macro_recall\": [{\"categories\": [\"0\", \"1\", \"2\", \"3\", \"4\", \"5\", \"6\", \"7\", \"8\", \"9\", \"10\", \"11\", \"12\", \"13\", \"14\", \"15\", \"16\", \"17\", \"18\", \"19\", \"20\", \"21\", \"22\", \"23\", \"24\", \"25\", \"26\", \"27\", \"28\", \"29\", \"30\", \"31\", \"32\", \"33\", \"34\", \"35\", \"36\", \"37\", \"38\", \"39\", \"40\"], \"mode\": \"markers\", \"name\": \"norm_macro_recall\", \"stepped\": false, \"type\": \"scatter\", \"data\": [0.5740990099009902, 0.5320594059405941, 0.3645016501650167, 0.40685148514851477, 0.2820132013201322, 0.39930033003300336, 0.44881848184818485, 0.4753795379537955, 0.454039603960396, 0.44417161716171627, 0.3910099009900989, 0.2955313531353134, 0.3526402640264026, 0.4446798679867987, 0.3437755775577558, 0.207029702970297, 0.4038151815181519, 0.4398415841584158, 0.25238283828382846, 0.56403300330033, 0.5037689768976898, 0.44846864686468635, 0.4782640264026403, 0.5389834983498352, 0.5621650165016501, 0.5606270627062706, 0.5560924092409241, 0.32005280528052804, 0.43014521452145216, 0.514019801980198, 0.3988910891089108, 0.5653465346534654, 0.5653531353135315, 0.5421848184818483, 0.5666666666666669, 0.2799735973597359, 0.5514653465346535, 0.5547788778877889, 0.5660198019801981, 0.5806930693069305, 0.5827128712871286]}, {\"categories\": [\"0\", \"1\", \"2\", \"3\", \"4\", \"5\", \"6\", \"7\", \"8\", \"9\", \"10\", \"11\", \"12\", \"13\", \"14\", \"15\", \"16\", \"17\", \"18\", \"19\", \"20\", \"21\", \"22\", \"23\", \"24\", \"25\", \"26\", \"27\", \"28\", \"29\", \"30\", \"31\", \"32\", \"33\", \"34\", \"35\", \"36\", \"37\", \"38\", \"39\", \"40\"], \"mode\": \"lines\", \"name\": \"norm_macro_recall_max\", \"stepped\": true, \"type\": \"scatter\", \"data\": [0.5740990099009902, 0.5740990099009902, 0.5740990099009902, 0.5740990099009902, 0.5740990099009902, 0.5740990099009902, 0.5740990099009902, 0.5740990099009902, 0.5740990099009902, 0.5740990099009902, 0.5740990099009902, 0.5740990099009902, 0.5740990099009902, 0.5740990099009902, 0.5740990099009902, 0.5740990099009902, 0.5740990099009902, 0.5740990099009902, 0.5740990099009902, 0.5740990099009902, 0.5740990099009902, 0.5740990099009902, 0.5740990099009902, 0.5740990099009902, 0.5740990099009902, 0.5740990099009902, 0.5740990099009902, 0.5740990099009902, 0.5740990099009902, 0.5740990099009902, 0.5740990099009902, 0.5740990099009902, 0.5740990099009902, 0.5740990099009902, 0.5740990099009902, 0.5740990099009902, 0.5740990099009902, 0.5740990099009902, 0.5740990099009902, 0.5806930693069305, 0.5827128712871286]}], \"average_precision_score_macro\": [{\"categories\": [\"0\", \"1\", \"2\", \"3\", \"4\", \"5\", \"6\", \"7\", \"8\", \"9\", \"10\", \"11\", \"12\", \"13\", \"14\", \"15\", \"16\", \"17\", \"18\", \"19\", \"20\", \"21\", \"22\", \"23\", \"24\", \"25\", \"26\", \"27\", \"28\", \"29\", \"30\", \"31\", \"32\", \"33\", \"34\", \"35\", \"36\", \"37\", \"38\", \"39\", \"40\"], \"mode\": \"markers\", \"name\": \"average_precision_score_macro\", \"stepped\": false, \"type\": \"scatter\", \"data\": [0.8590854676863365, 0.8406513300329367, 0.7457265021527812, 0.7676980639135198, 0.6898139095625868, 0.7557641569754441, 0.7893916251224965, 0.8027624397125699, 0.8011468428872227, 0.7869459483934054, 0.7513553219706914, 0.677268834206853, 0.7147281881757613, 0.7904942533686204, 0.7322828972980397, 0.6269490480753024, 0.7644071213957901, 0.780107841603569, 0.6750679218583291, 0.8503774952505408, 0.8231327143939489, 0.7925140890658653, 0.8079640293320705, 0.8223356278664613, 0.8537920680477142, 0.8508607907211997, 0.8412251369260064, 0.6993031595558107, 0.7761738712813926, 0.8322143967431976, 0.7581533667507723, 0.8504459750886335, 0.8504222760342937, 0.8376451274114152, 0.8502943988244863, 0.6815691689825283, 0.8427427001039872, 0.8412741485738291, 0.8503932794130732, 0.8654662511253289, 0.8655325080487934]}, {\"categories\": [\"0\", \"1\", \"2\", \"3\", \"4\", \"5\", \"6\", \"7\", \"8\", \"9\", \"10\", \"11\", \"12\", \"13\", \"14\", \"15\", \"16\", \"17\", \"18\", \"19\", \"20\", \"21\", \"22\", \"23\", \"24\", \"25\", \"26\", \"27\", \"28\", \"29\", \"30\", \"31\", \"32\", \"33\", \"34\", \"35\", \"36\", \"37\", \"38\", \"39\", \"40\"], \"mode\": \"lines\", \"name\": \"average_precision_score_macro_max\", \"stepped\": true, \"type\": \"scatter\", \"data\": [0.8590854676863365, 0.8590854676863365, 0.8590854676863365, 0.8590854676863365, 0.8590854676863365, 0.8590854676863365, 0.8590854676863365, 0.8590854676863365, 0.8590854676863365, 0.8590854676863365, 0.8590854676863365, 0.8590854676863365, 0.8590854676863365, 0.8590854676863365, 0.8590854676863365, 0.8590854676863365, 0.8590854676863365, 0.8590854676863365, 0.8590854676863365, 0.8590854676863365, 0.8590854676863365, 0.8590854676863365, 0.8590854676863365, 0.8590854676863365, 0.8590854676863365, 0.8590854676863365, 0.8590854676863365, 0.8590854676863365, 0.8590854676863365, 0.8590854676863365, 0.8590854676863365, 0.8590854676863365, 0.8590854676863365, 0.8590854676863365, 0.8590854676863365, 0.8590854676863365, 0.8590854676863365, 0.8590854676863365, 0.8590854676863365, 0.8654662511253289, 0.8655325080487934]}], \"weighted_accuracy\": [{\"categories\": [\"0\", \"1\", \"2\", \"3\", \"4\", \"5\", \"6\", \"7\", \"8\", \"9\", \"10\", \"11\", \"12\", \"13\", \"14\", \"15\", \"16\", \"17\", \"18\", \"19\", \"20\", \"21\", \"22\", \"23\", \"24\", \"25\", \"26\", \"27\", \"28\", \"29\", \"30\", \"31\", \"32\", \"33\", \"34\", \"35\", \"36\", \"37\", \"38\", \"39\", \"40\"], \"mode\": \"markers\", \"name\": \"weighted_accuracy\", \"stepped\": false, \"type\": \"scatter\", \"data\": [0.7870798475323003, 0.7663085985842285, 0.6822599541276835, 0.7035394287411513, 0.6412487830635447, 0.6993548174182797, 0.7243469795224659, 0.7376004488226655, 0.7270432156823919, 0.7220269623615992, 0.6955398247611504, 0.6477567117139416, 0.6762503506427074, 0.7230995165255846, 0.6720591389865188, 0.6024553239938617, 0.7017408379123145, 0.7202118706994703, 0.6262132237678003, 0.7821625992112602, 0.7519297724535089, 0.7245218883553619, 0.739474943484646, 0.7694800587429665, 0.7811065458805669, 0.7805488177152946, 0.7781726977212349, 0.6600399320165669, 0.7151098130455588, 0.7560912826097718, 0.6995594277511014, 0.7828325330429186, 0.7828292328762603, 0.7711961454053429, 0.7834991667079187, 0.6402785340659702, 0.775842780060393, 0.7775027638895765, 0.7831592495421019, 0.7904163160239592, 0.7913964655215089]}, {\"categories\": [\"0\", \"1\", \"2\", \"3\", \"4\", \"5\", \"6\", \"7\", \"8\", \"9\", \"10\", \"11\", \"12\", \"13\", \"14\", \"15\", \"16\", \"17\", \"18\", \"19\", \"20\", \"21\", \"22\", \"23\", \"24\", \"25\", \"26\", \"27\", \"28\", \"29\", \"30\", \"31\", \"32\", \"33\", \"34\", \"35\", \"36\", \"37\", \"38\", \"39\", \"40\"], \"mode\": \"lines\", \"name\": \"weighted_accuracy_max\", \"stepped\": true, \"type\": \"scatter\", \"data\": [0.7870798475323003, 0.7870798475323003, 0.7870798475323003, 0.7870798475323003, 0.7870798475323003, 0.7870798475323003, 0.7870798475323003, 0.7870798475323003, 0.7870798475323003, 0.7870798475323003, 0.7870798475323003, 0.7870798475323003, 0.7870798475323003, 0.7870798475323003, 0.7870798475323003, 0.7870798475323003, 0.7870798475323003, 0.7870798475323003, 0.7870798475323003, 0.7870798475323003, 0.7870798475323003, 0.7870798475323003, 0.7870798475323003, 0.7870798475323003, 0.7870798475323003, 0.7870798475323003, 0.7870798475323003, 0.7870798475323003, 0.7870798475323003, 0.7870798475323003, 0.7870798475323003, 0.7870798475323003, 0.7870798475323003, 0.7870798475323003, 0.7870798475323003, 0.7870798475323003, 0.7870798475323003, 0.7870798475323003, 0.7870798475323003, 0.7904163160239592, 0.7913964655215089]}], \"f1_score_macro\": [{\"categories\": [\"0\", \"1\", \"2\", \"3\", \"4\", \"5\", \"6\", \"7\", \"8\", \"9\", \"10\", \"11\", \"12\", \"13\", \"14\", \"15\", \"16\", \"17\", \"18\", \"19\", \"20\", \"21\", \"22\", \"23\", \"24\", \"25\", \"26\", \"27\", \"28\", \"29\", \"30\", \"31\", \"32\", \"33\", \"34\", \"35\", \"36\", \"37\", \"38\", \"39\", \"40\"], \"mode\": \"markers\", \"name\": \"f1_score_macro\", \"stepped\": false, \"type\": \"scatter\", \"data\": [0.7870543458458419, 0.7659318474411819, 0.6822494822914182, 0.7034165181224005, 0.6408555182809488, 0.6992960357481915, 0.7243761689149402, 0.737637719116534, 0.7270217794451228, 0.7220548865060479, 0.6955076160225588, 0.6477592953095737, 0.6762809314392884, 0.7209366901147722, 0.6718346941428055, 0.5986875618614325, 0.7017717201446864, 0.7197641872229754, 0.6261917944934685, 0.7820143502501187, 0.7518900721703925, 0.7240866015661263, 0.7389236531893797, 0.7694842808614721, 0.7810858336274338, 0.7802646516654235, 0.7780484114561126, 0.6600258371012898, 0.715076040120395, 0.7546262663356298, 0.699435531788473, 0.7826668317444596, 0.782672476226939, 0.7710977186683298, 0.7833246261630455, 0.6397520610099243, 0.775737769855417, 0.7773942852137887, 0.7830070201572008, 0.790356311094916, 0.7913632308574291]}, {\"categories\": [\"0\", \"1\", \"2\", \"3\", \"4\", \"5\", \"6\", \"7\", \"8\", \"9\", \"10\", \"11\", \"12\", \"13\", \"14\", \"15\", \"16\", \"17\", \"18\", \"19\", \"20\", \"21\", \"22\", \"23\", \"24\", \"25\", \"26\", \"27\", \"28\", \"29\", \"30\", \"31\", \"32\", \"33\", \"34\", \"35\", \"36\", \"37\", \"38\", \"39\", \"40\"], \"mode\": \"lines\", \"name\": \"f1_score_macro_max\", \"stepped\": true, \"type\": \"scatter\", \"data\": [0.7870543458458419, 0.7870543458458419, 0.7870543458458419, 0.7870543458458419, 0.7870543458458419, 0.7870543458458419, 0.7870543458458419, 0.7870543458458419, 0.7870543458458419, 0.7870543458458419, 0.7870543458458419, 0.7870543458458419, 0.7870543458458419, 0.7870543458458419, 0.7870543458458419, 0.7870543458458419, 0.7870543458458419, 0.7870543458458419, 0.7870543458458419, 0.7870543458458419, 0.7870543458458419, 0.7870543458458419, 0.7870543458458419, 0.7870543458458419, 0.7870543458458419, 0.7870543458458419, 0.7870543458458419, 0.7870543458458419, 0.7870543458458419, 0.7870543458458419, 0.7870543458458419, 0.7870543458458419, 0.7870543458458419, 0.7870543458458419, 0.7870543458458419, 0.7870543458458419, 0.7870543458458419, 0.7870543458458419, 0.7870543458458419, 0.790356311094916, 0.7913632308574291]}], \"AUC_macro\": [{\"categories\": [\"0\", \"1\", \"2\", \"3\", \"4\", \"5\", \"6\", \"7\", \"8\", \"9\", \"10\", \"11\", \"12\", \"13\", \"14\", \"15\", \"16\", \"17\", \"18\", \"19\", \"20\", \"21\", \"22\", \"23\", \"24\", \"25\", \"26\", \"27\", \"28\", \"29\", \"30\", \"31\", \"32\", \"33\", \"34\", \"35\", \"36\", \"37\", \"38\", \"39\", \"40\"], \"mode\": \"markers\", \"name\": \"AUC_macro\", \"stepped\": false, \"type\": \"scatter\", \"data\": [0.8617227722772278, 0.8434701870187018, 0.7549223322332232, 0.7734024202420242, 0.7002433443344335, 0.7660314631463147, 0.7941920792079208, 0.8063280528052805, 0.80497799779978, 0.7916165016501651, 0.7635383938393838, 0.6956, 0.7305689768976897, 0.7940481848184817, 0.7389953795379538, 0.6537036303630364, 0.7732070407040705, 0.7869760176017602, 0.6833984598459846, 0.8561403740374038, 0.8286024202420242, 0.7981243124312432, 0.8135705170517051, 0.8388752475247525, 0.8563449944994499, 0.8532316831683169, 0.8489271727172717, 0.7147524752475247, 0.7848360836083608, 0.8462059405940594, 0.7679287128712871, 0.8562015401540153, 0.856253905390539, 0.8448660066006601, 0.8561095709570956, 0.6944552255225522, 0.8481698569856986, 0.8489174917491751, 0.8561918591859186, 0.8680228822882288, 0.8678583058305831]}, {\"categories\": [\"0\", \"1\", \"2\", \"3\", \"4\", \"5\", \"6\", \"7\", \"8\", \"9\", \"10\", \"11\", \"12\", \"13\", \"14\", \"15\", \"16\", \"17\", \"18\", \"19\", \"20\", \"21\", \"22\", \"23\", \"24\", \"25\", \"26\", \"27\", \"28\", \"29\", \"30\", \"31\", \"32\", \"33\", \"34\", \"35\", \"36\", \"37\", \"38\", \"39\", \"40\"], \"mode\": \"lines\", \"name\": \"AUC_macro_max\", \"stepped\": true, \"type\": \"scatter\", \"data\": [0.8617227722772278, 0.8617227722772278, 0.8617227722772278, 0.8617227722772278, 0.8617227722772278, 0.8617227722772278, 0.8617227722772278, 0.8617227722772278, 0.8617227722772278, 0.8617227722772278, 0.8617227722772278, 0.8617227722772278, 0.8617227722772278, 0.8617227722772278, 0.8617227722772278, 0.8617227722772278, 0.8617227722772278, 0.8617227722772278, 0.8617227722772278, 0.8617227722772278, 0.8617227722772278, 0.8617227722772278, 0.8617227722772278, 0.8617227722772278, 0.8617227722772278, 0.8617227722772278, 0.8617227722772278, 0.8617227722772278, 0.8617227722772278, 0.8617227722772278, 0.8617227722772278, 0.8617227722772278, 0.8617227722772278, 0.8617227722772278, 0.8617227722772278, 0.8617227722772278, 0.8617227722772278, 0.8617227722772278, 0.8617227722772278, 0.8680228822882288, 0.8680228822882288]}], \"f1_score_weighted\": [{\"categories\": [\"0\", \"1\", \"2\", \"3\", \"4\", \"5\", \"6\", \"7\", \"8\", \"9\", \"10\", \"11\", \"12\", \"13\", \"14\", \"15\", \"16\", \"17\", \"18\", \"19\", \"20\", \"21\", \"22\", \"23\", \"24\", \"25\", \"26\", \"27\", \"28\", \"29\", \"30\", \"31\", \"32\", \"33\", \"34\", \"35\", \"36\", \"37\", \"38\", \"39\", \"40\"], \"mode\": \"markers\", \"name\": \"f1_score_weighted\", \"stepped\": false, \"type\": \"scatter\", \"data\": [0.7870617249680373, 0.7659689266267559, 0.6822562985529468, 0.7034385411031592, 0.6409047068191578, 0.6992568360366731, 0.724372530406572, 0.7376307922310704, 0.7270298875084049, 0.7220516759983964, 0.6955181674776607, 0.6477633639958815, 0.6762750554960292, 0.7210476679910334, 0.6718682679800261, 0.5984809506707865, 0.7017520355969536, 0.719809967187935, 0.6262016637727572, 0.7820344936399456, 0.7519003074751222, 0.7241312201201991, 0.7389731961542952, 0.7694873238979534, 0.7810926971030261, 0.780294746686028, 0.7780667238401742, 0.6600336910954658, 0.7150863836384884, 0.7545181588021721, 0.6994578503797115, 0.7826883493473165, 0.7826932760361498, 0.7711139605073886, 0.7833467937218979, 0.6398103174854589, 0.7757544225791226, 0.7774111822590436, 0.783027429882787, 0.7903677270528277, 0.7913714934952506]}, {\"categories\": [\"0\", \"1\", \"2\", \"3\", \"4\", \"5\", \"6\", \"7\", \"8\", \"9\", \"10\", \"11\", \"12\", \"13\", \"14\", \"15\", \"16\", \"17\", \"18\", \"19\", \"20\", \"21\", \"22\", \"23\", \"24\", \"25\", \"26\", \"27\", \"28\", \"29\", \"30\", \"31\", \"32\", \"33\", \"34\", \"35\", \"36\", \"37\", \"38\", \"39\", \"40\"], \"mode\": \"lines\", \"name\": \"f1_score_weighted_max\", \"stepped\": true, \"type\": \"scatter\", \"data\": [0.7870617249680373, 0.7870617249680373, 0.7870617249680373, 0.7870617249680373, 0.7870617249680373, 0.7870617249680373, 0.7870617249680373, 0.7870617249680373, 0.7870617249680373, 0.7870617249680373, 0.7870617249680373, 0.7870617249680373, 0.7870617249680373, 0.7870617249680373, 0.7870617249680373, 0.7870617249680373, 0.7870617249680373, 0.7870617249680373, 0.7870617249680373, 0.7870617249680373, 0.7870617249680373, 0.7870617249680373, 0.7870617249680373, 0.7870617249680373, 0.7870617249680373, 0.7870617249680373, 0.7870617249680373, 0.7870617249680373, 0.7870617249680373, 0.7870617249680373, 0.7870617249680373, 0.7870617249680373, 0.7870617249680373, 0.7870617249680373, 0.7870617249680373, 0.7870617249680373, 0.7870617249680373, 0.7870617249680373, 0.7870617249680373, 0.7903677270528277, 0.7913714934952506]}], \"balanced_accuracy\": [{\"categories\": [\"0\", \"1\", \"2\", \"3\", \"4\", \"5\", \"6\", \"7\", \"8\", \"9\", \"10\", \"11\", \"12\", \"13\", \"14\", \"15\", \"16\", \"17\", \"18\", \"19\", \"20\", \"21\", \"22\", \"23\", \"24\", \"25\", \"26\", \"27\", \"28\", \"29\", \"30\", \"31\", \"32\", \"33\", \"34\", \"35\", \"36\", \"37\", \"38\", \"39\", \"40\"], \"mode\": \"markers\", \"name\": \"balanced_accuracy\", \"stepped\": false, \"type\": \"scatter\", \"data\": [0.7870495049504951, 0.766029702970297, 0.6822508250825083, 0.7034257425742574, 0.6410066006600661, 0.6996501650165017, 0.7244092409240924, 0.7376897689768978, 0.727019801980198, 0.7220858085808581, 0.6955049504950495, 0.6477656765676567, 0.6763201320132013, 0.7223399339933994, 0.6718877887788779, 0.6035148514851485, 0.7019075907590759, 0.7199207920792079, 0.6261914191419142, 0.782016501650165, 0.7518844884488449, 0.7242343234323432, 0.7391320132013202, 0.7694917491749176, 0.781082508250825, 0.7803135313531353, 0.778046204620462, 0.660026402640264, 0.7150726072607261, 0.757009900990099, 0.6994455445544554, 0.7826732673267327, 0.7826765676567657, 0.7710924092409241, 0.7833333333333334, 0.639986798679868, 0.7757326732673268, 0.7773894389438945, 0.783009900990099, 0.7903465346534653, 0.7913564356435643]}, {\"categories\": [\"0\", \"1\", \"2\", \"3\", \"4\", \"5\", \"6\", \"7\", \"8\", \"9\", \"10\", \"11\", \"12\", \"13\", \"14\", \"15\", \"16\", \"17\", \"18\", \"19\", \"20\", \"21\", \"22\", \"23\", \"24\", \"25\", \"26\", \"27\", \"28\", \"29\", \"30\", \"31\", \"32\", \"33\", \"34\", \"35\", \"36\", \"37\", \"38\", \"39\", \"40\"], \"mode\": \"lines\", \"name\": \"balanced_accuracy_max\", \"stepped\": true, \"type\": \"scatter\", \"data\": [0.7870495049504951, 0.7870495049504951, 0.7870495049504951, 0.7870495049504951, 0.7870495049504951, 0.7870495049504951, 0.7870495049504951, 0.7870495049504951, 0.7870495049504951, 0.7870495049504951, 0.7870495049504951, 0.7870495049504951, 0.7870495049504951, 0.7870495049504951, 0.7870495049504951, 0.7870495049504951, 0.7870495049504951, 0.7870495049504951, 0.7870495049504951, 0.7870495049504951, 0.7870495049504951, 0.7870495049504951, 0.7870495049504951, 0.7870495049504951, 0.7870495049504951, 0.7870495049504951, 0.7870495049504951, 0.7870495049504951, 0.7870495049504951, 0.7870495049504951, 0.7870495049504951, 0.7870495049504951, 0.7870495049504951, 0.7870495049504951, 0.7870495049504951, 0.7870495049504951, 0.7870495049504951, 0.7870495049504951, 0.7870495049504951, 0.7903465346534653, 0.7913564356435643]}], \"recall_score_micro\": [{\"categories\": [\"0\", \"1\", \"2\", \"3\", \"4\", \"5\", \"6\", \"7\", \"8\", \"9\", \"10\", \"11\", \"12\", \"13\", \"14\", \"15\", \"16\", \"17\", \"18\", \"19\", \"20\", \"21\", \"22\", \"23\", \"24\", \"25\", \"26\", \"27\", \"28\", \"29\", \"30\", \"31\", \"32\", \"33\", \"34\", \"35\", \"36\", \"37\", \"38\", \"39\", \"40\"], \"mode\": \"markers\", \"name\": \"recall_score_micro\", \"stepped\": false, \"type\": \"scatter\", \"data\": [0.7870646766169154, 0.7661691542288557, 0.6822553897180763, 0.7034825870646766, 0.6411276948590381, 0.699502487562189, 0.7243781094527363, 0.7376451077943615, 0.7270315091210614, 0.7220563847429519, 0.6955223880597015, 0.6477611940298508, 0.6762852404643449, 0.7227197346600331, 0.6719734660033168, 0.6029850746268657, 0.7018242122719734, 0.7200663349917081, 0.6262023217247098, 0.7820895522388059, 0.7519071310116087, 0.7243781094527363, 0.7393034825870647, 0.7694859038142621, 0.7810945273631841, 0.7804311774461028, 0.7781094527363184, 0.6600331674958541, 0.7150912106135987, 0.7565505804311774, 0.699502487562189, 0.7827529021558872, 0.7827529021558872, 0.7711442786069652, 0.7834162520729685, 0.6401326699834162, 0.775787728026534, 0.7774461028192371, 0.7830845771144279, 0.7903814262023218, 0.7913764510779436]}, {\"categories\": [\"0\", \"1\", \"2\", \"3\", \"4\", \"5\", \"6\", \"7\", \"8\", \"9\", \"10\", \"11\", \"12\", \"13\", \"14\", \"15\", \"16\", \"17\", \"18\", \"19\", \"20\", \"21\", \"22\", \"23\", \"24\", \"25\", \"26\", \"27\", \"28\", \"29\", \"30\", \"31\", \"32\", \"33\", \"34\", \"35\", \"36\", \"37\", \"38\", \"39\", \"40\"], \"mode\": \"lines\", \"name\": \"recall_score_micro_max\", \"stepped\": true, \"type\": \"scatter\", \"data\": [0.7870646766169154, 0.7870646766169154, 0.7870646766169154, 0.7870646766169154, 0.7870646766169154, 0.7870646766169154, 0.7870646766169154, 0.7870646766169154, 0.7870646766169154, 0.7870646766169154, 0.7870646766169154, 0.7870646766169154, 0.7870646766169154, 0.7870646766169154, 0.7870646766169154, 0.7870646766169154, 0.7870646766169154, 0.7870646766169154, 0.7870646766169154, 0.7870646766169154, 0.7870646766169154, 0.7870646766169154, 0.7870646766169154, 0.7870646766169154, 0.7870646766169154, 0.7870646766169154, 0.7870646766169154, 0.7870646766169154, 0.7870646766169154, 0.7870646766169154, 0.7870646766169154, 0.7870646766169154, 0.7870646766169154, 0.7870646766169154, 0.7870646766169154, 0.7870646766169154, 0.7870646766169154, 0.7870646766169154, 0.7870646766169154, 0.7903814262023218, 0.7913764510779436]}], \"average_precision_score_micro\": [{\"categories\": [\"0\", \"1\", \"2\", \"3\", \"4\", \"5\", \"6\", \"7\", \"8\", \"9\", \"10\", \"11\", \"12\", \"13\", \"14\", \"15\", \"16\", \"17\", \"18\", \"19\", \"20\", \"21\", \"22\", \"23\", \"24\", \"25\", \"26\", \"27\", \"28\", \"29\", \"30\", \"31\", \"32\", \"33\", \"34\", \"35\", \"36\", \"37\", \"38\", \"39\", \"40\"], \"mode\": \"markers\", \"name\": \"average_precision_score_micro\", \"stepped\": false, \"type\": \"scatter\", \"data\": [0.859440852248511, 0.8417254855111742, 0.7454618109030315, 0.7675916047967287, 0.6903231007158995, 0.7503878963385675, 0.7872765753889712, 0.8016719809389069, 0.8022502864039791, 0.7867720762994065, 0.7507276738202182, 0.6759501865204633, 0.714275630616527, 0.793015487315936, 0.7327400051199805, 0.6321313470560792, 0.7637385689457188, 0.7810419353748244, 0.6750733478519835, 0.8507902787002897, 0.823158339857775, 0.7932831145240021, 0.8087348604875175, 0.8245924663679829, 0.8540775759940884, 0.8514705722115041, 0.8417394706731276, 0.6986138298424065, 0.7760041513945908, 0.8196320539745561, 0.7588532918460441, 0.8508658508257028, 0.8508441515037848, 0.838191916492991, 0.8507192331738233, 0.6814765445388901, 0.8434137514514967, 0.8417499816251, 0.8508136253646257, 0.8659146503718596, 0.8659310745339733]}, {\"categories\": [\"0\", \"1\", \"2\", \"3\", \"4\", \"5\", \"6\", \"7\", \"8\", \"9\", \"10\", \"11\", \"12\", \"13\", \"14\", \"15\", \"16\", \"17\", \"18\", \"19\", \"20\", \"21\", \"22\", \"23\", \"24\", \"25\", \"26\", \"27\", \"28\", \"29\", \"30\", \"31\", \"32\", \"33\", \"34\", \"35\", \"36\", \"37\", \"38\", \"39\", \"40\"], \"mode\": \"lines\", \"name\": \"average_precision_score_micro_max\", \"stepped\": true, \"type\": \"scatter\", \"data\": [0.859440852248511, 0.859440852248511, 0.859440852248511, 0.859440852248511, 0.859440852248511, 0.859440852248511, 0.859440852248511, 0.859440852248511, 0.859440852248511, 0.859440852248511, 0.859440852248511, 0.859440852248511, 0.859440852248511, 0.859440852248511, 0.859440852248511, 0.859440852248511, 0.859440852248511, 0.859440852248511, 0.859440852248511, 0.859440852248511, 0.859440852248511, 0.859440852248511, 0.859440852248511, 0.859440852248511, 0.859440852248511, 0.859440852248511, 0.859440852248511, 0.859440852248511, 0.859440852248511, 0.859440852248511, 0.859440852248511, 0.859440852248511, 0.859440852248511, 0.859440852248511, 0.859440852248511, 0.859440852248511, 0.859440852248511, 0.859440852248511, 0.859440852248511, 0.8659146503718596, 0.8659310745339733]}], \"AUC_micro\": [{\"categories\": [\"0\", \"1\", \"2\", \"3\", \"4\", \"5\", \"6\", \"7\", \"8\", \"9\", \"10\", \"11\", \"12\", \"13\", \"14\", \"15\", \"16\", \"17\", \"18\", \"19\", \"20\", \"21\", \"22\", \"23\", \"24\", \"25\", \"26\", \"27\", \"28\", \"29\", \"30\", \"31\", \"32\", \"33\", \"34\", \"35\", \"36\", \"37\", \"38\", \"39\", \"40\"], \"mode\": \"markers\", \"name\": \"AUC_micro\", \"stepped\": false, \"type\": \"scatter\", \"data\": [0.8619840543000861, 0.8444174924163044, 0.7550353264083122, 0.7735668809077884, 0.7005458060719069, 0.7633465618287776, 0.793563965688418, 0.8061550731692559, 0.8055652087819608, 0.7914675379322293, 0.7633567925986431, 0.6952436270829381, 0.7304108534167195, 0.7953281684446755, 0.7399379003269996, 0.6547709215118438, 0.7726041984659346, 0.7877150455571782, 0.6835254352890054, 0.8563380994419829, 0.8287806957473549, 0.7986379875085601, 0.8142893052702216, 0.8382835408364478, 0.8566358918508619, 0.8535902026627504, 0.8491943818772362, 0.7148170699845164, 0.7847741942581179, 0.8308616123363284, 0.7683839508923047, 0.8564091647896503, 0.8564516279850058, 0.8451442071015843, 0.8563196180512583, 0.6950759744670787, 0.8485683247664386, 0.8491468583010872, 0.8563877131754164, 0.8682862085371924, 0.8680112978501631]}, {\"categories\": [\"0\", \"1\", \"2\", \"3\", \"4\", \"5\", \"6\", \"7\", \"8\", \"9\", \"10\", \"11\", \"12\", \"13\", \"14\", \"15\", \"16\", \"17\", \"18\", \"19\", \"20\", \"21\", \"22\", \"23\", \"24\", \"25\", \"26\", \"27\", \"28\", \"29\", \"30\", \"31\", \"32\", \"33\", \"34\", \"35\", \"36\", \"37\", \"38\", \"39\", \"40\"], \"mode\": \"lines\", \"name\": \"AUC_micro_max\", \"stepped\": true, \"type\": \"scatter\", \"data\": [0.8619840543000861, 0.8619840543000861, 0.8619840543000861, 0.8619840543000861, 0.8619840543000861, 0.8619840543000861, 0.8619840543000861, 0.8619840543000861, 0.8619840543000861, 0.8619840543000861, 0.8619840543000861, 0.8619840543000861, 0.8619840543000861, 0.8619840543000861, 0.8619840543000861, 0.8619840543000861, 0.8619840543000861, 0.8619840543000861, 0.8619840543000861, 0.8619840543000861, 0.8619840543000861, 0.8619840543000861, 0.8619840543000861, 0.8619840543000861, 0.8619840543000861, 0.8619840543000861, 0.8619840543000861, 0.8619840543000861, 0.8619840543000861, 0.8619840543000861, 0.8619840543000861, 0.8619840543000861, 0.8619840543000861, 0.8619840543000861, 0.8619840543000861, 0.8619840543000861, 0.8619840543000861, 0.8619840543000861, 0.8619840543000861, 0.8682862085371924, 0.8682862085371924]}], \"log_loss\": [{\"categories\": [\"0\", \"1\", \"2\", \"3\", \"4\", \"5\", \"6\", \"7\", \"8\", \"9\", \"10\", \"11\", \"12\", \"13\", \"14\", \"15\", \"16\", \"17\", \"18\", \"19\", \"20\", \"21\", \"22\", \"23\", \"24\", \"25\", \"26\", \"27\", \"28\", \"29\", \"30\", \"31\", \"32\", \"33\", \"34\", \"35\", \"36\", \"37\", \"38\", \"39\", \"40\"], \"mode\": \"markers\", \"name\": \"log_loss\", \"stepped\": false, \"type\": \"scatter\", \"data\": [0.46755895035850703, 0.5188194907717704, 0.633360227951222, 0.6581715749581656, 0.6647780986987817, 0.6031836836126958, 0.5806158419963025, 0.6124971779870835, 0.6075698381571071, 0.6070698518085282, 0.6467409958915468, 0.6528335496529851, 0.6540402764866511, 0.6195063159398999, 0.6580102145412302, 0.6542576555257044, 0.5925825371319852, 0.6590304264931032, 0.6801037162763321, 0.4756452221031151, 0.5165216609360126, 0.639880710863716, 0.5995111394243818, 0.5986082831383607, 0.48548245925757755, 0.4950732493932527, 0.49263144259583985, 0.6322305229063457, 0.5605579007844997, 0.5746510942034383, 0.5947849278113844, 0.47556684531768845, 0.475569888548394, 0.5032458650547749, 0.47570496233702336, 0.6765480178355279, 0.49129579226680786, 0.4926727724047214, 0.47560499280045293, 0.49455015453994705, 0.4569220225007158]}, {\"categories\": [\"0\", \"1\", \"2\", \"3\", \"4\", \"5\", \"6\", \"7\", \"8\", \"9\", \"10\", \"11\", \"12\", \"13\", \"14\", \"15\", \"16\", \"17\", \"18\", \"19\", \"20\", \"21\", \"22\", \"23\", \"24\", \"25\", \"26\", \"27\", \"28\", \"29\", \"30\", \"31\", \"32\", \"33\", \"34\", \"35\", \"36\", \"37\", \"38\", \"39\", \"40\"], \"mode\": \"lines\", \"name\": \"log_loss_min\", \"stepped\": true, \"type\": \"scatter\", \"data\": [0.46755895035850703, 0.46755895035850703, 0.46755895035850703, 0.46755895035850703, 0.46755895035850703, 0.46755895035850703, 0.46755895035850703, 0.46755895035850703, 0.46755895035850703, 0.46755895035850703, 0.46755895035850703, 0.46755895035850703, 0.46755895035850703, 0.46755895035850703, 0.46755895035850703, 0.46755895035850703, 0.46755895035850703, 0.46755895035850703, 0.46755895035850703, 0.46755895035850703, 0.46755895035850703, 0.46755895035850703, 0.46755895035850703, 0.46755895035850703, 0.46755895035850703, 0.46755895035850703, 0.46755895035850703, 0.46755895035850703, 0.46755895035850703, 0.46755895035850703, 0.46755895035850703, 0.46755895035850703, 0.46755895035850703, 0.46755895035850703, 0.46755895035850703, 0.46755895035850703, 0.46755895035850703, 0.46755895035850703, 0.46755895035850703, 0.46755895035850703, 0.4569220225007158]}], \"f1_score_micro\": [{\"categories\": [\"0\", \"1\", \"2\", \"3\", \"4\", \"5\", \"6\", \"7\", \"8\", \"9\", \"10\", \"11\", \"12\", \"13\", \"14\", \"15\", \"16\", \"17\", \"18\", \"19\", \"20\", \"21\", \"22\", \"23\", \"24\", \"25\", \"26\", \"27\", \"28\", \"29\", \"30\", \"31\", \"32\", \"33\", \"34\", \"35\", \"36\", \"37\", \"38\", \"39\", \"40\"], \"mode\": \"markers\", \"name\": \"f1_score_micro\", \"stepped\": false, \"type\": \"scatter\", \"data\": [0.7870646766169154, 0.7661691542288558, 0.6822553897180763, 0.7034825870646766, 0.6411276948590381, 0.699502487562189, 0.7243781094527363, 0.7376451077943615, 0.7270315091210614, 0.7220563847429519, 0.6955223880597015, 0.6477611940298508, 0.6762852404643449, 0.7227197346600331, 0.6719734660033168, 0.6029850746268657, 0.7018242122719734, 0.7200663349917081, 0.6262023217247098, 0.7820895522388059, 0.7519071310116086, 0.7243781094527363, 0.7393034825870647, 0.7694859038142622, 0.781094527363184, 0.7804311774461028, 0.7781094527363183, 0.6600331674958541, 0.7150912106135987, 0.7565505804311773, 0.699502487562189, 0.7827529021558872, 0.7827529021558872, 0.7711442786069652, 0.7834162520729685, 0.6401326699834162, 0.775787728026534, 0.7774461028192371, 0.7830845771144279, 0.7903814262023218, 0.7913764510779436]}, {\"categories\": [\"0\", \"1\", \"2\", \"3\", \"4\", \"5\", \"6\", \"7\", \"8\", \"9\", \"10\", \"11\", \"12\", \"13\", \"14\", \"15\", \"16\", \"17\", \"18\", \"19\", \"20\", \"21\", \"22\", \"23\", \"24\", \"25\", \"26\", \"27\", \"28\", \"29\", \"30\", \"31\", \"32\", \"33\", \"34\", \"35\", \"36\", \"37\", \"38\", \"39\", \"40\"], \"mode\": \"lines\", \"name\": \"f1_score_micro_max\", \"stepped\": true, \"type\": \"scatter\", \"data\": [0.7870646766169154, 0.7870646766169154, 0.7870646766169154, 0.7870646766169154, 0.7870646766169154, 0.7870646766169154, 0.7870646766169154, 0.7870646766169154, 0.7870646766169154, 0.7870646766169154, 0.7870646766169154, 0.7870646766169154, 0.7870646766169154, 0.7870646766169154, 0.7870646766169154, 0.7870646766169154, 0.7870646766169154, 0.7870646766169154, 0.7870646766169154, 0.7870646766169154, 0.7870646766169154, 0.7870646766169154, 0.7870646766169154, 0.7870646766169154, 0.7870646766169154, 0.7870646766169154, 0.7870646766169154, 0.7870646766169154, 0.7870646766169154, 0.7870646766169154, 0.7870646766169154, 0.7870646766169154, 0.7870646766169154, 0.7870646766169154, 0.7870646766169154, 0.7870646766169154, 0.7870646766169154, 0.7870646766169154, 0.7870646766169154, 0.7903814262023218, 0.7913764510779436]}], \"accuracy\": [{\"categories\": [\"0\", \"1\", \"2\", \"3\", \"4\", \"5\", \"6\", \"7\", \"8\", \"9\", \"10\", \"11\", \"12\", \"13\", \"14\", \"15\", \"16\", \"17\", \"18\", \"19\", \"20\", \"21\", \"22\", \"23\", \"24\", \"25\", \"26\", \"27\", \"28\", \"29\", \"30\", \"31\", \"32\", \"33\", \"34\", \"35\", \"36\", \"37\", \"38\", \"39\", \"40\"], \"mode\": \"markers\", \"name\": \"accuracy\", \"stepped\": false, \"type\": \"scatter\", \"data\": [0.7870646766169154, 0.7661691542288557, 0.6822553897180763, 0.7034825870646766, 0.6411276948590381, 0.699502487562189, 0.7243781094527363, 0.7376451077943615, 0.7270315091210614, 0.7220563847429519, 0.6955223880597015, 0.6477611940298508, 0.6762852404643449, 0.7227197346600331, 0.6719734660033168, 0.6029850746268657, 0.7018242122719734, 0.7200663349917081, 0.6262023217247098, 0.7820895522388059, 0.7519071310116087, 0.7243781094527363, 0.7393034825870647, 0.7694859038142621, 0.7810945273631841, 0.7804311774461028, 0.7781094527363184, 0.6600331674958541, 0.7150912106135987, 0.7565505804311774, 0.699502487562189, 0.7827529021558872, 0.7827529021558872, 0.7711442786069652, 0.7834162520729685, 0.6401326699834162, 0.775787728026534, 0.7774461028192371, 0.7830845771144279, 0.7903814262023218, 0.7913764510779436]}, {\"categories\": [\"0\", \"1\", \"2\", \"3\", \"4\", \"5\", \"6\", \"7\", \"8\", \"9\", \"10\", \"11\", \"12\", \"13\", \"14\", \"15\", \"16\", \"17\", \"18\", \"19\", \"20\", \"21\", \"22\", \"23\", \"24\", \"25\", \"26\", \"27\", \"28\", \"29\", \"30\", \"31\", \"32\", \"33\", \"34\", \"35\", \"36\", \"37\", \"38\", \"39\", \"40\"], \"mode\": \"lines\", \"name\": \"accuracy_max\", \"stepped\": true, \"type\": \"scatter\", \"data\": [0.7870646766169154, 0.7870646766169154, 0.7870646766169154, 0.7870646766169154, 0.7870646766169154, 0.7870646766169154, 0.7870646766169154, 0.7870646766169154, 0.7870646766169154, 0.7870646766169154, 0.7870646766169154, 0.7870646766169154, 0.7870646766169154, 0.7870646766169154, 0.7870646766169154, 0.7870646766169154, 0.7870646766169154, 0.7870646766169154, 0.7870646766169154, 0.7870646766169154, 0.7870646766169154, 0.7870646766169154, 0.7870646766169154, 0.7870646766169154, 0.7870646766169154, 0.7870646766169154, 0.7870646766169154, 0.7870646766169154, 0.7870646766169154, 0.7870646766169154, 0.7870646766169154, 0.7870646766169154, 0.7870646766169154, 0.7870646766169154, 0.7870646766169154, 0.7870646766169154, 0.7870646766169154, 0.7870646766169154, 0.7870646766169154, 0.7903814262023218, 0.7913764510779436]}], \"AUC_weighted\": [{\"categories\": [\"0\", \"1\", \"2\", \"3\", \"4\", \"5\", \"6\", \"7\", \"8\", \"9\", \"10\", \"11\", \"12\", \"13\", \"14\", \"15\", \"16\", \"17\", \"18\", \"19\", \"20\", \"21\", \"22\", \"23\", \"24\", \"25\", \"26\", \"27\", \"28\", \"29\", \"30\", \"31\", \"32\", \"33\", \"34\", \"35\", \"36\", \"37\", \"38\", \"39\", \"40\"], \"mode\": \"markers\", \"name\": \"AUC_weighted\", \"stepped\": false, \"type\": \"scatter\", \"data\": [0.8617227722772278, 0.8434701870187019, 0.7549223322332234, 0.7734024202420241, 0.7002433443344335, 0.7660314631463147, 0.7941920792079208, 0.8063280528052804, 0.8049779977997801, 0.791616501650165, 0.7635383938393839, 0.6956000000000001, 0.7305689768976898, 0.7940481848184817, 0.7389953795379539, 0.6537036303630362, 0.7732070407040704, 0.7869760176017602, 0.6833984598459846, 0.8561403740374037, 0.8286024202420242, 0.7981243124312432, 0.8135705170517051, 0.8388752475247525, 0.85634499449945, 0.8532316831683169, 0.8489271727172716, 0.7147524752475247, 0.7848360836083607, 0.8462059405940594, 0.7679287128712872, 0.8562015401540154, 0.8562539053905391, 0.84486600660066, 0.8561095709570957, 0.6944552255225523, 0.8481698569856986, 0.8489174917491751, 0.8561918591859184, 0.8680228822882288, 0.867858305830583]}, {\"categories\": [\"0\", \"1\", \"2\", \"3\", \"4\", \"5\", \"6\", \"7\", \"8\", \"9\", \"10\", \"11\", \"12\", \"13\", \"14\", \"15\", \"16\", \"17\", \"18\", \"19\", \"20\", \"21\", \"22\", \"23\", \"24\", \"25\", \"26\", \"27\", \"28\", \"29\", \"30\", \"31\", \"32\", \"33\", \"34\", \"35\", \"36\", \"37\", \"38\", \"39\", \"40\"], \"mode\": \"lines\", \"name\": \"AUC_weighted_max\", \"stepped\": true, \"type\": \"scatter\", \"data\": [0.8617227722772278, 0.8617227722772278, 0.8617227722772278, 0.8617227722772278, 0.8617227722772278, 0.8617227722772278, 0.8617227722772278, 0.8617227722772278, 0.8617227722772278, 0.8617227722772278, 0.8617227722772278, 0.8617227722772278, 0.8617227722772278, 0.8617227722772278, 0.8617227722772278, 0.8617227722772278, 0.8617227722772278, 0.8617227722772278, 0.8617227722772278, 0.8617227722772278, 0.8617227722772278, 0.8617227722772278, 0.8617227722772278, 0.8617227722772278, 0.8617227722772278, 0.8617227722772278, 0.8617227722772278, 0.8617227722772278, 0.8617227722772278, 0.8617227722772278, 0.8617227722772278, 0.8617227722772278, 0.8617227722772278, 0.8617227722772278, 0.8617227722772278, 0.8617227722772278, 0.8617227722772278, 0.8617227722772278, 0.8617227722772278, 0.8680228822882288, 0.8680228822882288]}], \"recall_score_weighted\": [{\"categories\": [\"0\", \"1\", \"2\", \"3\", \"4\", \"5\", \"6\", \"7\", \"8\", \"9\", \"10\", \"11\", \"12\", \"13\", \"14\", \"15\", \"16\", \"17\", \"18\", \"19\", \"20\", \"21\", \"22\", \"23\", \"24\", \"25\", \"26\", \"27\", \"28\", \"29\", \"30\", \"31\", \"32\", \"33\", \"34\", \"35\", \"36\", \"37\", \"38\", \"39\", \"40\"], \"mode\": \"markers\", \"name\": \"recall_score_weighted\", \"stepped\": false, \"type\": \"scatter\", \"data\": [0.7870646766169154, 0.7661691542288557, 0.6822553897180763, 0.7034825870646766, 0.6411276948590381, 0.699502487562189, 0.7243781094527363, 0.7376451077943615, 0.7270315091210614, 0.7220563847429519, 0.6955223880597015, 0.6477611940298507, 0.6762852404643449, 0.7227197346600331, 0.6719734660033168, 0.6029850746268657, 0.7018242122719734, 0.7200663349917081, 0.6262023217247098, 0.7820895522388059, 0.7519071310116087, 0.7243781094527363, 0.7393034825870647, 0.7694859038142621, 0.7810945273631841, 0.7804311774461028, 0.7781094527363184, 0.6600331674958541, 0.7150912106135987, 0.7565505804311774, 0.699502487562189, 0.7827529021558872, 0.7827529021558872, 0.7711442786069652, 0.7834162520729685, 0.6401326699834162, 0.775787728026534, 0.7774461028192371, 0.7830845771144279, 0.7903814262023218, 0.7913764510779436]}, {\"categories\": [\"0\", \"1\", \"2\", \"3\", \"4\", \"5\", \"6\", \"7\", \"8\", \"9\", \"10\", \"11\", \"12\", \"13\", \"14\", \"15\", \"16\", \"17\", \"18\", \"19\", \"20\", \"21\", \"22\", \"23\", \"24\", \"25\", \"26\", \"27\", \"28\", \"29\", \"30\", \"31\", \"32\", \"33\", \"34\", \"35\", \"36\", \"37\", \"38\", \"39\", \"40\"], \"mode\": \"lines\", \"name\": \"recall_score_weighted_max\", \"stepped\": true, \"type\": \"scatter\", \"data\": [0.7870646766169154, 0.7870646766169154, 0.7870646766169154, 0.7870646766169154, 0.7870646766169154, 0.7870646766169154, 0.7870646766169154, 0.7870646766169154, 0.7870646766169154, 0.7870646766169154, 0.7870646766169154, 0.7870646766169154, 0.7870646766169154, 0.7870646766169154, 0.7870646766169154, 0.7870646766169154, 0.7870646766169154, 0.7870646766169154, 0.7870646766169154, 0.7870646766169154, 0.7870646766169154, 0.7870646766169154, 0.7870646766169154, 0.7870646766169154, 0.7870646766169154, 0.7870646766169154, 0.7870646766169154, 0.7870646766169154, 0.7870646766169154, 0.7870646766169154, 0.7870646766169154, 0.7870646766169154, 0.7870646766169154, 0.7870646766169154, 0.7870646766169154, 0.7870646766169154, 0.7870646766169154, 0.7870646766169154, 0.7870646766169154, 0.7903814262023218, 0.7913764510779436]}], \"matthews_correlation\": [{\"categories\": [\"0\", \"1\", \"2\", \"3\", \"4\", \"5\", \"6\", \"7\", \"8\", \"9\", \"10\", \"11\", \"12\", \"13\", \"14\", \"15\", \"16\", \"17\", \"18\", \"19\", \"20\", \"21\", \"22\", \"23\", \"24\", \"25\", \"26\", \"27\", \"28\", \"29\", \"30\", \"31\", \"32\", \"33\", \"34\", \"35\", \"36\", \"37\", \"38\", \"39\", \"40\"], \"mode\": \"markers\", \"name\": \"matthews_correlation\", \"stepped\": false, \"type\": \"scatter\", \"data\": [0.5741149261789742, 0.5329720444437205, 0.36449956502495406, 0.4069723859936822, 0.2823640601748844, 0.3999543435190575, 0.44883665294079544, 0.47543142505072106, 0.4540449985864861, 0.44418666796607226, 0.39102074131933034, 0.2955277118922086, 0.3526624564656035, 0.45010653089074343, 0.34399619944430854, 0.21183958208232537, 0.4040107896497856, 0.44064857912971034, 0.25238372676495846, 0.5643181522356957, 0.5037966892489442, 0.44927341383264957, 0.4794787677559987, 0.5389768575317755, 0.5621744170765506, 0.5613245512218562, 0.5563066499745216, 0.32005181942385674, 0.430159790039604, 0.5227528482513775, 0.3990096244260067, 0.5656826836483754, 0.5656636198786615, 0.5423285038566995, 0.5670303314445276, 0.28047600372555914, 0.5516292211397865, 0.5549530224850706, 0.5663181788716106, 0.5807689767476725, 0.5827405665464319]}, {\"categories\": [\"0\", \"1\", \"2\", \"3\", \"4\", \"5\", \"6\", \"7\", \"8\", \"9\", \"10\", \"11\", \"12\", \"13\", \"14\", \"15\", \"16\", \"17\", \"18\", \"19\", \"20\", \"21\", \"22\", \"23\", \"24\", \"25\", \"26\", \"27\", \"28\", \"29\", \"30\", \"31\", \"32\", \"33\", \"34\", \"35\", \"36\", \"37\", \"38\", \"39\", \"40\"], \"mode\": \"lines\", \"name\": \"matthews_correlation_max\", \"stepped\": true, \"type\": \"scatter\", \"data\": [0.5741149261789742, 0.5741149261789742, 0.5741149261789742, 0.5741149261789742, 0.5741149261789742, 0.5741149261789742, 0.5741149261789742, 0.5741149261789742, 0.5741149261789742, 0.5741149261789742, 0.5741149261789742, 0.5741149261789742, 0.5741149261789742, 0.5741149261789742, 0.5741149261789742, 0.5741149261789742, 0.5741149261789742, 0.5741149261789742, 0.5741149261789742, 0.5741149261789742, 0.5741149261789742, 0.5741149261789742, 0.5741149261789742, 0.5741149261789742, 0.5741149261789742, 0.5741149261789742, 0.5741149261789742, 0.5741149261789742, 0.5741149261789742, 0.5741149261789742, 0.5741149261789742, 0.5741149261789742, 0.5741149261789742, 0.5741149261789742, 0.5741149261789742, 0.5741149261789742, 0.5741149261789742, 0.5741149261789742, 0.5741149261789742, 0.5807689767476725, 0.5827405665464319]}], \"precision_score_micro\": [{\"categories\": [\"0\", \"1\", \"2\", \"3\", \"4\", \"5\", \"6\", \"7\", \"8\", \"9\", \"10\", \"11\", \"12\", \"13\", \"14\", \"15\", \"16\", \"17\", \"18\", \"19\", \"20\", \"21\", \"22\", \"23\", \"24\", \"25\", \"26\", \"27\", \"28\", \"29\", \"30\", \"31\", \"32\", \"33\", \"34\", \"35\", \"36\", \"37\", \"38\", \"39\", \"40\"], \"mode\": \"markers\", \"name\": \"precision_score_micro\", \"stepped\": false, \"type\": \"scatter\", \"data\": [0.7870646766169154, 0.7661691542288557, 0.6822553897180763, 0.7034825870646766, 0.6411276948590381, 0.699502487562189, 0.7243781094527363, 0.7376451077943615, 0.7270315091210614, 0.7220563847429519, 0.6955223880597015, 0.6477611940298508, 0.6762852404643449, 0.7227197346600331, 0.6719734660033168, 0.6029850746268657, 0.7018242122719734, 0.7200663349917081, 0.6262023217247098, 0.7820895522388059, 0.7519071310116087, 0.7243781094527363, 0.7393034825870647, 0.7694859038142621, 0.7810945273631841, 0.7804311774461028, 0.7781094527363184, 0.6600331674958541, 0.7150912106135987, 0.7565505804311774, 0.699502487562189, 0.7827529021558872, 0.7827529021558872, 0.7711442786069652, 0.7834162520729685, 0.6401326699834162, 0.775787728026534, 0.7774461028192371, 0.7830845771144279, 0.7903814262023218, 0.7913764510779436]}, {\"categories\": [\"0\", \"1\", \"2\", \"3\", \"4\", \"5\", \"6\", \"7\", \"8\", \"9\", \"10\", \"11\", \"12\", \"13\", \"14\", \"15\", \"16\", \"17\", \"18\", \"19\", \"20\", \"21\", \"22\", \"23\", \"24\", \"25\", \"26\", \"27\", \"28\", \"29\", \"30\", \"31\", \"32\", \"33\", \"34\", \"35\", \"36\", \"37\", \"38\", \"39\", \"40\"], \"mode\": \"lines\", \"name\": \"precision_score_micro_max\", \"stepped\": true, \"type\": \"scatter\", \"data\": [0.7870646766169154, 0.7870646766169154, 0.7870646766169154, 0.7870646766169154, 0.7870646766169154, 0.7870646766169154, 0.7870646766169154, 0.7870646766169154, 0.7870646766169154, 0.7870646766169154, 0.7870646766169154, 0.7870646766169154, 0.7870646766169154, 0.7870646766169154, 0.7870646766169154, 0.7870646766169154, 0.7870646766169154, 0.7870646766169154, 0.7870646766169154, 0.7870646766169154, 0.7870646766169154, 0.7870646766169154, 0.7870646766169154, 0.7870646766169154, 0.7870646766169154, 0.7870646766169154, 0.7870646766169154, 0.7870646766169154, 0.7870646766169154, 0.7870646766169154, 0.7870646766169154, 0.7870646766169154, 0.7870646766169154, 0.7870646766169154, 0.7870646766169154, 0.7870646766169154, 0.7870646766169154, 0.7870646766169154, 0.7870646766169154, 0.7903814262023218, 0.7913764510779436]}]}, \"metricName\": null, \"primaryMetricName\": \"AUC_weighted\", \"showLegend\": false}, \"run_metrics\": [{\"name\": \"experiment_status\", \"run_id\": \"AutoML_5b92da3e-f409-46be-8143-26c1b4b5c8ef\", \"categories\": [0, 1, 2, 3, 4, 5, 6, 7, 8, 9, 10, 11, 12], \"series\": [{\"data\": [\"DatasetEvaluation\", \"FeaturesGeneration\", \"DatasetFeaturization\", \"DatasetFeaturizationCompleted\", \"ModelSelection\", \"BestRunExplainModel\", \"ModelExplanationDataSetSetup\", \"PickSurrogateModel\", \"EngineeredFeatureExplanations\", \"EngineeredFeatureExplanations\", \"RawFeaturesExplanations\", \"RawFeaturesExplanations\", \"BestRunExplainModel\"]}]}, {\"name\": \"experiment_status_description\", \"run_id\": \"AutoML_5b92da3e-f409-46be-8143-26c1b4b5c8ef\", \"categories\": [0, 1, 2, 3, 4, 5, 6, 7, 8, 9, 10, 11, 12], \"series\": [{\"data\": [\"Gathering dataset statistics.\", \"Generating features for the dataset.\", \"Beginning to fit featurizers and featurize the dataset.\", \"Completed fit featurizers and featurizing the dataset.\", \"Beginning model selection.\", \"Best run model explanations started\", \"Model explanations data setup completed\", \"Choosing LinearModel as the surrogate model for explanations\", \"Computation of engineered features started\", \"Computation of engineered features completed\", \"Computation of raw features started\", \"Computation of raw features completed\", \"Best run model explanations completed\"]}]}, {\"name\": \"recall_score_weighted\", \"run_id\": \"AutoML_5b92da3e-f409-46be-8143-26c1b4b5c8ef\", \"categories\": [0], \"series\": [{\"data\": [0.7903814262023218]}]}, {\"name\": \"AUC_weighted\", \"run_id\": \"AutoML_5b92da3e-f409-46be-8143-26c1b4b5c8ef\", \"categories\": [0], \"series\": [{\"data\": [0.8680228822882288]}]}, {\"name\": \"f1_score_micro\", \"run_id\": \"AutoML_5b92da3e-f409-46be-8143-26c1b4b5c8ef\", \"categories\": [0], \"series\": [{\"data\": [0.7903814262023218]}]}, {\"name\": \"norm_macro_recall\", \"run_id\": \"AutoML_5b92da3e-f409-46be-8143-26c1b4b5c8ef\", \"categories\": [0], \"series\": [{\"data\": [0.5806930693069305]}]}, {\"name\": \"average_precision_score_macro\", \"run_id\": \"AutoML_5b92da3e-f409-46be-8143-26c1b4b5c8ef\", \"categories\": [0], \"series\": [{\"data\": [0.8654662511253289]}]}, {\"name\": \"average_precision_score_micro\", \"run_id\": \"AutoML_5b92da3e-f409-46be-8143-26c1b4b5c8ef\", \"categories\": [0], \"series\": [{\"data\": [0.8659146503718596]}]}, {\"name\": \"recall_score_micro\", \"run_id\": \"AutoML_5b92da3e-f409-46be-8143-26c1b4b5c8ef\", \"categories\": [0], \"series\": [{\"data\": [0.7903814262023218]}]}, {\"name\": \"f1_score_macro\", \"run_id\": \"AutoML_5b92da3e-f409-46be-8143-26c1b4b5c8ef\", \"categories\": [0], \"series\": [{\"data\": [0.790356311094916]}]}, {\"name\": \"recall_score_macro\", \"run_id\": \"AutoML_5b92da3e-f409-46be-8143-26c1b4b5c8ef\", \"categories\": [0], \"series\": [{\"data\": [0.7903465346534653]}]}, {\"name\": \"precision_score_micro\", \"run_id\": \"AutoML_5b92da3e-f409-46be-8143-26c1b4b5c8ef\", \"categories\": [0], \"series\": [{\"data\": [0.7903814262023218]}]}, {\"name\": \"weighted_accuracy\", \"run_id\": \"AutoML_5b92da3e-f409-46be-8143-26c1b4b5c8ef\", \"categories\": [0], \"series\": [{\"data\": [0.7904163160239592]}]}, {\"name\": \"matthews_correlation\", \"run_id\": \"AutoML_5b92da3e-f409-46be-8143-26c1b4b5c8ef\", \"categories\": [0], \"series\": [{\"data\": [0.5807689767476725]}]}, {\"name\": \"precision_score_macro\", \"run_id\": \"AutoML_5b92da3e-f409-46be-8143-26c1b4b5c8ef\", \"categories\": [0], \"series\": [{\"data\": [0.7904224470554679]}]}, {\"name\": \"average_precision_score_weighted\", \"run_id\": \"AutoML_5b92da3e-f409-46be-8143-26c1b4b5c8ef\", \"categories\": [0], \"series\": [{\"data\": [0.8654422276039756]}]}, {\"name\": \"f1_score_weighted\", \"run_id\": \"AutoML_5b92da3e-f409-46be-8143-26c1b4b5c8ef\", \"categories\": [0], \"series\": [{\"data\": [0.7903677270528277]}]}, {\"name\": \"AUC_macro\", \"run_id\": \"AutoML_5b92da3e-f409-46be-8143-26c1b4b5c8ef\", \"categories\": [0], \"series\": [{\"data\": [0.8680228822882288]}]}, {\"name\": \"log_loss\", \"run_id\": \"AutoML_5b92da3e-f409-46be-8143-26c1b4b5c8ef\", \"categories\": [0], \"series\": [{\"data\": [0.49455015453994705]}]}, {\"name\": \"balanced_accuracy\", \"run_id\": \"AutoML_5b92da3e-f409-46be-8143-26c1b4b5c8ef\", \"categories\": [0], \"series\": [{\"data\": [0.7903465346534653]}]}, {\"name\": \"precision_score_weighted\", \"run_id\": \"AutoML_5b92da3e-f409-46be-8143-26c1b4b5c8ef\", \"categories\": [0], \"series\": [{\"data\": [0.7904103820986601]}]}, {\"name\": \"AUC_micro\", \"run_id\": \"AutoML_5b92da3e-f409-46be-8143-26c1b4b5c8ef\", \"categories\": [0], \"series\": [{\"data\": [0.8682862085371924]}]}, {\"name\": \"accuracy\", \"run_id\": \"AutoML_5b92da3e-f409-46be-8143-26c1b4b5c8ef\", \"categories\": [0], \"series\": [{\"data\": [0.7903814262023218]}]}], \"run_logs\": \"\\nRun is completed.\", \"graph\": {}, \"widget_settings\": {\"childWidgetDisplay\": \"popup\", \"send_telemetry\": false, \"log_level\": \"INFO\", \"sdk_version\": \"1.27.0\"}, \"loading\": false}"
          },
          "metadata": {}
        }
      ],
      "execution_count": 12,
      "metadata": {
        "gather": {
          "logged": 1621123192886
        },
        "jupyter": {
          "outputs_hidden": false,
          "source_hidden": false
        },
        "nteract": {
          "transient": {
            "deleting": false
          }
        }
      }
    },
    {
      "cell_type": "markdown",
      "source": [
        "## Best Model\n",
        "\n",
        "TODO: In the cell below, get the best model from the automl experiments and display all the properties of the model.\n",
        "\n"
      ],
      "metadata": {}
    },
    {
      "cell_type": "code",
      "source": [
        "best_run_automl, fitted_model = automl_run.get_output()\n",
        "\n"
      ],
      "outputs": [],
      "execution_count": 13,
      "metadata": {
        "gather": {
          "logged": 1621123214467
        },
        "jupyter": {
          "outputs_hidden": false,
          "source_hidden": false
        },
        "nteract": {
          "transient": {
            "deleting": false
          }
        }
      }
    },
    {
      "cell_type": "code",
      "source": [
        "model_name = best_run_automl.properties['model_name']\n",
        "run_algorithm = best_run_automl.properties['run_algorithm']\n",
        "AUC_weighted = best_run_automl.properties['score']\n"
      ],
      "outputs": [],
      "execution_count": 44,
      "metadata": {
        "collapsed": true,
        "jupyter": {
          "source_hidden": false,
          "outputs_hidden": false
        },
        "nteract": {
          "transient": {
            "deleting": false
          }
        },
        "gather": {
          "logged": 1621123952073
        }
      }
    },
    {
      "cell_type": "code",
      "source": [],
      "outputs": [
        {
          "output_type": "execute_result",
          "execution_count": 43,
          "data": {
            "text/plain": "'0.8680228822882288'"
          },
          "metadata": {}
        }
      ],
      "execution_count": 43,
      "metadata": {
        "collapsed": true,
        "jupyter": {
          "source_hidden": false,
          "outputs_hidden": false
        },
        "nteract": {
          "transient": {
            "deleting": false
          }
        },
        "gather": {
          "logged": 1621123938871
        }
      }
    },
    {
      "cell_type": "code",
      "source": [
        "print(f\"Model name:{model_name}, Algorithm:{run_algorithm}, AUC_weighted: {AUC_weighted} \")"
      ],
      "outputs": [
        {
          "output_type": "stream",
          "name": "stdout",
          "text": [
            "Model name:AutoML5b92da3ef39, Algorithm:VotingEnsemble, AUC_weighted: 0.8680228822882288 \n"
          ]
        }
      ],
      "execution_count": 45,
      "metadata": {
        "collapsed": true,
        "jupyter": {
          "source_hidden": false,
          "outputs_hidden": false
        },
        "nteract": {
          "transient": {
            "deleting": false
          }
        },
        "gather": {
          "logged": 1621123960961
        }
      }
    },
    {
      "cell_type": "code",
      "source": [
        "print(best_run_automl.properties)"
      ],
      "outputs": [
        {
          "output_type": "stream",
          "name": "stdout",
          "text": [
            "{'runTemplate': 'automl_child', 'pipeline_id': '__AutoML_Ensemble__', 'pipeline_spec': '{\"pipeline_id\":\"__AutoML_Ensemble__\",\"objects\":[{\"module\":\"azureml.train.automl.ensemble\",\"class_name\":\"Ensemble\",\"spec_class\":\"sklearn\",\"param_args\":[],\"param_kwargs\":{\"automl_settings\":\"{\\'task_type\\':\\'classification\\',\\'primary_metric\\':\\'AUC_weighted\\',\\'verbosity\\':20,\\'ensemble_iterations\\':15,\\'is_timeseries\\':False,\\'name\\':\\'Capstone-AutoML\\',\\'compute_target\\':\\'comp-capstone\\',\\'subscription_id\\':\\'510b94ba-e453-4417-988b-fbdc37b55ca7\\',\\'region\\':\\'southcentralus\\',\\'spark_service\\':None}\",\"ensemble_run_id\":\"AutoML_5b92da3e-f409-46be-8143-26c1b4b5c8ef_39\",\"experiment_name\":\"Capstone-AutoML\",\"workspace_name\":\"quick-starts-ws-144914\",\"subscription_id\":\"510b94ba-e453-4417-988b-fbdc37b55ca7\",\"resource_group_name\":\"aml-quickstarts-144914\"}}]}', 'training_percent': '100', 'predicted_cost': None, 'iteration': '39', '_aml_system_scenario_identification': 'Remote.Child', '_azureml.ComputeTargetType': 'amlcompute', 'ContentSnapshotId': '446421d0-1f57-4089-bb25-b8a2371f9e5f', 'ProcessInfoFile': 'azureml-logs/process_info.json', 'ProcessStatusFile': 'azureml-logs/process_status.json', 'run_template': 'automl_child', 'run_preprocessor': '', 'run_algorithm': 'VotingEnsemble', 'model_output_path': 'outputs/model.pkl', 'conda_env_data_location': 'aml://artifact/ExperimentRun/dcid.AutoML_5b92da3e-f409-46be-8143-26c1b4b5c8ef_39/outputs/conda_env_v_1_0_0.yml', 'model_data_location': 'aml://artifact/ExperimentRun/dcid.AutoML_5b92da3e-f409-46be-8143-26c1b4b5c8ef_39/outputs/model.pkl', 'model_size_on_disk': '6988689', 'scoring_data_location': 'aml://artifact/ExperimentRun/dcid.AutoML_5b92da3e-f409-46be-8143-26c1b4b5c8ef_39/outputs/scoring_file_v_1_0_0.py', 'model_exp_support': 'True', 'pipeline_graph_version': '1.0.0', 'model_name': 'AutoML5b92da3ef39', 'staticProperties': '{}', 'score': '0.8680228822882288', 'score_table': 'NaN', 'run_properties': \"classification_labels=None,\\n                              estimators=[('0',\\n                                           Pipeline(memory=None,\\n                                                    steps=[('maxabsscaler',\\n                                                            MaxAbsScaler(copy=True\", 'pipeline_script': '{\"pipeline_id\":\"__AutoML_Ensemble__\",\"objects\":[{\"module\":\"azureml.train.automl.ensemble\",\"class_name\":\"Ensemble\",\"spec_class\":\"sklearn\",\"param_args\":[],\"param_kwargs\":{\"automl_settings\":\"{\\'task_type\\':\\'classification\\',\\'primary_metric\\':\\'AUC_weighted\\',\\'verbosity\\':20,\\'ensemble_iterations\\':15,\\'is_timeseries\\':False,\\'name\\':\\'Capstone-AutoML\\',\\'compute_target\\':\\'comp-capstone\\',\\'subscription_id\\':\\'510b94ba-e453-4417-988b-fbdc37b55ca7\\',\\'region\\':\\'southcentralus\\',\\'spark_service\\':None}\",\"ensemble_run_id\":\"AutoML_5b92da3e-f409-46be-8143-26c1b4b5c8ef_39\",\"experiment_name\":\"Capstone-AutoML\",\"workspace_name\":\"quick-starts-ws-144914\",\"subscription_id\":\"510b94ba-e453-4417-988b-fbdc37b55ca7\",\"resource_group_name\":\"aml-quickstarts-144914\"}}]}', 'training_type': 'train_valid', 'num_classes': '', 'framework': 'sklearn', 'fit_time': '15', 'goal': 'AUC_weighted_max', 'class_labels': '', 'primary_metric': 'AUC_weighted', 'errors': '{}', 'onnx_model_resource': '{}', 'error_code': '', 'failure_reason': '', 'dependencies_versions': '{\"azureml-train-automl-runtime\": \"1.27.0.post1\", \"azureml-train-automl-client\": \"1.27.0\", \"azureml-telemetry\": \"1.27.0\", \"azureml-pipeline-core\": \"1.27.0\", \"azureml-model-management-sdk\": \"1.0.1b6.post1\", \"azureml-mlflow\": \"1.27.0\", \"azureml-interpret\": \"1.27.0\", \"azureml-defaults\": \"1.27.0\", \"azureml-dataset-runtime\": \"1.27.0\", \"azureml-dataprep\": \"2.14.2\", \"azureml-dataprep-rslex\": \"1.12.1\", \"azureml-dataprep-native\": \"33.0.0\", \"azureml-core\": \"1.27.0\", \"azureml-automl-runtime\": \"1.27.0.post2\", \"azureml-automl-core\": \"1.27.0\"}', 'num_cores': '2', 'num_logical_cores': '2', 'peak_memory_usage': '769820', 'vm_configuration': 'Intel(R) Xeon(R) CPU E5-2673 v3 @ 2.40GHz', 'core_hours': '0.004982264444444444', 'feature_skus': 'automatedml_sdk_guardrails'}\n"
          ]
        }
      ],
      "execution_count": 19,
      "metadata": {
        "collapsed": true,
        "jupyter": {
          "source_hidden": false,
          "outputs_hidden": false
        },
        "nteract": {
          "transient": {
            "deleting": false
          }
        },
        "gather": {
          "logged": 1621123264412
        }
      }
    },
    {
      "cell_type": "code",
      "source": [
        "best_run_automl.get_file_names()"
      ],
      "outputs": [
        {
          "output_type": "execute_result",
          "execution_count": 20,
          "data": {
            "text/plain": "['accuracy_table', 'automl_driver.py', 'azureml-logs/55_azureml-execution-tvmps_f3515f24dfe8731bf990d9ca81f7d8500d43208be4a955635cb58e14c9d56daa_d.txt', 'azureml-logs/65_job_prep-tvmps_f3515f24dfe8731bf990d9ca81f7d8500d43208be4a955635cb58e14c9d56daa_d.txt', 'azureml-logs/70_driver_log.txt', 'azureml-logs/75_job_post-tvmps_f3515f24dfe8731bf990d9ca81f7d8500d43208be4a955635cb58e14c9d56daa_d.txt', 'azureml-logs/process_info.json', 'azureml-logs/process_status.json', 'confusion_matrix', 'logs/azureml/107_azureml.log', 'logs/azureml/azureml_automl.log', 'logs/azureml/job_prep_azureml.log', 'logs/azureml/job_release_azureml.log', 'outputs/conda_env_v_1_0_0.yml', 'outputs/env_dependencies.json', 'outputs/model.pkl', 'outputs/pipeline_graph.json', 'outputs/scoring_file_v_1_0_0.py']"
          },
          "metadata": {}
        }
      ],
      "execution_count": 20,
      "metadata": {
        "collapsed": true,
        "jupyter": {
          "source_hidden": false,
          "outputs_hidden": false
        },
        "nteract": {
          "transient": {
            "deleting": false
          }
        },
        "gather": {
          "logged": 1621123266721
        }
      }
    },
    {
      "cell_type": "code",
      "source": [
        "best_run_automl.download_file(best_run_automl.get_file_names()[-3])\n"
      ],
      "outputs": [],
      "execution_count": 21,
      "metadata": {
        "collapsed": true,
        "jupyter": {
          "source_hidden": false,
          "outputs_hidden": false
        },
        "nteract": {
          "transient": {
            "deleting": false
          }
        },
        "gather": {
          "logged": 1621123268683
        }
      }
    },
    {
      "cell_type": "code",
      "source": [
        "# Save the downloaded file to local storage\n",
        "local_path='./outputs'\n",
        "os.makedirs(local_path, exist_ok=True)\n",
        "\n",
        "best_automl_model = joblib.load(open(best_run_automl.get_file_names()[-3].split('/')[1], 'rb'))\n",
        "joblib.dump(best_automl_model, 'outputs/best_automl_model.joblib')"
      ],
      "outputs": [
        {
          "output_type": "execute_result",
          "execution_count": 22,
          "data": {
            "text/plain": "['outputs/best_automl_model.joblib']"
          },
          "metadata": {}
        }
      ],
      "execution_count": 22,
      "metadata": {
        "gather": {
          "logged": 1621123271882
        },
        "jupyter": {
          "outputs_hidden": false,
          "source_hidden": false
        },
        "nteract": {
          "transient": {
            "deleting": false
          }
        }
      }
    },
    {
      "cell_type": "code",
      "source": [
        "best_run_automl.get_metrics()"
      ],
      "outputs": [
        {
          "output_type": "execute_result",
          "execution_count": 23,
          "data": {
            "text/plain": "{'AUC_micro': 0.8682862085371924, 'accuracy': 0.7903814262023218, 'log_loss': 0.49455015453994705, 'AUC_weighted': 0.8680228822882288, 'recall_score_weighted': 0.7903814262023218, 'f1_score_macro': 0.790356311094916, 'average_precision_score_micro': 0.8659146503718596, 'recall_score_macro': 0.7903465346534653, 'AUC_macro': 0.8680228822882288, 'precision_score_weighted': 0.7904103820986601, 'average_precision_score_weighted': 0.8654422276039756, 'f1_score_micro': 0.7903814262023218, 'weighted_accuracy': 0.7904163160239592, 'balanced_accuracy': 0.7903465346534653, 'precision_score_micro': 0.7903814262023218, 'precision_score_macro': 0.7904224470554679, 'f1_score_weighted': 0.7903677270528277, 'average_precision_score_macro': 0.8654662511253289, 'norm_macro_recall': 0.5806930693069305, 'matthews_correlation': 0.5807689767476725, 'recall_score_micro': 0.7903814262023218, 'accuracy_table': 'aml://artifactId/ExperimentRun/dcid.AutoML_5b92da3e-f409-46be-8143-26c1b4b5c8ef_39/accuracy_table', 'confusion_matrix': 'aml://artifactId/ExperimentRun/dcid.AutoML_5b92da3e-f409-46be-8143-26c1b4b5c8ef_39/confusion_matrix'}"
          },
          "metadata": {}
        }
      ],
      "execution_count": 23,
      "metadata": {
        "collapsed": true,
        "jupyter": {
          "source_hidden": false,
          "outputs_hidden": false
        },
        "nteract": {
          "transient": {
            "deleting": false
          }
        },
        "gather": {
          "logged": 1621123276513
        }
      }
    },
    {
      "cell_type": "code",
      "source": [
        "test_dataset = pd.DataFrame(X_test)"
      ],
      "outputs": [],
      "execution_count": 24,
      "metadata": {
        "collapsed": true,
        "jupyter": {
          "source_hidden": false,
          "outputs_hidden": false
        },
        "nteract": {
          "transient": {
            "deleting": false
          }
        },
        "gather": {
          "logged": 1621123297231
        }
      }
    },
    {
      "cell_type": "code",
      "source": [
        "test_dataset.columns = \"X\" + test_dataset.columns.astype(str)"
      ],
      "outputs": [],
      "execution_count": 25,
      "metadata": {
        "collapsed": true,
        "jupyter": {
          "source_hidden": false,
          "outputs_hidden": false
        },
        "nteract": {
          "transient": {
            "deleting": false
          }
        },
        "gather": {
          "logged": 1621123299404
        }
      }
    },
    {
      "cell_type": "code",
      "source": [
        "pred_test = best_automl_model.predict(test_dataset)"
      ],
      "outputs": [],
      "execution_count": 26,
      "metadata": {
        "collapsed": true,
        "jupyter": {
          "source_hidden": false,
          "outputs_hidden": false
        },
        "nteract": {
          "transient": {
            "deleting": false
          }
        },
        "gather": {
          "logged": 1621123313941
        }
      }
    },
    {
      "cell_type": "code",
      "source": [
        "auc_score = roc_auc_score(y_test, pred_test)\n",
        "accuracy = accuracy_score(y_test, pred_test)\n",
        "\n",
        "print('AUC Test:', auc_score)\n",
        "print('Accuracy Test:', accuracy)"
      ],
      "outputs": [
        {
          "output_type": "stream",
          "name": "stdout",
          "text": [
            "AUC Test: 0.7634642885086347\n",
            "Accuracy Test: 0.7633333333333333\n"
          ]
        }
      ],
      "execution_count": 27,
      "metadata": {
        "collapsed": true,
        "jupyter": {
          "source_hidden": false,
          "outputs_hidden": false
        },
        "nteract": {
          "transient": {
            "deleting": false
          }
        },
        "gather": {
          "logged": 1621123314169
        }
      }
    },
    {
      "cell_type": "markdown",
      "source": [
        "## Model Deployment\n",
        "\n",
        "Remember you have to deploy only one of the two models you trained.. Perform the steps in the rest of this notebook only if you wish to deploy this model.\n",
        "\n",
        "TODO: In the cell below, register the model, create an inference config and deploy the model as a web service."
      ],
      "metadata": {}
    },
    {
      "cell_type": "code",
      "source": [
        "best_run_automl.get_file_names()"
      ],
      "outputs": [
        {
          "output_type": "execute_result",
          "execution_count": 28,
          "data": {
            "text/plain": "['accuracy_table', 'automl_driver.py', 'azureml-logs/55_azureml-execution-tvmps_f3515f24dfe8731bf990d9ca81f7d8500d43208be4a955635cb58e14c9d56daa_d.txt', 'azureml-logs/65_job_prep-tvmps_f3515f24dfe8731bf990d9ca81f7d8500d43208be4a955635cb58e14c9d56daa_d.txt', 'azureml-logs/70_driver_log.txt', 'azureml-logs/75_job_post-tvmps_f3515f24dfe8731bf990d9ca81f7d8500d43208be4a955635cb58e14c9d56daa_d.txt', 'azureml-logs/process_info.json', 'azureml-logs/process_status.json', 'confusion_matrix', 'explanation/6601dc51/classes.interpret.json', 'explanation/6601dc51/expected_values.interpret.json', 'explanation/6601dc51/features.interpret.json', 'explanation/6601dc51/global_names/0.interpret.json', 'explanation/6601dc51/global_rank/0.interpret.json', 'explanation/6601dc51/global_values/0.interpret.json', 'explanation/6601dc51/local_importance_values_sparse.interpret.json', 'explanation/6601dc51/per_class_names/0.interpret.json', 'explanation/6601dc51/per_class_rank/0.interpret.json', 'explanation/6601dc51/per_class_values/0.interpret.json', 'explanation/6601dc51/rich_metadata.interpret.json', 'explanation/6601dc51/true_ys_viz.interpret.json', 'explanation/6601dc51/visualization_dict.interpret.json', 'explanation/6601dc51/ys_pred_proba_viz.interpret.json', 'explanation/6601dc51/ys_pred_viz.interpret.json', 'logs/azureml/107_azureml.log', 'logs/azureml/azureml_automl.log', 'logs/azureml/job_prep_azureml.log', 'logs/azureml/job_release_azureml.log', 'outputs/conda_env_v_1_0_0.yml', 'outputs/env_dependencies.json', 'outputs/model.pkl', 'outputs/pipeline_graph.json', 'outputs/scoring_file_v_1_0_0.py']"
          },
          "metadata": {}
        }
      ],
      "execution_count": 28,
      "metadata": {
        "collapsed": true,
        "jupyter": {
          "source_hidden": false,
          "outputs_hidden": false
        },
        "nteract": {
          "transient": {
            "deleting": false
          }
        },
        "gather": {
          "logged": 1621123358379
        }
      }
    },
    {
      "cell_type": "code",
      "source": [
        "print(best_run_automl.properties['model_name'])\n",
        "model_name = best_run_automl.properties['model_name']\n",
        "\n",
        "registered_model = automl_run.register_model(model_name=model_name,\n",
        "description=\"Stackoverflow Quality Prediction\", tags=None)"
      ],
      "outputs": [
        {
          "output_type": "stream",
          "name": "stdout",
          "text": [
            "AutoML5b92da3ef39\n"
          ]
        }
      ],
      "execution_count": 29,
      "metadata": {
        "collapsed": true,
        "jupyter": {
          "source_hidden": false,
          "outputs_hidden": false
        },
        "nteract": {
          "transient": {
            "deleting": false
          }
        },
        "gather": {
          "logged": 1621123367044
        }
      }
    },
    {
      "cell_type": "code",
      "source": [
        "local_path='./inference'\n",
        "os.makedirs(local_path, exist_ok=True)\n",
        "\n",
        "best_run_automl.download_file('outputs/scoring_file_v_1_0_0.py', 'inference/score.py')"
      ],
      "outputs": [],
      "execution_count": 30,
      "metadata": {
        "collapsed": true,
        "jupyter": {
          "source_hidden": false,
          "outputs_hidden": false
        },
        "nteract": {
          "transient": {
            "deleting": false
          }
        },
        "gather": {
          "logged": 1621123372674
        }
      }
    },
    {
      "cell_type": "code",
      "source": [
        "deploy_env = Environment.get(workspace=ws, name=\"AzureML-AutoML\")\n",
        "deploy_env.save_to_directory(path=\"deploy_env\", overwrite=True)\n",
        "deploy_env = Environment.load_from_directory(\"deploy_env\")\n",
        "\n",
        "inference_config = InferenceConfig(entry_script=\"inference/score.py\", environment=deploy_env)"
      ],
      "outputs": [],
      "execution_count": 31,
      "metadata": {
        "collapsed": true,
        "jupyter": {
          "source_hidden": false,
          "outputs_hidden": false
        },
        "nteract": {
          "transient": {
            "deleting": false
          }
        },
        "gather": {
          "logged": 1621123376258
        }
      }
    },
    {
      "cell_type": "code",
      "source": [
        "aciconfig = AciWebservice.deploy_configuration(cpu_cores=2, memory_gb=2, description=\"Stackoverflow comment quality prediction\")"
      ],
      "outputs": [],
      "execution_count": 32,
      "metadata": {
        "collapsed": true,
        "jupyter": {
          "source_hidden": false,
          "outputs_hidden": false
        },
        "nteract": {
          "transient": {
            "deleting": false
          }
        },
        "gather": {
          "logged": 1621123379974
        }
      }
    },
    {
      "cell_type": "code",
      "source": [
        "service = Model.deploy(ws, \"automl-stackoverflow\", [registered_model], inference_config, aciconfig)\n",
        "service.wait_for_deployment(True)"
      ],
      "outputs": [
        {
          "output_type": "stream",
          "name": "stdout",
          "text": [
            "Tips: You can try get_logs(): https://aka.ms/debugimage#dockerlog or local deployment: https://aka.ms/debugimage#debug-locally to debug if deployment takes longer than 10 minutes.\n",
            "Running\n",
            "2021-05-16 00:03:02+00:00 Creating Container Registry if not exists..\n",
            "2021-05-16 00:03:13+00:00 Registering the environment..\n",
            "2021-05-16 00:03:14+00:00 Use the existing image.\n",
            "2021-05-16 00:03:14+00:00 Generating deployment configuration.\n",
            "2021-05-16 00:03:15+00:00 Submitting deployment to compute..\n",
            "2021-05-16 00:03:22+00:00 Checking the status of deployment automl-stackoverflow..\n",
            "2021-05-16 00:07:08+00:00 Checking the status of inference endpoint automl-stackoverflow.\n",
            "Succeeded\n",
            "ACI service creation operation finished, operation \"Succeeded\"\n"
          ]
        }
      ],
      "execution_count": 33,
      "metadata": {
        "collapsed": true,
        "jupyter": {
          "source_hidden": false,
          "outputs_hidden": false
        },
        "nteract": {
          "transient": {
            "deleting": false
          }
        },
        "gather": {
          "logged": 1621123635632
        }
      }
    },
    {
      "cell_type": "markdown",
      "source": [
        "TODO: In the cell below, send a request to the web service you deployed to test it."
      ],
      "metadata": {
        "collapsed": true,
        "gather": {
          "logged": 1598431657736
        },
        "jupyter": {
          "outputs_hidden": false,
          "source_hidden": false
        },
        "nteract": {
          "transient": {
            "deleting": false
          }
        }
      }
    },
    {
      "cell_type": "code",
      "source": [
        "service"
      ],
      "outputs": [
        {
          "output_type": "execute_result",
          "execution_count": 34,
          "data": {
            "text/plain": "AciWebservice(workspace=Workspace.create(name='quick-starts-ws-144914', subscription_id='510b94ba-e453-4417-988b-fbdc37b55ca7', resource_group='aml-quickstarts-144914'), name=automl-stackoverflow, image_id=None, compute_type=None, state=ACI, scoring_uri=Healthy, tags=http://de887f00-c979-4ffc-a4c5-21572bfe8ff5.southcentralus.azurecontainer.io/score, properties={}, created_by={'hasInferenceSchema': 'True', 'hasHttps': 'False'})"
          },
          "metadata": {}
        }
      ],
      "execution_count": 34,
      "metadata": {
        "gather": {
          "logged": 1621123695043
        },
        "jupyter": {
          "outputs_hidden": false,
          "source_hidden": false
        },
        "nteract": {
          "transient": {
            "deleting": false
          }
        }
      }
    },
    {
      "cell_type": "code",
      "source": [
        "sample_dict = {}\n",
        "for i in range(287):\n",
        "    \n",
        "    sample_dict[\"X\"+str(i)] = random.choice([0,1])\n",
        "sample_json = json.dumps({\"data\":[sample_dict,]})"
      ],
      "outputs": [],
      "execution_count": 35,
      "metadata": {
        "collapsed": true,
        "jupyter": {
          "source_hidden": false,
          "outputs_hidden": false
        },
        "nteract": {
          "transient": {
            "deleting": false
          }
        },
        "gather": {
          "logged": 1621123697097
        }
      }
    },
    {
      "cell_type": "code",
      "source": [
        "import requests\n",
        "# The endpoint uri is received from the print-out of the service variable.\n",
        "rest_endpoint = \"http://de887f00-c979-4ffc-a4c5-21572bfe8ff5.southcentralus.azurecontainer.io/score\"\n",
        "headers = {\"Content-Type\": \"application/json\"}\n",
        "\n",
        "response = requests.post(rest_endpoint, sample_json, headers=headers)"
      ],
      "outputs": [],
      "execution_count": 36,
      "metadata": {
        "collapsed": true,
        "jupyter": {
          "source_hidden": false,
          "outputs_hidden": false
        },
        "nteract": {
          "transient": {
            "deleting": false
          }
        },
        "gather": {
          "logged": 1621123698691
        }
      }
    },
    {
      "cell_type": "code",
      "source": [
        "try:\n",
        "    response.raise_for_status()\n",
        "except Exception:    \n",
        "    raise Exception(\"Received bad response from the endpoint: {}\\n\"\n",
        "                    \"Response Code: {}\\n\"\n",
        "                    \"Headers: {}\\n\"\n",
        "                    \"Content: {}\".format(rest_endpoint, response.status_code, response.headers, response.content))\n",
        "\n",
        "print(response.json())"
      ],
      "outputs": [
        {
          "output_type": "stream",
          "name": "stdout",
          "text": [
            "{\"result\": [1]}\n"
          ]
        }
      ],
      "execution_count": 37,
      "metadata": {
        "collapsed": true,
        "jupyter": {
          "source_hidden": false,
          "outputs_hidden": false
        },
        "nteract": {
          "transient": {
            "deleting": false
          }
        },
        "gather": {
          "logged": 1621123699771
        }
      }
    },
    {
      "cell_type": "markdown",
      "source": [
        "TODO: In the cell below, print the logs of the web service and delete the service"
      ],
      "metadata": {
        "collapsed": true,
        "gather": {
          "logged": 1598432765711
        },
        "jupyter": {
          "outputs_hidden": false,
          "source_hidden": false
        },
        "nteract": {
          "transient": {
            "deleting": false
          }
        }
      }
    },
    {
      "cell_type": "code",
      "source": [
        "from azureml.core import Workspace\n",
        "from azureml.core.webservice import Webservice\n",
        "\n",
        "# Requires the config to be downloaded first to the current working directory\n",
        "ws = Workspace.from_config()\n",
        "\n",
        "# Set with the deployment name\n",
        "name = \"automl-stackoverflow\"\n",
        "\n",
        "# load existing web service\n",
        "service = Webservice(name=name, workspace=ws)\n",
        "logs = service.get_logs()\n",
        "\n",
        "# Solution code: Enable application insights\n",
        "service.update(enable_app_insights=True)\n",
        "\n",
        "for line in logs.split('\\n'):\n",
        "    print(line)\n"
      ],
      "outputs": [
        {
          "output_type": "stream",
          "name": "stdout",
          "text": [
            "2021-05-16T00:07:01,495338811+00:00 - iot-server/run \n",
            "2021-05-16T00:07:01,497598220+00:00 - rsyslog/run \n",
            "2021-05-16T00:07:01,497598220+00:00 - gunicorn/run \n",
            "rsyslogd: /azureml-envs/azureml_1509117e3dac6290ee5f15fe351d8f40/lib/libuuid.so.1: no version information available (required by rsyslogd)\n",
            "/usr/sbin/nginx: /azureml-envs/azureml_1509117e3dac6290ee5f15fe351d8f40/lib/libcrypto.so.1.0.0: no version information available (required by /usr/sbin/nginx)\n",
            "/usr/sbin/nginx: /azureml-envs/azureml_1509117e3dac6290ee5f15fe351d8f40/lib/libcrypto.so.1.0.0: no version information available (required by /usr/sbin/nginx)\n",
            "/usr/sbin/nginx: /azureml-envs/azureml_1509117e3dac6290ee5f15fe351d8f40/lib/libssl.so.1.0.0: no version information available (required by /usr/sbin/nginx)\n",
            "/usr/sbin/nginx: /azureml-envs/azureml_1509117e3dac6290ee5f15fe351d8f40/lib/libssl.so.1.0.0: no version information available (required by /usr/sbin/nginx)\n",
            "/usr/sbin/nginx: /azureml-envs/azureml_1509117e3dac6290ee5f15fe351d8f40/lib/libssl.so.1.0.0: no version information available (required by /usr/sbin/nginx)\n",
            "2021-05-16T00:07:01,513653187+00:00 - nginx/run \n",
            "EdgeHubConnectionString and IOTEDGE_IOTHUBHOSTNAME are not set. Exiting...\n",
            "2021-05-16T00:07:01,583774477+00:00 - iot-server/finish 1 0\n",
            "2021-05-16T00:07:01,585143783+00:00 - Exit code 1 is normal. Not restarting iot-server.\n",
            "Starting gunicorn 20.1.0\n",
            "Listening at: http://127.0.0.1:31311 (14)\n",
            "Using worker: sync\n",
            "worker timeout is set to 300\n",
            "Booting worker with pid: 42\n",
            "SPARK_HOME not set. Skipping PySpark Initialization.\n",
            "Generating new fontManager, this may take some time...\n",
            "Initializing logger\n",
            "2021-05-16 00:07:02,990 | root | INFO | Starting up app insights client\n",
            "2021-05-16 00:07:02,990 | root | INFO | Starting up request id generator\n",
            "2021-05-16 00:07:02,990 | root | INFO | Starting up app insight hooks\n",
            "2021-05-16 00:07:02,990 | root | INFO | Invoking user's init function\n",
            "2021-05-16 00:07:06,634 | azureml.core | WARNING | Failure while loading azureml_run_type_providers. Failed to load entrypoint automl = azureml.train.automl.run:AutoMLRun._from_run_dto with exception cannot import name 'RunType'.\n",
            "Failure while loading azureml_run_type_providers. Failed to load entrypoint automl = azureml.train.automl.run:AutoMLRun._from_run_dto with exception cannot import name 'RunType'.\n",
            "2021-05-16 00:07:06,975 | root | INFO | Users's init has completed successfully\n",
            "2021-05-16 00:07:06,979 | root | INFO | Skipping middleware: dbg_model_info as it's not enabled.\n",
            "2021-05-16 00:07:06,979 | root | INFO | Skipping middleware: dbg_resource_usage as it's not enabled.\n",
            "2021-05-16 00:07:06,989 | root | INFO | Scoring timeout is found from os.environ: 60000 ms\n",
            "2021-05-16 00:07:09,841 | root | INFO | 200\n",
            "127.0.0.1 - - [16/May/2021:00:07:09 +0000] \"GET /swagger.json HTTP/1.0\" 200 20889 \"-\" \"Go-http-client/1.1\"\n",
            "2021-05-16 00:07:15,013 | root | INFO | 200\n",
            "127.0.0.1 - - [16/May/2021:00:07:15 +0000] \"GET /swagger.json HTTP/1.0\" 200 20889 \"-\" \"Go-http-client/1.1\"\n",
            "2021-05-16 00:07:58,338 | root | INFO | 200\n",
            "127.0.0.1 - - [16/May/2021:00:07:58 +0000] \"GET /swagger.json HTTP/1.0\" 200 20889 \"-\" \"Go-http-client/1.1\"\n",
            "2021-05-16 00:08:17,861 | root | INFO | Validation Request Content-Type\n",
            "2021-05-16 00:08:17,861 | root | INFO | Scoring Timer is set to 60.0 seconds\n",
            "2021-05-16 00:08:18,557 | root | INFO | 200\n",
            "127.0.0.1 - - [16/May/2021:00:08:18 +0000] \"POST /score HTTP/1.0\" 200 19 \"-\" \"python-requests/2.25.1\"\n",
            "2021-05-16 00:08:22,807 | root | INFO | 200\n",
            "127.0.0.1 - - [16/May/2021:00:08:22 +0000] \"GET /swagger.json HTTP/1.0\" 200 20889 \"-\" \"Go-http-client/1.1\"\n",
            "\n"
          ]
        }
      ],
      "execution_count": 38,
      "metadata": {
        "jupyter": {
          "outputs_hidden": false,
          "source_hidden": false
        },
        "nteract": {
          "transient": {
            "deleting": false
          }
        },
        "gather": {
          "logged": 1621123705053
        }
      }
    },
    {
      "cell_type": "markdown",
      "source": [
        "The Web service has been deleted:"
      ],
      "metadata": {}
    },
    {
      "cell_type": "code",
      "source": [
        "service.delete()"
      ],
      "outputs": [],
      "execution_count": 39,
      "metadata": {
        "collapsed": true,
        "jupyter": {
          "source_hidden": false,
          "outputs_hidden": false
        },
        "nteract": {
          "transient": {
            "deleting": false
          }
        },
        "gather": {
          "logged": 1621123799327
        }
      }
    }
  ],
  "metadata": {
    "kernel_info": {
      "name": "python3"
    },
    "kernelspec": {
      "name": "python3",
      "language": "python",
      "display_name": "Python 3"
    },
    "language_info": {
      "name": "python",
      "version": "3.6.9",
      "mimetype": "text/x-python",
      "codemirror_mode": {
        "name": "ipython",
        "version": 3
      },
      "pygments_lexer": "ipython3",
      "nbconvert_exporter": "python",
      "file_extension": ".py"
    },
    "nteract": {
      "version": "nteract-front-end@1.0.0"
    },
    "microsoft": {
      "host": {
        "AzureML": {
          "notebookHasBeenCompleted": true
        }
      }
    }
  },
  "nbformat": 4,
  "nbformat_minor": 2
}